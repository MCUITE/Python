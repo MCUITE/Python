{
 "cells": [
  {
   "cell_type": "markdown",
   "metadata": {},
   "source": [
    "# Chapter 08 Numpy & Matplotlib\n",
    "\n",
    "\n"
   ]
  },
  {
   "cell_type": "markdown",
   "metadata": {},
   "source": [
    "## 8-x Numpy 綜合練習\n",
    "\n",
    "\n",
    "\n"
   ]
  },
  {
   "cell_type": "markdown",
   "metadata": {},
   "source": [
    "EX 1: 將 arr 中的所有奇數替換成 -1。\n",
    "\n",
    "輸入：\n",
    "\n",
    "arr = np.array([0, 1, 2, 3, 4, 5, 6, 7, 8, 9])\n",
    "\n",
    "期望輸出：\n",
    "\n",
    "array([ 0, -1, 2, -1, 4, -1, 6, -1, 8, -1])"
   ]
  },
  {
   "cell_type": "code",
   "execution_count": null,
   "metadata": {},
   "outputs": [],
   "source": [
    "# Write your code here\n",
    "\n",
    "\n",
    "\n",
    "\n",
    "\n"
   ]
  },
  {
   "cell_type": "markdown",
   "metadata": {},
   "source": [
    "\n",
    "EX 2: \n",
    "\n",
    "寫一函式 trans1Dto2D(array)，可任意輸入 1D numpy 陣列，\n",
    "回傳為 2 列的 2D numpy 陣列。\n",
    "\n",
    "輸入：\n",
    "\n",
    "trans1Dto2D(np.array([2,3,5,3,1,3,4,6]))\n",
    "期望輸出：\n",
    "\n",
    "array([[2, 3, 5, 3],\n",
    " [1, 3, 4, 6]])\n",
    "\n",
    "\n",
    "輸入：\n",
    "\n",
    "trans1Dto2D(np.arange(18))\n",
    "\n",
    "期望輸出：\n",
    "\n",
    "array([[ 0, 1, 2, 3, 4, 5, 6, 7, 8],\n",
    "[ 9, 10, 11, 12, 13, 14, 15, 16, 17]])\n",
    "\n",
    "輸入：\n",
    "\n",
    "trans1Dto2D(np.arange(20))\n",
    "\n",
    "期望輸出：\n",
    "\n",
    "array([[ 0, 1, 2, 3, 4, 5, 6, 7, 8, 9],\n",
    " [10, 11, 12, 13, 14, 15, 16, 17, 18, 19]])"
   ]
  },
  {
   "cell_type": "code",
   "execution_count": null,
   "metadata": {},
   "outputs": [],
   "source": [
    "#Write your code here\n",
    "\n",
    "def trans1Dto2D(x):\n",
    "    \n",
    "    "
   ]
  },
  {
   "cell_type": "markdown",
   "metadata": {},
   "source": [
    "EX 3: \n",
    "\n",
    "試產生下面兩個 1D numpy 陣列，在轉成 2D numpy 陣列後，將之垂直堆疊起來。\n",
    "\n",
    "輸入：\n",
    "a = array([0, 1, 2, 3, 4, 5, 6, 7, 8, 9])\n",
    "b = array([1, 1, 1, 1, 1, 1, 1, 1, 1, 1])\n",
    "\n",
    "期望輸出：\n",
    "\n",
    "array([[0, 1, 2, 3, 4],\n",
    " [5, 6, 7, 8, 9],\n",
    " [1, 1, 1, 1, 1],\n",
    " [1, 1, 1, 1, 1]])"
   ]
  },
  {
   "cell_type": "code",
   "execution_count": null,
   "metadata": {},
   "outputs": [],
   "source": [
    "# Write your code here\n"
   ]
  },
  {
   "cell_type": "markdown",
   "metadata": {},
   "source": [
    "EX 4: \n",
    "\n",
    "若 a,b,c 等三個 1D numpy 陣列分別如下，試垂直堆疊 a, b, c 以得到一個 2D numpy 陣列 arr。\n",
    "\n",
    "再將 arr 中的第一列(row)與第二列進行交換。\n",
    "\n",
    "輸入：\n",
    "a = array([0, 1, 2, 3, 4])\n",
    "b = array([1., 1., 1., 1., 1.])\n",
    "c = array([0., 0., 0., 0., 0.])\n",
    "\n",
    "期望輸出：\n",
    "\n",
    "array([[1., 1., 1., 1., 1.],\n",
    " [0., 1., 2., 3., 4.],\n",
    " [0., 0., 0., 0., 0.]])\n",
    " "
   ]
  },
  {
   "cell_type": "code",
   "execution_count": null,
   "metadata": {},
   "outputs": [],
   "source": [
    "# Write your code here\n",
    "\n",
    "\n"
   ]
  },
  {
   "cell_type": "code",
   "execution_count": null,
   "metadata": {},
   "outputs": [],
   "source": [
    "EX 5: \n",
    "    \n",
    "對於 txt 資料，在 Numpy 裡可以使用.loadtxt 或是 np.genfromtxt 來讀取它。\n",
    "\n",
    "下面輸入的程式可以下載 iris data 的第一個維度(花萼的長度)，共 150 資料，\n",
    "\n",
    "試求其平均值(np.mean())、中位數(np.median())和標準差(np.std())。\n",
    "\n",
    "輸入：\n",
    "\n",
    "\n",
    "url = 'https://archive.ics.uci.edu/ml/machine -learning-databases/iris/iris.data'\n",
    "iris = np.genfromtxt(url, delimiter=',', dtype='object')\n",
    "sepallength = np.genfromtxt(url, delimiter=',', dtype='float', usecols=[0])\n",
    "\n",
    "期望輸出：\n",
    "\n",
    "5.843 5.8 0.825\n",
    "\n"
   ]
  },
  {
   "cell_type": "code",
   "execution_count": null,
   "metadata": {},
   "outputs": [],
   "source": [
    "# Write your code here\n",
    "import numpy as np\n",
    "\n",
    "url = 'https://archive.ics.uci.edu/ml/machine -learning-databases/iris/iris.data'\n",
    "iris = np.genfromtxt(url, delimiter=',', dtype='object')\n",
    "sepallength = np.genfromtxt(url, delimiter=',', dtype='float', usecols=[0])\n",
    "\n",
    "\n"
   ]
  },
  {
   "cell_type": "markdown",
   "metadata": {},
   "source": [
    "EX 6: \n",
    "\n",
    "承續上題，試將 iris sepallength 的資料進行正規化，使其值的分布介於 0到 1 之間。\n",
    "\n"
   ]
  },
  {
   "cell_type": "code",
   "execution_count": null,
   "metadata": {},
   "outputs": [],
   "source": [
    "# Write your code here\n",
    "import numpy as np\n",
    "\n",
    "\n",
    "url = 'https://archive.ics.uci.edu/ml/machine -learning-databases/iris/iris.data'\n",
    "sepallength = np.genfromtxt(url, delimiter=',', dtype='float', usecols=[0])\n",
    "\n",
    "\n"
   ]
  },
  {
   "cell_type": "markdown",
   "metadata": {},
   "source": [
    "EX 7: \n",
    "\n",
    "過濾 iris_2d 的資料，找出滿足 petallength(第三行) > 1.5 和 sepallength(第一行) < 5.0 的所有列。\n",
    "\n",
    "輸入：\n",
    "\n",
    "url = 'https://archive.ics.uci.edu/ml/machine -learning-databases/iris/iris.data'\n",
    "iris_2d = np.genfromtxt(url, delimiter=',', dtype='float', usecols=[0,1,2,3])\n",
    "\n",
    "期望輸出：\n",
    "\n",
    "array([[4.8, 3.4, 1.6, 0.2],\n",
    " [4.8, 3.4, 1.9, 0.2],\n",
    " [4.7, 3.2, 1.6, 0.2],\n",
    " [4.8, 3.1, 1.6, 0.2],\n",
    " [4.9, 2.4, 3.3, 1. ],\n",
    " [4.9, 2.5, 4.5, 1.7]])\n",
    " "
   ]
  },
  {
   "cell_type": "code",
   "execution_count": null,
   "metadata": {},
   "outputs": [],
   "source": [
    "# Input\n",
    "import numpy as np\n",
    "\n",
    "url = 'https://archive.ics.uci.edu/ml/machine-learning-databases/iris/iris.data'\n",
    "iris_2d = np.genfromtxt(url, delimiter=',', dtype='float', usecols=[0,1,2,3])\n"
   ]
  },
  {
   "cell_type": "markdown",
   "metadata": {},
   "source": [
    "EX 8: \n",
    "\n",
    "試撰寫一個函式 mindivmax(array)，該函式能將傳入的 numpy 2D 陣列之所\n",
    "有 列 (row)的 最 大 值 與 最 小 值 求 出 ， 並 且 回 傳 每 一 列 計 算 最 小 值 /最 大 值\n",
    "(min-by-max)的結果。\n",
    "\n",
    "輸入：\n",
    "\n",
    "mindivmax(np.array([[9, 9, 4],[8, 8, 1],[5, 3, 6],[3, 3, 3],[2, 1, 9]]))\n",
    "\n",
    "期望輸出：\n",
    "\n",
    "array([0.44444444, 0.125 , 0.5 , 1. , 0.11111111])"
   ]
  },
  {
   "cell_type": "code",
   "execution_count": null,
   "metadata": {},
   "outputs": [],
   "source": [
    "#Write your code here\n",
    "\n",
    "def mindivmax(array):\n",
    "    \n",
    "    \n",
    "    \n",
    "    \n",
    "    \n",
    "    "
   ]
  },
  {
   "cell_type": "markdown",
   "metadata": {},
   "source": [
    "EX 9: \n",
    "    \n",
    "試 實 現 一 個 能 計 算 兩 個 1D numpy 陣 列 之 間 的 歐 幾 里 得 距 離 的 函 式 norm(a,b)。\n",
    "\n",
    "輸入：\n",
    "\n",
    "norm(np.array([1,2,3,4,5]),np.array([4,5,6,7,8]))\n",
    "\n",
    "\n",
    "期望輸出：\n",
    "\n",
    "6.7082"
   ]
  },
  {
   "cell_type": "code",
   "execution_count": null,
   "metadata": {},
   "outputs": [],
   "source": [
    "# Write your code here\n"
   ]
  }
 ],
 "metadata": {
  "kernelspec": {
   "display_name": "Python 3",
   "language": "python",
   "name": "python3"
  },
  "language_info": {
   "codemirror_mode": {
    "name": "ipython",
    "version": 3
   },
   "file_extension": ".py",
   "mimetype": "text/x-python",
   "name": "python",
   "nbconvert_exporter": "python",
   "pygments_lexer": "ipython3",
   "version": "3.7.6"
  }
 },
 "nbformat": 4,
 "nbformat_minor": 4
}
