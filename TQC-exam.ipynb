{
 "cells": [
  {
   "cell_type": "markdown",
   "metadata": {},
   "source": [
    "# 程式語言 Python 3 範例試卷\n"
   ]
  },
  {
   "cell_type": "markdown",
   "metadata": {},
   "source": [
    "## 一、浮點數格式化輸出"
   ]
  },
  {
   "cell_type": "markdown",
   "metadata": {},
   "source": [
    "* 請撰寫一程式，輸入四個分別含有小數 1 到 4 位的浮點數，然後將這 四個浮點數以欄寬為 7、每列印兩個的方式，先列印向右靠齊，再列印向左靠齊，左右皆以直線 |(Vertical bar)作為邊界。\n",
    "* 提示:輸出浮點數到小數點後第二位。"
   ]
  },
  {
   "cell_type": "code",
   "execution_count": 7,
   "metadata": {},
   "outputs": [],
   "source": [
    "#!/bin/python3"
   ]
  },
  {
   "cell_type": "code",
   "execution_count": 8,
   "metadata": {},
   "outputs": [
    {
     "name": "stdout",
     "output_type": "stream",
     "text": [
      "輸入四個分別含有小數 1 到 4 位的浮點數\n"
     ]
    }
   ],
   "source": [
    "print(\"輸入四個分別含有小數 1 到 4 位的浮點數\")"
   ]
  },
  {
   "cell_type": "markdown",
   "metadata": {},
   "source": [
    "使用 input() 函數輸入浮點數時, 會被當成字串.\n",
    "所以要加上 float() 使其轉換成浮點數"
   ]
  },
  {
   "cell_type": "code",
   "execution_count": 9,
   "metadata": {},
   "outputs": [
    {
     "name": "stdout",
     "output_type": "stream",
     "text": [
      "43.35\n",
      "33.123\n",
      "644.322\n",
      "131.23\n"
     ]
    }
   ],
   "source": [
    "a1 = float(input())\n",
    "a2 = float(input())\n",
    "a3 = float(input())\n",
    "a4 = float(input())"
   ]
  },
  {
   "cell_type": "markdown",
   "metadata": {},
   "source": [
    "#### 使用 print() 函數輸出.\n",
    "使用格式字元 %7.2f 可以輸出欄寬7, 兩位小數的浮點數, 並且靠右對齊"
   ]
  },
  {
   "cell_type": "code",
   "execution_count": 10,
   "metadata": {},
   "outputs": [
    {
     "name": "stdout",
     "output_type": "stream",
     "text": [
      "|  43.35   33.12|\n",
      "| 644.32  131.23|\n"
     ]
    }
   ],
   "source": [
    "print(\"|%7.2f %7.2f|\" % (a1,a2))\n",
    "print(\"|%7.2f %7.2f|\" % (a3, a4))"
   ]
  },
  {
   "cell_type": "markdown",
   "metadata": {},
   "source": [
    "要設定為靠左對齊, 可以在格式加上 '-'"
   ]
  },
  {
   "cell_type": "code",
   "execution_count": 11,
   "metadata": {},
   "outputs": [
    {
     "name": "stdout",
     "output_type": "stream",
     "text": [
      "|43.35   33.12  |\n",
      "|644.32  131.23 |\n"
     ]
    }
   ],
   "source": [
    "print(\"|%-7.2f %-7.2f|\" % (a1,a2))\n",
    "print(\"|%-7.2f %-7.2f|\" % (a3, a4))"
   ]
  },
  {
   "cell_type": "markdown",
   "metadata": {},
   "source": [
    "## 二、倍數判斷\n",
    "\n",
    "請使用選擇敘述撰寫一程式，讓使用者輸入一個正整數，然後判斷它是3或5的倍數，\n",
    "若此數值同時為3與5的倍數，顯示【x is a multiple of 3 and 5.】;\n",
    "如此數值皆不屬於3或5的倍數，顯示【 x is not a multiple of 3 or 5.】，將使用者輸入的數值代入 x。"
   ]
  },
  {
   "cell_type": "code",
   "execution_count": 12,
   "metadata": {},
   "outputs": [
    {
     "name": "stdout",
     "output_type": "stream",
     "text": [
      "Please input a number:37\n"
     ]
    }
   ],
   "source": [
    "#先輸入一個正整數\n",
    "\n",
    "a5 = int(input(\"Please input a number:\"))"
   ]
  },
  {
   "cell_type": "markdown",
   "metadata": {},
   "source": [
    "判斷是否同時為 3 的倍數:"
   ]
  },
  {
   "cell_type": "code",
   "execution_count": 13,
   "metadata": {},
   "outputs": [
    {
     "name": "stdout",
     "output_type": "stream",
     "text": [
      "37\n"
     ]
    }
   ],
   "source": [
    "print (a5)\n",
    "if ( a5 % 3 == 0):\n",
    "    print (\"%d is a multiple of 3\" % a5)"
   ]
  },
  {
   "cell_type": "markdown",
   "metadata": {},
   "source": [
    "判斷是否同時為 5 的倍數:"
   ]
  },
  {
   "cell_type": "code",
   "execution_count": 14,
   "metadata": {},
   "outputs": [],
   "source": [
    "if (a5 % 5 ==0):\n",
    "    print(\"%d is a multiple of 5\" % a5)"
   ]
  },
  {
   "cell_type": "markdown",
   "metadata": {},
   "source": [
    "把前面的敘述句寫在一起"
   ]
  },
  {
   "cell_type": "code",
   "execution_count": 15,
   "metadata": {},
   "outputs": [
    {
     "name": "stdout",
     "output_type": "stream",
     "text": [
      "37 is not a multiple of 3 or 5\n"
     ]
    }
   ],
   "source": [
    "if (a5%3 ==0):\n",
    "    # 是 3 的倍數\n",
    "    if (a5% 5 == 0):\n",
    "        # 也是 5 的倍數\n",
    "        print (\"%d is a multiple of 3 and 5\" % a5)\n",
    "    else:\n",
    "        # 只是 3 的倍數, 不是 5 的倍數\n",
    "        print (\"%d is a multiple of 3\" % a5)\n",
    "else:\n",
    "    # 不是 3 的倍數\n",
    "    if (a5% 5 == 0):\n",
    "        print (\"%d is a multiple of 5\" % a5)\n",
    "    else:\n",
    "        print (\"%d is not a multiple of 3 or 5\" % a5)\n"
   ]
  },
  {
   "cell_type": "markdown",
   "metadata": {},
   "source": [
    "## 三、迴圈偶數連加"
   ]
  },
  {
   "cell_type": "markdown",
   "metadata": {},
   "source": [
    "請使用迴圈敘述撰寫一程式，讓使用者輸入兩個正整數 a、b(a < b)， 利用迴圈計算從 a 開始的偶數連加到 b 的總和。\n",
    "例如:輸入 a=1、 b=100，則輸出結果為 2550(2 + 4 + ... + 100 = 2550)。"
   ]
  },
  {
   "cell_type": "code",
   "execution_count": 24,
   "metadata": {},
   "outputs": [
    {
     "name": "stdout",
     "output_type": "stream",
     "text": [
      "56\n",
      "30\n"
     ]
    }
   ],
   "source": [
    "# 先輸入兩個正整數\n",
    "a = int(input())\n",
    "b = int(input())"
   ]
  },
  {
   "cell_type": "markdown",
   "metadata": {},
   "source": [
    "因為要正整數, 且要 a< b"
   ]
  },
  {
   "cell_type": "code",
   "execution_count": 25,
   "metadata": {},
   "outputs": [
    {
     "name": "stdout",
     "output_type": "stream",
     "text": [
      "a 要大於b\n"
     ]
    }
   ],
   "source": [
    "if ((a < 0) or (b < 0)):\n",
    "    print(\"請輸入正整數!\")\n",
    "    \n",
    "if (a > b):\n",
    "    print(\"a 要大於b\")"
   ]
  },
  {
   "cell_type": "markdown",
   "metadata": {},
   "source": [
    "計算迴圈, 從 a 開始的偶數到 b 的偶數\n",
    "如果 a 是奇數, 從 a+1 開始\n",
    "如果 b 是奇數, 算到 b-1 為止"
   ]
  },
  {
   "cell_type": "code",
   "execution_count": 21,
   "metadata": {},
   "outputs": [
    {
     "name": "stdout",
     "output_type": "stream",
     "text": [
      "30 64\n"
     ]
    }
   ],
   "source": [
    "if (a%2):\n",
    "    a = a +1\n",
    "if ((b%2)!=0):\n",
    "    b = b -1\n"
   ]
  },
  {
   "cell_type": "markdown",
   "metadata": {},
   "source": [
    "for 迴圈中用 range(a, b, c), 從 a 開始到 b 結束, 間隔 c"
   ]
  },
  {
   "cell_type": "code",
   "execution_count": 23,
   "metadata": {},
   "outputs": [
    {
     "name": "stdout",
     "output_type": "stream",
     "text": [
      "782\n"
     ]
    }
   ],
   "source": [
    "sum = 0\n",
    "for i in range(a, b, 2):\n",
    "    sum = sum + i\n",
    "print (sum)"
   ]
  },
  {
   "cell_type": "markdown",
   "metadata": {},
   "source": [
    "## 四、不定數迴圈-最小值"
   ]
  },
  {
   "cell_type": "markdown",
   "metadata": {},
   "source": [
    "請撰寫一程式，讓使用者輸入數字，輸入的動作直到輸入值為 9999才結束，然後找出其最小值，並輸出最小值。"
   ]
  },
  {
   "cell_type": "markdown",
   "metadata": {},
   "source": [
    "先設定最小值"
   ]
  },
  {
   "cell_type": "code",
   "execution_count": 30,
   "metadata": {},
   "outputs": [],
   "source": [
    "min = 99999999999999999"
   ]
  },
  {
   "cell_type": "markdown",
   "metadata": {},
   "source": [
    "因為要一直輸入, 所以用無限迴圈"
   ]
  },
  {
   "cell_type": "code",
   "execution_count": 32,
   "metadata": {},
   "outputs": [
    {
     "name": "stdout",
     "output_type": "stream",
     "text": [
      "6543\n",
      "333\n",
      "33234\n",
      "3124312342\n",
      "32132\n",
      "123\n",
      "2\n",
      "3\n",
      "4\n",
      "9999\n"
     ]
    }
   ],
   "source": [
    "while True:\n",
    "    # 輸入一個整數, 並且判斷是不是 9999. 若是 9999 則跳出迴圈\n",
    "    a = int(input())\n",
    "    if (a == 9999):\n",
    "            break\n",
    "    # 若輸入的值比最小值小, 則改成最小值\n",
    "    if (a < min):\n",
    "        min = a"
   ]
  },
  {
   "cell_type": "markdown",
   "metadata": {},
   "source": [
    "迴圈處理完把最小值印出來\n",
    "注意縮排"
   ]
  },
  {
   "cell_type": "code",
   "execution_count": 33,
   "metadata": {},
   "outputs": [
    {
     "name": "stdout",
     "output_type": "stream",
     "text": [
      "The min value is 2\n"
     ]
    }
   ],
   "source": [
    "print (\"The min value is %d\" % min)"
   ]
  },
  {
   "cell_type": "markdown",
   "metadata": {},
   "source": [
    "## 五、乘積"
   ]
  },
  {
   "cell_type": "markdown",
   "metadata": {},
   "source": [
    "請撰寫一程式，將使用者輸入的兩個數字作為參數傳遞給一個名為 compute(x, y)的函式，此函式將回傳 x 和 y 的乘積。"
   ]
  },
  {
   "cell_type": "markdown",
   "metadata": {},
   "source": [
    "先把函式定義好"
   ]
  },
  {
   "cell_type": "code",
   "execution_count": 35,
   "metadata": {},
   "outputs": [],
   "source": [
    "def compute(x,y):\n",
    "    return x * y"
   ]
  },
  {
   "cell_type": "code",
   "execution_count": 36,
   "metadata": {},
   "outputs": [
    {
     "name": "stdout",
     "output_type": "stream",
     "text": [
      "請輸入第一個數字:32\n",
      "請輸入第二個數字:25\n"
     ]
    }
   ],
   "source": [
    "a = int(input(\"請輸入第一個數字:\"))\n",
    "b = int(input(\"請輸入第二個數字:\"))"
   ]
  },
  {
   "cell_type": "code",
   "execution_count": 38,
   "metadata": {},
   "outputs": [
    {
     "name": "stdout",
     "output_type": "stream",
     "text": [
      "32 與 25 之乘積為 800\n"
     ]
    }
   ],
   "source": [
    "print(\"%d 與 %d 之乘積為 %d\" % (a, b, compute(a,b)))"
   ]
  },
  {
   "cell_type": "markdown",
   "metadata": {},
   "source": [
    "## 六、撲克牌總和\n",
    "\n",
    "請撰寫一程式，讓使用者輸入 52 張牌中的 5 張，計算並輸出其總和。\n",
    "提示:J、Q、K 以及 A 分別代表 11、12、13 以及 1。"
   ]
  },
  {
   "cell_type": "markdown",
   "metadata": {},
   "source": [
    "用 dictionary 查表"
   ]
  },
  {
   "cell_type": "code",
   "execution_count": 4,
   "metadata": {},
   "outputs": [],
   "source": [
    "poker = { 'A': 1, '2': 2, '3': 3, '4' : 4, '5': 5, '6': 6, '7': 7, '8': 8, '9': 9, '10': 10, 'J': 11, 'Q': 12, 'K': 13}"
   ]
  },
  {
   "cell_type": "markdown",
   "metadata": {},
   "source": [
    "建立空串列"
   ]
  },
  {
   "cell_type": "code",
   "execution_count": 5,
   "metadata": {},
   "outputs": [],
   "source": [
    "sum = 0"
   ]
  },
  {
   "cell_type": "code",
   "execution_count": 6,
   "metadata": {},
   "outputs": [
    {
     "name": "stdout",
     "output_type": "stream",
     "text": [
      "輸入一張牌:A\n",
      "1\n",
      "輸入一張牌:J\n",
      "11\n",
      "輸入一張牌:Q\n",
      "12\n",
      "輸入一張牌:K\n",
      "13\n",
      "輸入一張牌:10\n",
      "10\n"
     ]
    }
   ],
   "source": [
    "for i in range (0,5):\n",
    "    card = input(\"輸入一張牌:\")\n",
    "    print(poker[card])\n",
    "    sum = sum + poker[card]"
   ]
  },
  {
   "cell_type": "code",
   "execution_count": 7,
   "metadata": {},
   "outputs": [
    {
     "name": "stdout",
     "output_type": "stream",
     "text": [
      "47\n"
     ]
    }
   ],
   "source": [
    "print (sum)"
   ]
  },
  {
   "cell_type": "markdown",
   "metadata": {},
   "source": []
  }
 ],
 "metadata": {
  "kernelspec": {
   "display_name": "Python 3",
   "language": "python",
   "name": "python3"
  },
  "language_info": {
   "codemirror_mode": {
    "name": "ipython",
    "version": 3
   },
   "file_extension": ".py",
   "mimetype": "text/x-python",
   "name": "python",
   "nbconvert_exporter": "python",
   "pygments_lexer": "ipython3",
   "version": "3.7.6"
  }
 },
 "nbformat": 4,
 "nbformat_minor": 4
}
