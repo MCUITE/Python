{
 "cells": [
  {
   "cell_type": "markdown",
   "metadata": {},
   "source": [
    "# Chapter 02\n",
    "\n",
    "變數、資料型別 與運算子\n"
   ]
  },
  {
   "cell_type": "markdown",
   "metadata": {},
   "source": [
    "## 2-1 變數"
   ]
  },
  {
   "cell_type": "markdown",
   "metadata": {},
   "source": [
    "\n",
    "在 Python 程式運行過程中，數值或字串之類的資料是儲存在記憶體的一塊空間中;要存取資料時，我們必須知道這塊記憶體空間的位置。\n",
    "\n",
    "然而，使用 記憶體位址編碼值來存取資料是相當不方便的，因此我們會使用一個明確或具 意義的名稱變數來代表儲存在記憶體中的資料。\n",
    "\n",
    "變數(Variable)在程式裡就是一個名稱，它也是指向資料儲存空間的參考值。 \n",
    "\n",
    "當我們將資料指定給變數，就是將資料儲存至變數所指向的記憶體空間裡;\n",
    "\n",
    "而呼叫變數時，就是呼叫變數所指向的記憶體空間裡的資料來供程式的運算使用。\n"
   ]
  },
  {
   "cell_type": "markdown",
   "metadata": {},
   "source": [
    "### 變數的命名與指派方式"
   ]
  },
  {
   "cell_type": "markdown",
   "metadata": {},
   "source": [
    "\n",
    "變數的名稱只能以英文字母(A-Z, a-z)、數字(0-9)以及底線(_)來組成， 而且不得以數字開頭，也不能和關鍵字(保留字)相同。\n",
    "\n",
    "與某些程式語言(如 C/C++) 不同的地方是，在 Python 中使用變數並不需要事先宣告變數的類型，可以直接利 用\"=\"運算子(assignment operator)指派數值給變數，而型別是動態的，會根據指派 時的物件來決定型別。\n",
    "\n",
    "例如:\n"
   ]
  },
  {
   "cell_type": "code",
   "execution_count": null,
   "metadata": {},
   "outputs": [],
   "source": [
    "n = 10 #把數值10指派給變數 n \n",
    "print(n)\n",
    "myName = 'Apple' #建立變數myName的資料型別為字串，且值為Apple\n",
    "print(myName)\n",
    "x = y = z = 12 #多個變數一起指定\n",
    "age, myName = 20, 'Apple' #多個變數一起指定\n",
    "print(x, y, z, age, myName)"
   ]
  },
  {
   "cell_type": "markdown",
   "metadata": {},
   "source": [
    "\n",
    "變數也可以利用 del 來刪除:\n"
   ]
  },
  {
   "cell_type": "code",
   "execution_count": null,
   "metadata": {},
   "outputs": [],
   "source": [
    "x = y = z = 12 #多個變數一起指定\n",
    "del x\n",
    "print(x)"
   ]
  },
  {
   "cell_type": "markdown",
   "metadata": {},
   "source": [
    "\n",
    "執行後會發現, 利用 del 刪除變數 x 後，x 便無定義(not defined)\n"
   ]
  },
  {
   "cell_type": "markdown",
   "metadata": {},
   "source": [
    "\n",
    "值得注意的是，在 Python 世界中，所有東西都是物件(object)，資料(data)也是物件。\n",
    "\n",
    "每個物件會有自己的 id 號碼、型態 (type)及數值(value)，決定它做什麼樣的操作;物件的 id 號碼可視為系統所配置的記憶體位置，型別則決定了物件要以哪一種資料來存放，數值則是物件存放的資料;\n",
    "\n",
    "而這些物件的內容可用 id()、 type()、print()等三個內建函數來取得。\n",
    "\n",
    "例如:\n"
   ]
  },
  {
   "cell_type": "code",
   "execution_count": null,
   "metadata": {},
   "outputs": [],
   "source": [
    "x = \"12\"\n",
    "print(id(x))\n",
    "print(type(x))\n",
    "print(x)"
   ]
  },
  {
   "cell_type": "markdown",
   "metadata": {},
   "source": [
    "### 變數內容的置換"
   ]
  },
  {
   "cell_type": "markdown",
   "metadata": {},
   "source": [
    "\n",
    "在 C/C++等程式語言中，要把兩個變數進行置換，必需藉由第 3 個變數來暫 存。例如下面的作法:\n"
   ]
  },
  {
   "cell_type": "code",
   "execution_count": null,
   "metadata": {},
   "outputs": [],
   "source": [
    "x, y = 12, 16\n",
    "print(x, y)\n",
    "temp = x\n",
    "x=y\n",
    "y = temp\n",
    "print(x, y)"
   ]
  },
  {
   "cell_type": "markdown",
   "metadata": {},
   "source": [
    "\n",
    "但是在 Python 中，透過多個變數一起指定的方式，可以很簡易的完成兩個變數的置換，\n",
    "\n",
    "例如:\n"
   ]
  },
  {
   "cell_type": "code",
   "execution_count": null,
   "metadata": {},
   "outputs": [],
   "source": [
    "x, y = 12, 16\n",
    "print(x, y)\n",
    "y, x = x, y\n",
    "print(x, y)"
   ]
  },
  {
   "cell_type": "markdown",
   "metadata": {},
   "source": [
    "## 2-2 資料型別"
   ]
  },
  {
   "cell_type": "markdown",
   "metadata": {},
   "source": [
    "\n",
    "在 Python 世界裡，大致有以下幾種常用的資料型別:\n",
    "\n",
    "1. 文字序列型別:字串(string)\n",
    "2. 數值型別:整數(int)、浮點數(float)、布林(bool)\n",
    "\n",
    "另外還有複雜資料型別，如 list, tuple, dict, set 等，我們在另外章節討論。\n"
   ]
  },
  {
   "cell_type": "markdown",
   "metadata": {},
   "source": [
    "### 字串\n"
   ]
  },
  {
   "cell_type": "markdown",
   "metadata": {},
   "source": [
    "\n",
    "字串資料是以單引號(')或雙引號(\")所包起來的文字資料，它是由一連串字元所組成。\n",
    "\n",
    "例如:\n"
   ]
  },
  {
   "cell_type": "code",
   "execution_count": null,
   "metadata": {},
   "outputs": [],
   "source": [
    "mystr1 = 'physics'\n",
    "mystr2 = \"Peter\"\n",
    "print(mystr1)\n",
    "print(mystr2)\n",
    "print(\"Hello World!\")"
   ]
  },
  {
   "cell_type": "markdown",
   "metadata": {},
   "source": [
    "\n",
    "“+運算子”可以針對兩個字串資料作串接的運算，代表將兩個字串資料串接起來:。\n"
   ]
  },
  {
   "cell_type": "code",
   "execution_count": null,
   "metadata": {},
   "outputs": [],
   "source": [
    "x = 'Hello!'\n",
    "y = 'Good morning!'\n",
    "print(x + y)"
   ]
  },
  {
   "cell_type": "markdown",
   "metadata": {},
   "source": [
    "利用 len()這個函式則可以計算字串的長度，\n",
    "\n",
    "例如:"
   ]
  },
  {
   "cell_type": "code",
   "execution_count": null,
   "metadata": {},
   "outputs": [],
   "source": [
    "x = 'Hello World' \n",
    "print(len(x))"
   ]
  },
  {
   "cell_type": "markdown",
   "metadata": {},
   "source": [
    "\n",
    "利用 * 運算子可以重覆字串的內容，\n",
    "\n",
    "例如:\n"
   ]
  },
  {
   "cell_type": "code",
   "execution_count": null,
   "metadata": {},
   "outputs": [],
   "source": [
    "x = 'Hello World!' \n",
    "print(x * 3)"
   ]
  },
  {
   "cell_type": "markdown",
   "metadata": {},
   "source": [
    "\n",
    "利用索引運算子(即中括號[])可以取出字串的部份內容。\n",
    "\n",
    "例如:\n"
   ]
  },
  {
   "cell_type": "code",
   "execution_count": null,
   "metadata": {},
   "outputs": [],
   "source": [
    "mystr = 'Hello World'\n",
    "print(mystr[7])\n",
    "print(mystr[0:8])"
   ]
  },
  {
   "cell_type": "markdown",
   "metadata": {},
   "source": [
    "\n",
    "字串的索引值是從 0 開始的，所以 mystr[7]代表要取出 mystr 字串裡的 第 8 個字元 o。\n",
    "\n",
    "取字串的索引範圍時，需要設定左邊界及右邊界;但要注意的是，字串只會取至右邊界前一個字元，並不包含右邊界。\n",
    "\n",
    "所以 mystr[0:8]就是 從 mystr 字串的第 1 個字元取到第 8 個字元，並不會包含 mystr[8]。\n"
   ]
  },
  {
   "cell_type": "markdown",
   "metadata": {},
   "source": [
    "而利用 type()函式則可以得知下面例子之資料變數的型別為字串(str):"
   ]
  },
  {
   "cell_type": "code",
   "execution_count": null,
   "metadata": {},
   "outputs": [],
   "source": [
    "mystr = 'Hello World' \n",
    "type(mystr)"
   ]
  },
  {
   "cell_type": "markdown",
   "metadata": {},
   "source": [
    "### 數值資料"
   ]
  },
  {
   "cell_type": "markdown",
   "metadata": {},
   "source": [
    "\n",
    "1. 整數(int)\n",
    "\n",
    "Int 型別代表整數。\n",
    "\n",
    "在 Python 3 中，除了硬體上的限制之外，整數的長度是不受限制的，當我們指派整數值給某一變數時，其預設值是十進位整數:\n"
   ]
  },
  {
   "cell_type": "code",
   "execution_count": null,
   "metadata": {},
   "outputs": [],
   "source": [
    "a = 10\n",
    "print('值:',a)\n",
    "print('型別:', type(a))"
   ]
  },
  {
   "cell_type": "markdown",
   "metadata": {},
   "source": [
    "\n",
    "2. 浮點數(float)\n",
    "\n",
    "float 型別代表浮點數，也就是有小數的數值:\n"
   ]
  },
  {
   "cell_type": "code",
   "execution_count": null,
   "metadata": {},
   "outputs": [],
   "source": [
    "a = 10.1024\n",
    "print('值:',a)\n",
    "print('型別:', type(a))"
   ]
  },
  {
   "cell_type": "markdown",
   "metadata": {},
   "source": [
    "\n",
    "3. 布林(bool)\n",
    "\n",
    "bool 型別有 True(真)和 False(假)兩種值:\n"
   ]
  },
  {
   "cell_type": "code",
   "execution_count": null,
   "metadata": {},
   "outputs": [],
   "source": [
    "a, b = 10, 20\n",
    "print(a > b) # False\n",
    "print(a < b) # True\n",
    "print(1 == 2) # False"
   ]
  },
  {
   "cell_type": "markdown",
   "metadata": {},
   "source": [
    "當一個整數和一個浮點數進行運算時，Python 會自動將整數轉換為浮點數，這也稱為型別轉換(type conversion)。\n",
    "\n",
    "int, float 和 str 之間是可以使用內建 函式來進行相互轉換的。\n",
    "\n",
    "\n",
    "若想取得浮點數的整數部份時，可以利用 int()來實現，執行後原浮點數小數點後的數字會被刪去。\n",
    "\n",
    "例如:"
   ]
  },
  {
   "cell_type": "code",
   "execution_count": null,
   "metadata": {},
   "outputs": [],
   "source": [
    "a = 10.1024\n",
    "print(int(a))\n",
    "type(int(a))"
   ]
  },
  {
   "cell_type": "markdown",
   "metadata": {},
   "source": [
    "\n",
    "我們也可以利用 round()來四捨五入某一浮點數。例如:\n"
   ]
  },
  {
   "cell_type": "code",
   "execution_count": null,
   "metadata": {},
   "outputs": [],
   "source": [
    "a = 10.1024\n",
    "print(round(a))\n",
    "type(round(a))"
   ]
  },
  {
   "cell_type": "markdown",
   "metadata": {},
   "source": [
    "\n",
    "int()函式也可以將整數字串轉換為整數，\n",
    "\n",
    "例如 int('24')的執行結果會回傳 24 的整數值:\n"
   ]
  },
  {
   "cell_type": "code",
   "execution_count": null,
   "metadata": {},
   "outputs": [],
   "source": [
    "a= '24'\n",
    "print(int(a))\n",
    "type(int(a))"
   ]
  },
  {
   "cell_type": "markdown",
   "metadata": {},
   "source": [
    "\n",
    "float()則可以將整數轉換成浮點數，例如 float(10)的執行結果會回傳 10.0 的浮點數:\n",
    "\n"
   ]
  },
  {
   "cell_type": "code",
   "execution_count": null,
   "metadata": {},
   "outputs": [],
   "source": [
    "a = 10\n",
    "print(float(a))\n",
    "type(float(a))"
   ]
  },
  {
   "cell_type": "markdown",
   "metadata": {},
   "source": [
    "\n",
    "Python 提供了 input()這個簡單的內建函數來獲取使用者在鍵盤輸入的資訊，使用者輸入的文字則以字串傳回。\n",
    "\n",
    "同理，我們也可以在取得使用者輸入的整數字串後，將之轉換為整數型別，以利後續的計算使用:\n"
   ]
  },
  {
   "cell_type": "code",
   "execution_count": null,
   "metadata": {},
   "outputs": [],
   "source": [
    "a = int(input()) #用int()包住input()，將整數字串轉換成整數型別\n",
    "type(a)\n"
   ]
  },
  {
   "cell_type": "markdown",
   "metadata": {},
   "source": [
    "## 2-3 運算子\n"
   ]
  },
  {
   "cell_type": "markdown",
   "metadata": {},
   "source": [
    "\n",
    "Python 中比較常用的運算子，若依其功能區分則大致上可以分為算術運 算子(Arithmetic operator)、比較運算子(Comparison operator)、邏輯運算子(Logical operator)和指派運算子(Assignment operator)等幾種。\n"
   ]
  },
  {
   "cell_type": "markdown",
   "metadata": {},
   "source": [
    "\n",
    "運算子(operator)和運算元(operand)便可以組成運算式，以進行特定目標的運算。\n",
    "\n",
    "算式 x + y 就是一個運算式， + 是運算子，而 x 和 y 都是運算 元。\n",
    "\n",
    "當 x 和 y 分屬於兩種不同型別的資料，例如 x 為整數而 y 為浮點數時， Python 會自動進行型別轉換，將之轉換成共同之型別，以利後續的運算。\n",
    "\n",
    "例如，6 + 12.10 這個運算式是執行整數 6 和浮點數 12.10 的加法，在運算過程時， Python 會先將整數 6 轉成浮點數 6.0，再和 12.10 相加，得到 18.10 的浮點數。\n",
    "\n"
   ]
  },
  {
   "cell_type": "markdown",
   "metadata": {},
   "source": [
    "\n",
    "### 2-3-1 算術運算子\n",
    "\n",
    "除了可以用來執行數學的四則運算(+、-、* 、/)，還提供求餘數(%)、整數除法(//)以及次方運算( * * ) 等計算功能\n"
   ]
  },
  {
   "cell_type": "markdown",
   "metadata": {},
   "source": [
    "| 運算子    |     說明      | 舉例    |  結果   |\n",
    "|--------|---------|------|------|\n",
    "|   ＋        |     加法      | 3 + 2  |    5      |\n",
    "|   -         |     減法|      | 3 - 2  |    1      |\n",
    "|   *         |     乘法       | 3 * 2  |    6     |\n",
    "|   /        |  浮點除法   | 3 / 2 | 1.5    |\n",
    "|   //      |  整數除法  | 3//2  |    1    |\n",
    "|    %     |  取餘數      | 3%2 |    1    |\n",
    "|   * *      | 次方運算子|  3** 2  |    9    |"
   ]
  },
  {
   "cell_type": "markdown",
   "metadata": {},
   "source": [
    "\n",
    "例如:\n"
   ]
  },
  {
   "cell_type": "code",
   "execution_count": 1,
   "metadata": {},
   "outputs": [
    {
     "name": "stdout",
     "output_type": "stream",
     "text": [
      "a + b =  50\n",
      "a - b =  -10\n",
      "a * b =  600\n",
      "a / b =  0.6666666666666666\n",
      "a % b =  20\n",
      "a // b =  0\n",
      "a ** 3 =  8000\n"
     ]
    }
   ],
   "source": [
    "a = 20\n",
    "b = 30\n",
    "print(\"a + b = \", a + b)\n",
    "print(\"a - b = \", a - b)\n",
    "print(\"a * b = \", a * b)\n",
    "print(\"a / b = \", a / b)\n",
    "print(\"a % b = \", a % b)\n",
    "print(\"a // b = \", a // b)\n",
    "print(\"a ** 3 = \", a ** 3)"
   ]
  },
  {
   "cell_type": "code",
   "execution_count": null,
   "metadata": {},
   "outputs": [],
   "source": []
  },
  {
   "cell_type": "code",
   "execution_count": null,
   "metadata": {},
   "outputs": [],
   "source": []
  },
  {
   "cell_type": "code",
   "execution_count": null,
   "metadata": {},
   "outputs": [],
   "source": []
  }
 ],
 "metadata": {
  "kernelspec": {
   "display_name": "Python 3",
   "language": "python",
   "name": "python3"
  },
  "language_info": {
   "codemirror_mode": {
    "name": "ipython",
    "version": 3
   },
   "file_extension": ".py",
   "mimetype": "text/x-python",
   "name": "python",
   "nbconvert_exporter": "python",
   "pygments_lexer": "ipython3",
   "version": "3.7.4"
  }
 },
 "nbformat": 4,
 "nbformat_minor": 4
}
