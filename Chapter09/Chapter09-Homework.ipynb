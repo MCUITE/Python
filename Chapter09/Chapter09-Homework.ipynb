{
 "cells": [
  {
   "cell_type": "markdown",
   "metadata": {},
   "source": [
    "# Chapter 09 資料下載與網路爬蟲\n"
   ]
  },
  {
   "cell_type": "markdown",
   "metadata": {},
   "source": [
    "## Homework\n",
    "\n",
    "\n"
   ]
  },
  {
   "cell_type": "markdown",
   "metadata": {},
   "source": [
    "### Homework #1 解析 CSV\n",
    "\n",
    "水庫每日營運狀況\n",
    "\n",
    "<url>https://data.gov.tw/dataset/41568</url>\n",
    "\n",
    "擷取 CSV 檔\n",
    "\n",
    "<url>https://data.wra.gov.tw/Service/OpenData.aspx?format=csv&id=50C8256D-30C5-4B8D-9B84-2E14D5C6DF71</url>\n",
    "\n",
    "列出所有水庫的  名稱, 有效容量\n",
    "\n",
    "\n",
    "資料資源欄位: \n",
    "CatchmentAreaRainfall(集水區雨量，前一日累積降雨量[單位為毫米])、CrossFlow(放流量合計，單位為萬立方公尺)、DeadStorageLevel(呆水位，單位為公尺)、EffectiveCapacity(有效容量，單位為萬立方公尺)、FullWaterLevel(滿水位，單位為公尺)、InflowVolume(進水量，單位為萬立方公尺)、Outflow(取用水量，單位為萬立方公尺)、OutflowDischarge(排洪道流量，單位為萬立方公尺)、OutflowTotal(出水量合計，單位為萬立方公尺)、RecordTime(紀錄時間，由各水庫管理單位在每日上午輸入前一日水庫蓄水統計資料[星期六、日之資料則在星期一統一輸入])、RegulatoryDischarge(溢洪道流量，單位為萬立方公尺)、ReservoirIdentifier(水庫編號)、ReservoirName(水庫名稱)\n",
    "\n",
    "\n"
   ]
  },
  {
   "cell_type": "code",
   "execution_count": null,
   "metadata": {},
   "outputs": [],
   "source": [
    "# Write your code here\n",
    "\n",
    "\n",
    "\n",
    "\n",
    "\n",
    "\n",
    "\n",
    "\n"
   ]
  },
  {
   "cell_type": "markdown",
   "metadata": {},
   "source": [
    "### Homework #2 解析 HTML 檔案"
   ]
  },
  {
   "cell_type": "markdown",
   "metadata": {},
   "source": [
    "\n",
    "\n",
    "統一發票中獎號碼:\n",
    "\n",
    "<url>http://invoice.etax.nat.gov.tw/</url>\n",
    "\n"
   ]
  },
  {
   "cell_type": "markdown",
   "metadata": {},
   "source": [
    "列出本期的中獎號碼\n"
   ]
  },
  {
   "cell_type": "code",
   "execution_count": null,
   "metadata": {},
   "outputs": [],
   "source": [
    "# Write your code here\n",
    "\n",
    "\n",
    "\n",
    "\n",
    "\n"
   ]
  },
  {
   "cell_type": "markdown",
   "metadata": {},
   "source": [
    "### Homework #3 解析 JSON 檔案\n",
    "\n",
    "\n",
    "新北市特約藥局名單\n",
    "\n",
    "\n",
    "<url> https://data.gov.tw/dataset/55982 </url>\n",
    "\n",
    "擷取 JSON 檔案\n",
    "\n",
    "<url>https://data.ntpc.gov.tw/api/v1/rest/datastore/382000000A-002609-001</url>\n",
    "\n",
    "\n",
    "列出所有三重區的特約藥局\n",
    "\n"
   ]
  },
  {
   "cell_type": "code",
   "execution_count": null,
   "metadata": {},
   "outputs": [],
   "source": [
    "# Write your code here\n",
    "\n",
    "\n",
    "\n",
    "\n",
    "\n",
    "\n",
    "\n"
   ]
  }
 ],
 "metadata": {
  "kernelspec": {
   "display_name": "Python 3",
   "language": "python",
   "name": "python3"
  },
  "language_info": {
   "codemirror_mode": {
    "name": "ipython",
    "version": 3
   },
   "file_extension": ".py",
   "mimetype": "text/x-python",
   "name": "python",
   "nbconvert_exporter": "python",
   "pygments_lexer": "ipython3",
   "version": "3.7.6"
  }
 },
 "nbformat": 4,
 "nbformat_minor": 4
}
