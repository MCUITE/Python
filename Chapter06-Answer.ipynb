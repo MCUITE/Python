{
 "cells": [
  {
   "cell_type": "markdown",
   "metadata": {},
   "source": [
    "# Chapter 6"
   ]
  },
  {
   "cell_type": "markdown",
   "metadata": {},
   "source": [
    "list, tuple, set 與 dict"
   ]
  },
  {
   "cell_type": "markdown",
   "metadata": {},
   "source": [
    "Python 中所有的內建型別(Built-in type)都是物件，例如數值型別(整數、 浮點數等)、字串型別和容器型別(list、tuple、set 與 dict)等。\n",
    "容器型別(container type)可以容納很多個相同或不同型別的資料，當我們需要處理一組資料而非單筆資料時，容器型別便能夠在語法上提供支援，再加上 for-loop 迭代運算， 可為我們在處理資料上提供很大的便利性。\n"
   ]
  },
  {
   "cell_type": "markdown",
   "metadata": {},
   "source": [
    "## 6-1 list (串列)"
   ]
  },
  {
   "cell_type": "markdown",
   "metadata": {},
   "source": [
    "\n",
    "許多程式語言都是以陣列(Array)來處理佔有連續記憶體、具有相同資料型別的資料，在 Python 並沒有名叫陣列這樣的東西。\n",
    "Python 是以序列(Sequence) 型別來將多個資料群聚在一起;串列(list)便是其中一種很基本的資料型別，它可以把多項資料彙集成一組資料，使用起來跟其它程式語言的陣列很接近。\n"
   ]
  },
  {
   "cell_type": "markdown",
   "metadata": {},
   "source": [
    "### 6-1-1 建立 list"
   ]
  },
  {
   "cell_type": "markdown",
   "metadata": {},
   "source": [
    "1. 一維串列的建立"
   ]
  },
  {
   "cell_type": "markdown",
   "metadata": {},
   "source": [
    "\n",
    "要創建一個 list，只要將不同的資料項目(不限於數字、文字，也可以是物件) 用逗號分隔開來，再使用中括號括起來即可:\n"
   ]
  },
  {
   "cell_type": "code",
   "execution_count": 3,
   "metadata": {},
   "outputs": [],
   "source": [
    "\n",
    "list1 = [] #建立一個空的list\n",
    "list2 = [1, 2, 3, 4, 5, 6] #建立包含1, 2, .., 6的list\n",
    "list3 = [1, 'physics', 2, 'chemistry', 3, 1997, 4, 2000] #包含8個元素的list \n",
    "list4 = [x for x in range(0,6)] #建立[0,1,2,3,4,5]的list\n",
    "list5 = [x for x in range(0,6) if x>3] #建立內容為[4,5]的list\n",
    "list6 = [x for x in list4 if x>3] #建立內容為[4,5]的list\n"
   ]
  },
  {
   "cell_type": "code",
   "execution_count": 4,
   "metadata": {},
   "outputs": [
    {
     "name": "stdout",
     "output_type": "stream",
     "text": [
      "[]\n",
      "[1, 2, 3, 4, 5, 6]\n",
      "[1, 'physics', 2, 'chemistry', 3, 1997, 4, 2000]\n",
      "[0, 1, 2, 3, 4, 5]\n",
      "[4, 5]\n",
      "[4, 5]\n"
     ]
    }
   ],
   "source": [
    "\n",
    "print (list1)\n",
    "print (list2)\n",
    "print (list3)\n",
    "print (list4)\n",
    "print (list5)\n",
    "print (list6)\n"
   ]
  },
  {
   "cell_type": "markdown",
   "metadata": {},
   "source": [
    "\n",
    "List4~list6 所用的語法又稱為串列解析式(list comprehension)，這種寫法可 以取代以 for-loop 所實現的迭代運算過程，串列解析式比 for-loop 更精簡，運行 更快。\n",
    "\n",
    "其基本型式為:\n",
    "\n",
    "[x for item in sequence <if (conditions)>]\n"
   ]
  },
  {
   "cell_type": "markdown",
   "metadata": {},
   "source": [
    "\n",
    "串列解析式也可以描述多層的 for-loop 架構，例如下面這個巢狀 for-loop 的寫法便可利用串列解析式以更精簡的型式來實現:\n"
   ]
  },
  {
   "cell_type": "code",
   "execution_count": 5,
   "metadata": {},
   "outputs": [
    {
     "name": "stdout",
     "output_type": "stream",
     "text": [
      "[12, 13, 14, 13, 14, 15, 14, 15, 16]\n"
     ]
    }
   ],
   "source": [
    "\n",
    "myList = []\n",
    "for x in (1,2,3):\n",
    "    for y in (11,12,13): \n",
    "        myList.append(x + y)\n",
    "        \n",
    "print(myList) # [12, 13, 14, 13, 14, 15, 14, 15, 16]\n"
   ]
  },
  {
   "cell_type": "markdown",
   "metadata": {},
   "source": [
    "\n",
    "其串列解析式語法的實現如下:\n"
   ]
  },
  {
   "cell_type": "code",
   "execution_count": 6,
   "metadata": {},
   "outputs": [
    {
     "name": "stdout",
     "output_type": "stream",
     "text": [
      "[12, 13, 14, 13, 14, 15, 14, 15, 16]\n"
     ]
    }
   ],
   "source": [
    "\n",
    "myList = [x+y for x in range(1,4) for y in range(11, 14)] \n",
    "print(myList) # [12, 13, 14, 13, 14, 15, 14, 15, 16]\n"
   ]
  },
  {
   "cell_type": "markdown",
   "metadata": {},
   "source": [
    "\n",
    "如果想要創建一個多維的串列(list)，我們可以直接在一個串列中放入內容同樣是串列的元素，或是利用串列解析式來得到多維串列的內容:\n"
   ]
  },
  {
   "cell_type": "code",
   "execution_count": null,
   "metadata": {},
   "outputs": [],
   "source": [
    "\n",
    "myList1 = [[0]*3, [0]*3, [0]*3, [0]*3]\n",
    "myList2 = [[0, 0, 0], [0, 0, 0], [0, 0, 0], [0, 0, 0]]\n",
    "myList3 = [[0 for i in range(3)] for j in range(4)]\n"
   ]
  },
  {
   "cell_type": "markdown",
   "metadata": {},
   "source": [
    "\n",
    "\n",
    "例如，想要創建一個 3x4 的多維串列，並依序填入 1~12 的整數值，則程式可撰寫如下:\n"
   ]
  },
  {
   "cell_type": "code",
   "execution_count": 7,
   "metadata": {},
   "outputs": [
    {
     "name": "stdout",
     "output_type": "stream",
     "text": [
      "[[1, 2, 3, 4], [5, 6, 7, 8], [9, 10, 11, 12]]\n"
     ]
    }
   ],
   "source": [
    "\n",
    "mylist = [[0 for col in range(4)] for row in range(3)] \n",
    "summary = 0\n",
    "\n",
    "for row in range(3):\n",
    "    for col in range(4):\n",
    "        summary += 1\n",
    "        mylist[row][col]= summary\n",
    "print(mylist)\n"
   ]
  },
  {
   "cell_type": "markdown",
   "metadata": {},
   "source": [
    "#### 【立即練習】\n",
    "\n",
    "若有一個串列 num = [24.6, -26.4, -44.9, 128.2, 22.32, 14.6, 13.5]， 試建立二個新的串列:newlist1 的內容為 num 裡所有數值的絶對值;\n",
    "而 newlist2 的內容為 num 裡所有>0 的數值轉換為整數後的結果。\n"
   ]
  },
  {
   "cell_type": "markdown",
   "metadata": {},
   "source": [
    "\n",
    "提示:\n",
    "\n",
    "我們可使用前述內容中，類似[x for x in list4 if x>3] 這樣的串列解析式語 法(list comprehenson)來產生本題所需的結果。\n",
    "\n",
    "串列解析式的語法是將一個串列轉 換成另一個列表的工具;在轉換過程中，我們還可以指定元素必須符合特定的條件才能添加至新的串列之中。\n",
    "\n",
    "透過串列解析式的語法，我們便可以不用到 for-loop 的迭代程序而仍能完成工作。\n"
   ]
  },
  {
   "cell_type": "code",
   "execution_count": 7,
   "metadata": {},
   "outputs": [
    {
     "name": "stdout",
     "output_type": "stream",
     "text": [
      "[24.6, 26.4, 44.9, 128.2, 22.32, 14.6, 13.5]\n",
      "[24, 128, 22, 14, 13]\n"
     ]
    }
   ],
   "source": [
    "# Write down your code here\n",
    "\n",
    "num = [24.6, -26.4, -44.9, 128.2, 22.32, 14.6, 13.5]\n",
    "\n",
    "newlist1 = [abs(x) for x in num]\n",
    "newlist2 = [int(x) for x in num if x>0]\n",
    "\n",
    "print (newlist1)\n",
    "print (newlist2)\n",
    "\n",
    "\n",
    "\n",
    "\n",
    "\n",
    "\n",
    "\n",
    "\n"
   ]
  },
  {
   "cell_type": "markdown",
   "metadata": {},
   "source": [
    "#### 【立即練習】\n",
    "\n",
    "若有一個字串內容如下，試建立二個新的串列:\n",
    "\n",
    "splitWordList 的內容為以空格分隔該字串得到的串列; 而\n",
    "\n",
    "splitWordListLengths 的內容為統計 splitWordList 裡所有元素之長度的數值所構成的串列，但排除\"the\"這個字 (word)。\n"
   ]
  },
  {
   "cell_type": "code",
   "execution_count": null,
   "metadata": {},
   "outputs": [],
   "source": [
    "\n",
    "sentence = 'Consider the example of recording temperatures 4 times a day'\n"
   ]
  },
  {
   "cell_type": "code",
   "execution_count": null,
   "metadata": {},
   "outputs": [],
   "source": [
    "# Write down your code here\n",
    "\n",
    "\n",
    "\n",
    "\n",
    "\n",
    "\n",
    "\n"
   ]
  },
  {
   "cell_type": "markdown",
   "metadata": {},
   "source": [
    "#### 【立即練習】\n",
    "\n",
    "試產生一個內容為九九乘法表計算值所構成的一維串列。\n",
    "\n",
    "串列的內容如下:\n"
   ]
  },
  {
   "cell_type": "code",
   "execution_count": null,
   "metadata": {},
   "outputs": [],
   "source": [
    "\n",
    "multList = [1, 2, 3, 4, 5, 6, 7, 8, 9, 2, 4, 6, ..., 54, 63, 72, 81]\n"
   ]
  },
  {
   "cell_type": "code",
   "execution_count": 8,
   "metadata": {},
   "outputs": [
    {
     "name": "stdout",
     "output_type": "stream",
     "text": [
      "[1, 2, 3, 4, 5, 6, 7, 8, 9, 2, 4, 6, 8, 10, 12, 14, 16, 18, 3, 6, 9, 12, 15, 18, 21, 24, 27, 4, 8, 12, 16, 20, 24, 28, 32, 36, 5, 10, 15, 20, 25, 30, 35, 40, 45, 6, 12, 18, 24, 30, 36, 42, 48, 54, 7, 14, 21, 28, 35, 42, 49, 56, 63, 8, 16, 24, 32, 40, 48, 56, 64, 72, 9, 18, 27, 36, 45, 54, 63, 72, 81]\n"
     ]
    }
   ],
   "source": [
    "# Write down your code here\n",
    "\n",
    "\n",
    "mulList = [x*y for x in range (1,10) for y in range (1,10)]\n",
    "print (mulList)\n",
    "\n",
    "\n",
    "\n",
    "\n"
   ]
  },
  {
   "cell_type": "markdown",
   "metadata": {},
   "source": [
    "### 6-1-2 利用索引運算子取得 list 裡的元素\n",
    "\n",
    "\n"
   ]
  },
  {
   "cell_type": "markdown",
   "metadata": {},
   "source": [
    "\n",
    "\n",
    "我們可以利用索引運算子(即中括號[])來取得 list 裡的元素。\n",
    "\n",
    "index 通常是 從 0 開始;若是從結尾處算過來，則是從-1, -2, ...算回來。\n",
    "\n",
    "例如。\n"
   ]
  },
  {
   "cell_type": "code",
   "execution_count": 1,
   "metadata": {},
   "outputs": [
    {
     "name": "stdout",
     "output_type": "stream",
     "text": [
      "[1, 2]\n",
      "4\n"
     ]
    }
   ],
   "source": [
    "\n",
    "list2 = [1, 2, 3, 4, 5, 6] #建立包含1, 2, .., 6的list\n",
    "list3 = [1, 'physics', 2, 'chemistry', 3, 1997, 4, 2000] #包含8個元素的list\n",
    "print(list2[0:2]) #取得list2裡第1個元素 \n",
    "print(list3[-2]) #取得list3裡第2個元素\n"
   ]
  },
  {
   "cell_type": "markdown",
   "metadata": {},
   "source": [
    "\n",
    "list2[0]可取得 list 裡的第 1 個元素，list2[1]則可取得 list 裡的第 2 個元素，依此類推。\n",
    "若我們欲取得 list2 裡第 1 個到第 5 個元素，則可執行如下\n"
   ]
  },
  {
   "cell_type": "code",
   "execution_count": 2,
   "metadata": {},
   "outputs": [
    {
     "data": {
      "text/plain": [
       "[1, 2, 3, 4, 5]"
      ]
     },
     "execution_count": 2,
     "metadata": {},
     "output_type": "execute_result"
    }
   ],
   "source": [
    "\n",
    "list2[0:5]   #取得list2裡第1到第5個元素\n"
   ]
  },
  {
   "cell_type": "markdown",
   "metadata": {},
   "source": [
    "\n",
    "同樣的，若我們下達 list3[2:4]，則能取得 list3 裡第 3 到第 4 個元素:\n",
    "\n"
   ]
  },
  {
   "cell_type": "code",
   "execution_count": 3,
   "metadata": {},
   "outputs": [
    {
     "data": {
      "text/plain": [
       "[2, 'chemistry']"
      ]
     },
     "execution_count": 3,
     "metadata": {},
     "output_type": "execute_result"
    }
   ],
   "source": [
    "\n",
    "list3[2:4] #取得list3裡第3到第4個元素\n"
   ]
  },
  {
   "cell_type": "markdown",
   "metadata": {},
   "source": [
    "\n",
    "對於二維的串列，其取值的方式為 list[i][j]，例如:\n"
   ]
  },
  {
   "cell_type": "code",
   "execution_count": 4,
   "metadata": {},
   "outputs": [
    {
     "name": "stdout",
     "output_type": "stream",
     "text": [
      "1\n",
      "12\n",
      "12\n",
      "1\n"
     ]
    }
   ],
   "source": [
    "\n",
    "mylist = [[1, 2, 3, 4], [5, 6, 7, 8], [9, 10, 11, 12]]\n",
    "print(mylist[0][0])\n",
    "print(mylist[2][3])\n",
    "print(mylist[-1][-1])\n",
    "print(mylist[-3][-4])\n"
   ]
  },
  {
   "cell_type": "markdown",
   "metadata": {},
   "source": [
    "### 6-1-3 連接運算子\n",
    "\n",
    "\n",
    "\n"
   ]
  },
  {
   "cell_type": "markdown",
   "metadata": {},
   "source": [
    "\n",
    "利用+運算子可以連接兩個串列:\n"
   ]
  },
  {
   "cell_type": "code",
   "execution_count": 5,
   "metadata": {},
   "outputs": [
    {
     "data": {
      "text/plain": [
       "[1, 2, 3, 4, 5, 6, 1, 'physics', 2, 'chemistry', 3, 1997, 4, 2000]"
      ]
     },
     "execution_count": 5,
     "metadata": {},
     "output_type": "execute_result"
    }
   ],
   "source": [
    "\n",
    "list2 = [1, 2, 3, 4, 5, 6]\n",
    "list3 = [1, 'physics', 2, 'chemistry', 3, 1997, 4, 2000]\n",
    "list2 + list3\n"
   ]
  },
  {
   "cell_type": "markdown",
   "metadata": {},
   "source": [
    "\n",
    "或是執行[2, 3, 5] + [3, 5, 9]，可得[2, 3, 5, 3, 5, 9]的 list:\n"
   ]
  },
  {
   "cell_type": "code",
   "execution_count": 13,
   "metadata": {},
   "outputs": [
    {
     "data": {
      "text/plain": [
       "[2, 3, 5, 3, 5, 9]"
      ]
     },
     "execution_count": 13,
     "metadata": {},
     "output_type": "execute_result"
    }
   ],
   "source": [
    "\n",
    "[2, 3, 5] + [3, 5, 9]\n"
   ]
  },
  {
   "cell_type": "markdown",
   "metadata": {},
   "source": [
    "### 6-1-4 重覆運算子\n",
    "\n",
    "\n",
    "\n"
   ]
  },
  {
   "cell_type": "markdown",
   "metadata": {},
   "source": [
    "\n",
    "利用* 運算子可以重覆串列的內容，例如利用 list2 * 2 便可以將 list2 的內容重覆二次:\n"
   ]
  },
  {
   "cell_type": "code",
   "execution_count": 7,
   "metadata": {},
   "outputs": [
    {
     "data": {
      "text/plain": [
       "[1, 2, 3, 4, 5, 6, 1, 2, 3, 4, 5, 6]"
      ]
     },
     "execution_count": 7,
     "metadata": {},
     "output_type": "execute_result"
    }
   ],
   "source": [
    "\n",
    "list2 = [1, 2, 3, 4, 5, 6]\n",
    "list2 *2 # [1, 2, 3, 4, 5, 6, 1, 2, 3, 4, 5, 6]\n"
   ]
  },
  {
   "cell_type": "markdown",
   "metadata": {},
   "source": [
    "### 6-1-5 比較運算子與 in、not in 運算子\n",
    "\n",
    "\n",
    "\n"
   ]
  },
  {
   "cell_type": "markdown",
   "metadata": {},
   "source": [
    "\n",
    "利用“==”、 “!=”、“>=”、 “<=”、 “>”、 “<”等比較運算子，便可以用來比較兩個 list 的大小或相等與否:\n"
   ]
  },
  {
   "cell_type": "code",
   "execution_count": 8,
   "metadata": {},
   "outputs": [
    {
     "name": "stdout",
     "output_type": "stream",
     "text": [
      "False\n",
      "True\n",
      "False\n",
      "True\n"
     ]
    }
   ],
   "source": [
    "\n",
    "mylist1 = [1, 2 , 3]\n",
    "mylist2 = [1, 2 , 3, 4]\n",
    "print(mylist1 == mylist2)       #結果為假 \n",
    "print(mylist1 != mylist2)       #結果為真\n",
    "print(mylist1 > mylist2)       #結果為假\n",
    "print(mylist1 < mylist2)       #結果為真\n"
   ]
  },
  {
   "cell_type": "markdown",
   "metadata": {},
   "source": [
    "\n",
    "利用 in 與 not in 運算子，則是可以檢查某個元素是否存在於 list 中:\n",
    "     "
   ]
  },
  {
   "cell_type": "code",
   "execution_count": 9,
   "metadata": {},
   "outputs": [
    {
     "name": "stdout",
     "output_type": "stream",
     "text": [
      "False\n",
      "True\n",
      "True\n",
      "False\n"
     ]
    }
   ],
   "source": [
    "\n",
    "mylist1 = [1, 2 , 3]\n",
    "mylist2 = [1, 2 , 3, 4]\n",
    "print(4 in mylist1) #結果為假 \n",
    "print(4 not in mylist1) #結果為真 \n",
    "print(4 in mylist2) #結果為真\n",
    "print(4 not in mylist2) #結果為假\n"
   ]
  },
  {
   "cell_type": "markdown",
   "metadata": {},
   "source": [
    "### 6-1-6 與 list 有關的方法與內建函式\n"
   ]
  },
  {
   "cell_type": "markdown",
   "metadata": {},
   "source": [
    "\n",
    "list 類別中內建許多方便進行 list 處理的方法，我們可以用以新增、刪除和修改 list 的內容:\n"
   ]
  },
  {
   "cell_type": "markdown",
   "metadata": {},
   "source": [
    "* list.append(x): 在list的最後面加入元素 x\n",
    "* list.extend(L):在list末尾加入另一個序列L中的多個元素\n",
    "* list.insert(i, x):在索引為i的位置加入元素x\n",
    "* list.pop([i]): 刪除list中索引為i的元素，並傳回該元素。  \n",
    "* list.remove(x):刪除list中第一個值為x的元素"
   ]
  },
  {
   "cell_type": "code",
   "execution_count": 10,
   "metadata": {},
   "outputs": [],
   "source": [
    "\n",
    "mylist1 = [1, 2 , 3]\n",
    "mylist1.append(9) #在mylist1末端加入元素9, mylist1 = [1,2, 3, 9]\n"
   ]
  },
  {
   "cell_type": "code",
   "execution_count": 11,
   "metadata": {},
   "outputs": [
    {
     "name": "stdout",
     "output_type": "stream",
     "text": [
      "[1, 2, 3, 9]\n"
     ]
    }
   ],
   "source": [
    "\n",
    "print (mylist1)\n"
   ]
  },
  {
   "cell_type": "markdown",
   "metadata": {},
   "source": [
    "\n",
    "接下來，我們嘗試利用 list.extend(L)方法，在 mylist1 末端加入 mylist2 裡的所有元素:\n"
   ]
  },
  {
   "cell_type": "code",
   "execution_count": 16,
   "metadata": {},
   "outputs": [],
   "source": [
    "\n",
    "mylist1 = [1, 2 , 3] \n",
    "mylist2 = [1, 2 , 3, 4]\n",
    "mylist1.extend(mylist2) #在mylist1末尾加入另一個序列mylist2\n"
   ]
  },
  {
   "cell_type": "code",
   "execution_count": 17,
   "metadata": {},
   "outputs": [
    {
     "data": {
      "text/plain": [
       "[1, 2, 3, 1, 2, 3, 4]"
      ]
     },
     "execution_count": 17,
     "metadata": {},
     "output_type": "execute_result"
    }
   ],
   "source": [
    "\n",
    "mylist1\n"
   ]
  },
  {
   "cell_type": "markdown",
   "metadata": {},
   "source": [
    "\n",
    "利用 mylist1.insert(1, 8)的指令，可以在 mylist1 串列中的索引 1 的位置插入 8 這個元素:\n"
   ]
  },
  {
   "cell_type": "code",
   "execution_count": 20,
   "metadata": {},
   "outputs": [],
   "source": [
    "\n",
    "mylist1 = [1, 2 , 3]\n",
    "mylist1.insert(-1, 8) #在mylist1之索引1的位置插入8這個元素\n"
   ]
  },
  {
   "cell_type": "code",
   "execution_count": 21,
   "metadata": {},
   "outputs": [
    {
     "data": {
      "text/plain": [
       "[1, 2, 8, 3]"
      ]
     },
     "execution_count": 21,
     "metadata": {},
     "output_type": "execute_result"
    }
   ],
   "source": [
    "mylist1"
   ]
  },
  {
   "cell_type": "markdown",
   "metadata": {},
   "source": [
    "\n",
    "同樣的，我們可以再透過 mylist1.pop(1)的指令，移除 mylist1 串列中的索引 1 位置的元素:\n"
   ]
  },
  {
   "cell_type": "code",
   "execution_count": 22,
   "metadata": {},
   "outputs": [
    {
     "data": {
      "text/plain": [
       "8"
      ]
     },
     "execution_count": 22,
     "metadata": {},
     "output_type": "execute_result"
    }
   ],
   "source": [
    "\n",
    "mylist1 = [1, 8, 2, 3]\n",
    "mylist1.pop(1) #移除 mylist1之索引1的位置的元素\n"
   ]
  },
  {
   "cell_type": "code",
   "execution_count": 23,
   "metadata": {},
   "outputs": [
    {
     "data": {
      "text/plain": [
       "[1, 2, 3]"
      ]
     },
     "execution_count": 23,
     "metadata": {},
     "output_type": "execute_result"
    }
   ],
   "source": [
    "mylist1\n"
   ]
  },
  {
   "cell_type": "markdown",
   "metadata": {},
   "source": [
    "\n",
    "最後，我們試驗 list.remove(x)的功能，利用 mylist1.remove(2)刪除 mylist1 串列中第一個值為 2 的元素:\n"
   ]
  },
  {
   "cell_type": "code",
   "execution_count": 28,
   "metadata": {},
   "outputs": [
    {
     "ename": "ValueError",
     "evalue": "list.remove(x): x not in list",
     "output_type": "error",
     "traceback": [
      "\u001b[0;31m---------------------------------------------------------------------------\u001b[0m",
      "\u001b[0;31mValueError\u001b[0m                                Traceback (most recent call last)",
      "\u001b[0;32m<ipython-input-28-8d2cbc1bf7fe>\u001b[0m in \u001b[0;36m<module>\u001b[0;34m\u001b[0m\n\u001b[1;32m      1\u001b[0m \u001b[0mmylist1\u001b[0m \u001b[0;34m=\u001b[0m \u001b[0;34m[\u001b[0m\u001b[0;36m1\u001b[0m\u001b[0;34m,\u001b[0m \u001b[0;36m2\u001b[0m \u001b[0;34m,\u001b[0m \u001b[0;36m3\u001b[0m\u001b[0;34m]\u001b[0m\u001b[0;34m\u001b[0m\u001b[0;34m\u001b[0m\u001b[0m\n\u001b[0;32m----> 2\u001b[0;31m \u001b[0mmylist1\u001b[0m\u001b[0;34m.\u001b[0m\u001b[0mremove\u001b[0m\u001b[0;34m(\u001b[0m\u001b[0;36m8888\u001b[0m\u001b[0;34m)\u001b[0m\u001b[0;34m\u001b[0m\u001b[0;34m\u001b[0m\u001b[0m\n\u001b[0m",
      "\u001b[0;31mValueError\u001b[0m: list.remove(x): x not in list"
     ]
    }
   ],
   "source": [
    "mylist1 = [1, 2 , 3]\n",
    "mylist1.remove(8888)"
   ]
  },
  {
   "cell_type": "code",
   "execution_count": 25,
   "metadata": {},
   "outputs": [
    {
     "data": {
      "text/plain": [
       "[1, 3]"
      ]
     },
     "execution_count": 25,
     "metadata": {},
     "output_type": "execute_result"
    }
   ],
   "source": [
    "mylist1"
   ]
  },
  {
   "cell_type": "markdown",
   "metadata": {},
   "source": [
    "\n",
    "我們也可以利用 list 類別的方法，傳回 list 的索引值或是元素出現的次數，\n",
    "另外，也可以將 list 中的元素進行排序或是反轉:\n",
    "\n"
   ]
  },
  {
   "cell_type": "markdown",
   "metadata": {},
   "source": [
    " \n",
    "* list.index(x):     傳回元素x第一次出現在list的索引值  \n",
    "* list.count(x):     傳回元素x在list中出現的次數\n",
    "* list.sort():         將list中的元素從小到大排序\n",
    "* list.reverse():     將list中的元素順序反轉過來\n",
    "\n"
   ]
  },
  {
   "cell_type": "code",
   "execution_count": 32,
   "metadata": {},
   "outputs": [
    {
     "ename": "ValueError",
     "evalue": "77 is not in list",
     "output_type": "error",
     "traceback": [
      "\u001b[0;31m---------------------------------------------------------------------------\u001b[0m",
      "\u001b[0;31mValueError\u001b[0m                                Traceback (most recent call last)",
      "\u001b[0;32m<ipython-input-32-fd8a69d7951d>\u001b[0m in \u001b[0;36m<module>\u001b[0;34m\u001b[0m\n\u001b[1;32m      1\u001b[0m \u001b[0mmylist\u001b[0m \u001b[0;34m=\u001b[0m \u001b[0;34m[\u001b[0m\u001b[0;36m1\u001b[0m\u001b[0;34m,\u001b[0m \u001b[0;36m3\u001b[0m\u001b[0;34m,\u001b[0m \u001b[0;36m4\u001b[0m\u001b[0;34m,\u001b[0m \u001b[0;36m5\u001b[0m\u001b[0;34m,\u001b[0m \u001b[0;36m6\u001b[0m\u001b[0;34m,\u001b[0m \u001b[0;36m7\u001b[0m\u001b[0;34m,\u001b[0m \u001b[0;36m11\u001b[0m\u001b[0;34m,\u001b[0m \u001b[0;36m13\u001b[0m\u001b[0;34m,\u001b[0m \u001b[0;36m4\u001b[0m\u001b[0;34m,\u001b[0m \u001b[0;36m7\u001b[0m\u001b[0;34m,\u001b[0m \u001b[0;36m5\u001b[0m\u001b[0;34m,\u001b[0m \u001b[0;36m16\u001b[0m\u001b[0;34m,\u001b[0m \u001b[0;36m7\u001b[0m\u001b[0;34m]\u001b[0m\u001b[0;34m\u001b[0m\u001b[0;34m\u001b[0m\u001b[0m\n\u001b[1;32m      2\u001b[0m \u001b[0;34m\u001b[0m\u001b[0m\n\u001b[0;32m----> 3\u001b[0;31m \u001b[0mprint\u001b[0m\u001b[0;34m(\u001b[0m\u001b[0mmylist\u001b[0m\u001b[0;34m.\u001b[0m\u001b[0mindex\u001b[0m\u001b[0;34m(\u001b[0m\u001b[0;36m77\u001b[0m\u001b[0;34m)\u001b[0m\u001b[0;34m)\u001b[0m \u001b[0;31m#傳回元素7第一次出現在list的索引值\u001b[0m\u001b[0;34m\u001b[0m\u001b[0;34m\u001b[0m\u001b[0m\n\u001b[0m\u001b[1;32m      4\u001b[0m \u001b[0;34m\u001b[0m\u001b[0m\n\u001b[1;32m      5\u001b[0m \u001b[0mprint\u001b[0m\u001b[0;34m(\u001b[0m\u001b[0mmylist\u001b[0m\u001b[0;34m.\u001b[0m\u001b[0mcount\u001b[0m\u001b[0;34m(\u001b[0m\u001b[0;36m77\u001b[0m\u001b[0;34m)\u001b[0m\u001b[0;34m)\u001b[0m \u001b[0;31m#傳回元素7在list中出現的次數\u001b[0m\u001b[0;34m\u001b[0m\u001b[0;34m\u001b[0m\u001b[0m\n",
      "\u001b[0;31mValueError\u001b[0m: 77 is not in list"
     ]
    }
   ],
   "source": [
    "\n",
    "mylist = [1, 3, 4, 5, 6, 7, 11, 13, 4, 7, 5, 16, 7]\n",
    "\n",
    "print(mylist.index(77)) #傳回元素7第一次出現在list的索引值 \n",
    "\n",
    "print(mylist.count(77)) #傳回元素7在list中出現的次數\n",
    "\n"
   ]
  },
  {
   "cell_type": "markdown",
   "metadata": {},
   "source": [
    "\n",
    "接下來，我們利用 list.sort()的方法來將指定的 list 進行排序:\n"
   ]
  },
  {
   "cell_type": "code",
   "execution_count": 33,
   "metadata": {},
   "outputs": [
    {
     "name": "stdout",
     "output_type": "stream",
     "text": [
      "[1, 3, 4, 4, 5, 5, 6, 7, 7, 7, 11, 13, 16]\n"
     ]
    }
   ],
   "source": [
    "\n",
    "mylist = [1, 3, 4, 5, 6, 7, 11, 13, 4, 7, 5, 16, 7]\n",
    "\n",
    "mylist.sort() #將mylist中的元素從小到大排序 \n",
    "\n",
    "print(mylist)\n"
   ]
  },
  {
   "cell_type": "markdown",
   "metadata": {},
   "source": [
    "\n",
    "最後，我們利用 list.reverse()的方法來將指定的 list 反轉:\n",
    "\n"
   ]
  },
  {
   "cell_type": "code",
   "execution_count": 35,
   "metadata": {},
   "outputs": [
    {
     "name": "stdout",
     "output_type": "stream",
     "text": [
      "[16, 13, 11, 7, 7, 7, 6, 5, 5, 4, 4, 3, 1]\n"
     ]
    }
   ],
   "source": [
    "\n",
    "mylist = [1, 3, 4, 5, 6, 7, 11, 13, 4, 7, 5, 16, 7]\n",
    "mylist.sort()\n",
    "mylist.reverse() #將mylist中的元素的順序反轉過來\n",
    "\n",
    "print(mylist)\n"
   ]
  },
  {
   "cell_type": "markdown",
   "metadata": {},
   "source": [
    "\n",
    "除了上述的眾多方法之外，len()、max()、min()和 sum()等內建函式也適 用於操作 list，例如:\n",
    "\n"
   ]
  },
  {
   "cell_type": "code",
   "execution_count": 39,
   "metadata": {},
   "outputs": [
    {
     "name": "stdout",
     "output_type": "stream",
     "text": [
      "6\n"
     ]
    },
    {
     "ename": "TypeError",
     "evalue": "'int' object is not callable",
     "output_type": "error",
     "traceback": [
      "\u001b[0;31m---------------------------------------------------------------------------\u001b[0m",
      "\u001b[0;31mTypeError\u001b[0m                                 Traceback (most recent call last)",
      "\u001b[0;32m<ipython-input-39-0312921562e5>\u001b[0m in \u001b[0;36m<module>\u001b[0;34m\u001b[0m\n\u001b[1;32m      5\u001b[0m \u001b[0mprint\u001b[0m\u001b[0;34m(\u001b[0m\u001b[0mlen\u001b[0m\u001b[0;34m(\u001b[0m\u001b[0mmylist\u001b[0m\u001b[0;34m)\u001b[0m\u001b[0;34m)\u001b[0m         \u001b[0;31m#列印mylist的長度\u001b[0m\u001b[0;34m\u001b[0m\u001b[0;34m\u001b[0m\u001b[0m\n\u001b[1;32m      6\u001b[0m \u001b[0;34m\u001b[0m\u001b[0m\n\u001b[0;32m----> 7\u001b[0;31m \u001b[0mprint\u001b[0m\u001b[0;34m(\u001b[0m\u001b[0mmin\u001b[0m\u001b[0;34m(\u001b[0m\u001b[0mmylist\u001b[0m\u001b[0;34m)\u001b[0m\u001b[0;34m)\u001b[0m        \u001b[0;31m#列印mylist裡最小的元素\u001b[0m\u001b[0;34m\u001b[0m\u001b[0;34m\u001b[0m\u001b[0m\n\u001b[0m\u001b[1;32m      8\u001b[0m \u001b[0;34m\u001b[0m\u001b[0m\n\u001b[1;32m      9\u001b[0m \u001b[0mprint\u001b[0m\u001b[0;34m(\u001b[0m\u001b[0mmax\u001b[0m\u001b[0;34m(\u001b[0m\u001b[0mmylist\u001b[0m\u001b[0;34m)\u001b[0m\u001b[0;34m)\u001b[0m        \u001b[0;31m#列印mylist裡最大的元素\u001b[0m\u001b[0;34m\u001b[0m\u001b[0;34m\u001b[0m\u001b[0m\n",
      "\u001b[0;31mTypeError\u001b[0m: 'int' object is not callable"
     ]
    }
   ],
   "source": [
    "mylist = [1, 3, 4, 5, 6, 7]\n",
    "\n",
    "\n",
    "\n",
    "print(len(mylist))         #列印mylist的長度\n",
    "\n",
    "print(min(mylist))        #列印mylist裡最小的元素\n",
    "\n",
    "print(max(mylist))        #列印mylist裡最大的元素\n",
    "\n",
    "print(sum(mylist))       #列印mylist裡元素的總和\n",
    "\n"
   ]
  },
  {
   "cell_type": "markdown",
   "metadata": {},
   "source": [
    "### 6-1-7 繪製 list 的數值\n",
    "\n",
    "\n"
   ]
  },
  {
   "cell_type": "markdown",
   "metadata": {},
   "source": [
    "\n",
    "在介紹繪圖的功能之前，我們先建立兩組數據:\n",
    "    "
   ]
  },
  {
   "cell_type": "code",
   "execution_count": 2,
   "metadata": {},
   "outputs": [
    {
     "name": "stdout",
     "output_type": "stream",
     "text": [
      "[0, 1, 2, 3, 4, 5, 6, 7, 8, 9]\n",
      "[0, 1, 4, 9, 16, 25, 36, 49, 64, 81]\n"
     ]
    }
   ],
   "source": [
    "\n",
    "mylist1 = [i for i in range(10)]\n",
    "\n",
    "print(mylist1)\n",
    "\n",
    "mylist2 = [i**2 for i in range(10)]\n",
    "\n",
    "print(mylist2)\n",
    "    "
   ]
  },
  {
   "cell_type": "markdown",
   "metadata": {},
   "source": [
    "\n",
    "Python 開發環境中提供了很多模組和工具可以讓我們更方便的開發程式。\n",
    "\n",
    "在預設情況下，Python 並不會載入任何模組，而是讓使用者依自己的特殊開 發需求再自行匯入(import)模組。\n",
    "\n",
    "若是當模組名稱很長時，通常我們會使用別名，以精簡後續的程式內容。\n",
    "\n"
   ]
  },
  {
   "cell_type": "code",
   "execution_count": 3,
   "metadata": {},
   "outputs": [
    {
     "data": {
      "image/png": "[encoded data removed]",
      "text/plain": [
       "<Figure size 432x288 with 1 Axes>"
      ]
     },
     "metadata": {
      "needs_background": "light"
     },
     "output_type": "display_data"
    }
   ],
   "source": [
    "\n",
    "import matplotlib.pyplot as plt #將 matplotlib.pyplot 取別名為 plt \n",
    "\n",
    "mylist = [i**2 for i in range(20)]\n",
    "\n",
    "\n",
    "plt.plot(mylist)\n",
    "\n",
    "plt.show()\n"
   ]
  },
  {
   "cell_type": "markdown",
   "metadata": {},
   "source": [
    "\n",
    "接下來我們介紹如何利用 math 模組和 for-loop 敘述來產生正弦波函數的數值，再將數值繪成圖形:\n",
    "\n"
   ]
  },
  {
   "cell_type": "code",
   "execution_count": 41,
   "metadata": {},
   "outputs": [
    {
     "data": {
      "image/png": "[encoded data removed]",
      "text/plain": [
       "<Figure size 432x288 with 1 Axes>"
      ]
     },
     "metadata": {
      "needs_background": "light"
     },
     "output_type": "display_data"
    }
   ],
   "source": [
    "\n",
    "import matplotlib.pyplot as plt\n",
    "import math #匯入math模組，以便使用math.sin(x)函數功能\n",
    "\n",
    "mylist = []\n",
    "\n",
    "for i in range(1, 100):\n",
    "    mylist.append(math.sin(i/10))\n",
    "\n",
    "plt.plot(mylist)\n",
    "plt.show()\n",
    "\n"
   ]
  },
  {
   "cell_type": "markdown",
   "metadata": {},
   "source": [
    "\n",
    "## 6-X List 綜合練習\n",
    "\n"
   ]
  },
  {
   "cell_type": "markdown",
   "metadata": {},
   "source": [
    "\n",
    "\n",
    "EX 1: 試以串列解析式語法來改寫下面的兩個以 for-loop 所寫的程式:\n",
    "\n",
    "\n"
   ]
  },
  {
   "cell_type": "markdown",
   "metadata": {},
   "source": [
    "(1) 新串列的內容為原串列的所有元素都乘上 2 的結果:\n",
    "\n",
    "\n",
    "    For-loop 迭代作法:"
   ]
  },
  {
   "cell_type": "code",
   "execution_count": 5,
   "metadata": {},
   "outputs": [
    {
     "name": "stdout",
     "output_type": "stream",
     "text": [
      "[2, 4, 6, 8, 10]\n"
     ]
    }
   ],
   "source": [
    "\n",
    "num = [1, 2, 3, 4, 5]\n",
    "\n",
    "doubledOddNum = [] \n",
    "\n",
    "for n in num:\n",
    "    doubledOddNum.append(n * 2) \n",
    "    \n",
    "print(doubledOddNum) #[2, 4, 6, 8, 10]\n"
   ]
  },
  {
   "cell_type": "markdown",
   "metadata": {},
   "source": [
    "\n",
    "串列解析式語法:\n",
    "\n"
   ]
  },
  {
   "cell_type": "code",
   "execution_count": 44,
   "metadata": {},
   "outputs": [
    {
     "name": "stdout",
     "output_type": "stream",
     "text": [
      "[2, 4, 6, 8, 10]\n"
     ]
    }
   ],
   "source": [
    "# Write your code here\n",
    "\n",
    "doubledOddNum = [x*2 for x in range (1,6)] \n",
    "\n",
    "print(doubledOddNum)\n",
    "\n",
    "\n",
    "\n",
    "\n",
    "\n",
    "\n",
    "\n",
    "\n"
   ]
  },
  {
   "cell_type": "markdown",
   "metadata": {},
   "source": [
    "\n",
    "(2) 新串列的內容為原串列的所有奇數值元素都乘上 2 的結果:\n",
    "\n",
    "For-loop 迭代作法:\n",
    "\n"
   ]
  },
  {
   "cell_type": "code",
   "execution_count": 6,
   "metadata": {},
   "outputs": [
    {
     "name": "stdout",
     "output_type": "stream",
     "text": [
      "[2, 6, 10]\n"
     ]
    }
   ],
   "source": [
    "\n",
    "num = [1, 2, 3, 4, 5]\n",
    "doubledOddNum = []\n",
    "\n",
    "for n in num:\n",
    "    if n % 2 == 1: \n",
    "            doubledOddNum.append(n * 2)\n",
    "\n",
    "            \n",
    "print(doubledOddNum) #[2, 6, 10]\n"
   ]
  },
  {
   "cell_type": "markdown",
   "metadata": {},
   "source": [
    "\n",
    "串列解析式語法:\n",
    "\n"
   ]
  },
  {
   "cell_type": "code",
   "execution_count": 45,
   "metadata": {},
   "outputs": [
    {
     "ename": "NameError",
     "evalue": "name 'num' is not defined",
     "output_type": "error",
     "traceback": [
      "\u001b[0;31m---------------------------------------------------------------------------\u001b[0m",
      "\u001b[0;31mNameError\u001b[0m                                 Traceback (most recent call last)",
      "\u001b[0;32m<ipython-input-45-895e28b67598>\u001b[0m in \u001b[0;36m<module>\u001b[0;34m\u001b[0m\n\u001b[1;32m      2\u001b[0m \u001b[0;34m\u001b[0m\u001b[0m\n\u001b[1;32m      3\u001b[0m \u001b[0;34m\u001b[0m\u001b[0m\n\u001b[0;32m----> 4\u001b[0;31m \u001b[0mdoubledOddNum\u001b[0m \u001b[0;34m=\u001b[0m \u001b[0;34m[\u001b[0m\u001b[0mx\u001b[0m \u001b[0;32mfor\u001b[0m \u001b[0mx\u001b[0m \u001b[0;32min\u001b[0m \u001b[0mnum\u001b[0m\u001b[0;34m]\u001b[0m\u001b[0;34m\u001b[0m\u001b[0;34m\u001b[0m\u001b[0m\n\u001b[0m\u001b[1;32m      5\u001b[0m \u001b[0mprint\u001b[0m\u001b[0;34m(\u001b[0m\u001b[0mdoubleOddNum\u001b[0m\u001b[0;34m)\u001b[0m\u001b[0;34m\u001b[0m\u001b[0;34m\u001b[0m\u001b[0m\n\u001b[1;32m      6\u001b[0m \u001b[0;34m\u001b[0m\u001b[0m\n",
      "\u001b[0;31mNameError\u001b[0m: name 'num' is not defined"
     ]
    }
   ],
   "source": [
    "# Write your code here\n",
    "\n",
    "\n",
    "\n",
    "\n",
    "\n",
    "\n",
    "\n",
    "\n"
   ]
  },
  {
   "cell_type": "markdown",
   "metadata": {},
   "source": [
    "\n",
    "EX 2: \n",
    "\n",
    "    試寫一個 Python 程式來產生一個 3x4x6 的三維陣列。\n",
    "\n"
   ]
  },
  {
   "cell_type": "markdown",
   "metadata": {},
   "source": [
    "輸出如下:\n",
    "[[['0', '0', '0', '0', '0', '0'], ['0', '0', '0', '0', '0', '0'], ['0', '0', '0', '0', '0', '0'], [' 0', '0', '0', '0', '0', '0']], [['0', '0', '0', '0', '0', '0'], ['0', '0', '0', '0', '0', '0'], ['0',\n",
    "'0', '0', '0', '0', '0'], ['0', '0', '0', '0', '0', '0']], [['0', '0', '0', '0', '0', '0'], ['0', ' 0', '0', '0', '0', '0'], ['0', '0', '0', '0', '0', '0'], ['0', '0', '0', '0', '0', '0']]]"
   ]
  },
  {
   "cell_type": "code",
   "execution_count": 50,
   "metadata": {},
   "outputs": [
    {
     "name": "stdout",
     "output_type": "stream",
     "text": [
      "[0, 0, 0, 0, 0, 0]\n",
      "[[0, 0, 0, 0, 0, 0], [0, 0, 0, 0, 0, 0], [0, 0, 0, 0, 0, 0], [0, 0, 0, 0, 0, 0], [0, 0, 0, 0, 0, 0], [0, 0, 0, 0, 0, 0], [0, 0, 0, 0, 0, 0], [0, 0, 0, 0, 0, 0], [0, 0, 0, 0, 0, 0], [0, 0, 0, 0, 0, 0], [0, 0, 0, 0, 0, 0], [0, 0, 0, 0, 0, 0]]\n"
     ]
    }
   ],
   "source": [
    "# Write down your code here\n",
    "\n",
    "array1 = [0] *6\n",
    "\n",
    "array2 = [[0] *6 for x in range (1,4) for y in range (1,5) ]\n",
    "\n",
    "\n",
    "print(array1)\n",
    "\n",
    "\n",
    "print(array2)\n",
    "\n",
    "\n",
    "\n",
    "\n",
    "\n",
    "\n",
    "\n",
    "\n",
    "\n"
   ]
  },
  {
   "cell_type": "markdown",
   "metadata": {},
   "source": [
    "EX 3: \n",
    "\n",
    "    若有一串列 a = [[1, 2, 3, 4], [5, 6], [7, 8, 9]]，試計算此串列裡所有元素的總和。\n"
   ]
  },
  {
   "cell_type": "code",
   "execution_count": 52,
   "metadata": {},
   "outputs": [
    {
     "ename": "TypeError",
     "evalue": "list indices must be integers or slices, not list",
     "output_type": "error",
     "traceback": [
      "\u001b[0;31m---------------------------------------------------------------------------\u001b[0m",
      "\u001b[0;31mTypeError\u001b[0m                                 Traceback (most recent call last)",
      "\u001b[0;32m<ipython-input-52-c6a2e2d1a427>\u001b[0m in \u001b[0;36m<module>\u001b[0;34m\u001b[0m\n\u001b[1;32m      5\u001b[0m \u001b[0;34m\u001b[0m\u001b[0m\n\u001b[1;32m      6\u001b[0m \u001b[0;32mfor\u001b[0m \u001b[0mx\u001b[0m \u001b[0;32min\u001b[0m \u001b[0ma\u001b[0m\u001b[0;34m:\u001b[0m\u001b[0;34m\u001b[0m\u001b[0;34m\u001b[0m\u001b[0m\n\u001b[0;32m----> 7\u001b[0;31m         \u001b[0msummary\u001b[0m \u001b[0;34m=\u001b[0m \u001b[0msummary\u001b[0m \u001b[0;34m+\u001b[0m \u001b[0msum\u001b[0m\u001b[0;34m(\u001b[0m\u001b[0ma\u001b[0m\u001b[0;34m[\u001b[0m\u001b[0mx\u001b[0m\u001b[0;34m]\u001b[0m\u001b[0;34m)\u001b[0m\u001b[0;34m\u001b[0m\u001b[0;34m\u001b[0m\u001b[0m\n\u001b[0m\u001b[1;32m      8\u001b[0m \u001b[0;34m\u001b[0m\u001b[0m\n\u001b[1;32m      9\u001b[0m \u001b[0mprint\u001b[0m\u001b[0;34m(\u001b[0m\u001b[0msummary\u001b[0m\u001b[0;34m)\u001b[0m\u001b[0;34m\u001b[0m\u001b[0;34m\u001b[0m\u001b[0m\n",
      "\u001b[0;31mTypeError\u001b[0m: list indices must be integers or slices, not list"
     ]
    }
   ],
   "source": [
    "# Write down your code here\n",
    "a = [[1, 2, 3, 4], [5, 6], [7, 8, 9]]\n",
    "\n",
    "\n",
    "\n",
    "\n",
    "\n",
    "\n",
    "\n"
   ]
  },
  {
   "cell_type": "markdown",
   "metadata": {},
   "source": [
    "EX4: \n",
    "\n",
    "    若:\n",
    "\n",
    "        串列A=[[1,2,3,0],[4,5,6,0],[7,8,9,0]]，\n",
    "        串列B=[[2,4,6,0],[1,3, 5, 0], [0, -1, -2, 0] ];\n",
    "\n",
    "    試產生一個相同尺寸的串列 C，且其內容為 A + B (矩陣相加)的結果。\n",
    "\n"
   ]
  },
  {
   "cell_type": "code",
   "execution_count": null,
   "metadata": {},
   "outputs": [],
   "source": [
    "\n",
    "A = [ [1, 2, 3, 0], [4, 5, 6, 0], [7, 8, 9, 0] ]\n",
    "\n",
    "B = [ [2, 4, 6, 0], [1, 3, 5, 0], [0, -1, -2, 0] ]\n"
   ]
  },
  {
   "cell_type": "code",
   "execution_count": null,
   "metadata": {},
   "outputs": [],
   "source": [
    "# Write down your code here\n",
    "\n",
    "\n",
    "\n",
    "\n",
    "\n",
    "\n",
    "\n"
   ]
  },
  {
   "cell_type": "code",
   "execution_count": null,
   "metadata": {},
   "outputs": [],
   "source": [
    "EX 5: \n",
    "    \n",
    "    試寫一個 Python 函式 common_data(list1, list2)，當我們所輸入的兩個串列 中有相同的項目時，回傳 True，否則回傳 None。\n",
    "    \n",
    "    "
   ]
  },
  {
   "cell_type": "markdown",
   "metadata": {},
   "source": [
    "\n",
    "\n",
    "![True](img.chapter06.01.png \"True\")\n"
   ]
  },
  {
   "cell_type": "markdown",
   "metadata": {},
   "source": [
    "\n",
    "\n",
    "![None](img.chapter06.02.png \"None\")"
   ]
  },
  {
   "cell_type": "markdown",
   "metadata": {},
   "source": [
    "例如:\n",
    "\n",
    "    輸入: common_data([1,2,3,4,5], [5,6,7,8,9]) \n",
    "    輸出: True\n",
    "    \n",
    "        \n",
    "    輸入: common_data([1,2,3,4,5], [6,7,8,9]) \n",
    "    輸出: None\n",
    "    \n",
    "    \n",
    "    "
   ]
  },
  {
   "cell_type": "code",
   "execution_count": 8,
   "metadata": {},
   "outputs": [
    {
     "name": "stdout",
     "output_type": "stream",
     "text": [
      "Common element: 5\n",
      "True\n",
      "No common element!\n",
      "None\n"
     ]
    }
   ],
   "source": [
    "# Write your code here    \n",
    "def common_data(list1, list2):\n",
    " \n",
    "    for i in list1:\n",
    "        if i in list2:\n",
    "            print(\"Common element: %d\" % i)\n",
    "            return True\n",
    "    print(\"No common element!\")\n",
    "    return None\n",
    "    \n",
    "    \n",
    "    \n",
    "\n",
    "print(common_data([1,2,3,4,5], [5,6,7,8,9])) \n",
    "\n",
    "print(common_data([1,2,3,4,5], [6,7,8,9]))\n"
   ]
  },
  {
   "cell_type": "markdown",
   "metadata": {},
   "source": [
    "\n",
    "EX 6: \n",
    "\n",
    "    試寫一個 Python 程式，它能移除輸入之串列中所有的偶數數值。\n",
    "\n",
    "例如:\n",
    "\n",
    "    輸入: [7, 8, 120, 25, 44, 20, 27]\n",
    "    輸出: [7, 25, 27]"
   ]
  },
  {
   "cell_type": "code",
   "execution_count": null,
   "metadata": {},
   "outputs": [],
   "source": [
    "\n",
    "# Write down your code here\n",
    "\n",
    "\n",
    "\n",
    "\n",
    "\n",
    "\n",
    "\n",
    "\n"
   ]
  },
  {
   "cell_type": "markdown",
   "metadata": {},
   "source": [
    "\n",
    "EX 7:\n",
    "\n",
    "    請撰寫一個 python 程式，它能夠移除輸入串列裡的重覆項。\n",
    "\n"
   ]
  },
  {
   "cell_type": "markdown",
   "metadata": {},
   "source": [
    "![Remove the duplicate items](img.chapter06.03.png \"Remove the duplicate items\")"
   ]
  },
  {
   "cell_type": "markdown",
   "metadata": {},
   "source": [
    "![alt text](img.chapter06.04.png \"Title\")"
   ]
  },
  {
   "cell_type": "markdown",
   "metadata": {},
   "source": [
    "例如:\n",
    "\n",
    "    輸入: [10,20,30,20,10,50,60,40,80,50,40] \n",
    "    輸出: [40, 10, 80, 50, 20, 60, 30]\n",
    "    \n",
    "    "
   ]
  },
  {
   "cell_type": "code",
   "execution_count": 14,
   "metadata": {},
   "outputs": [
    {
     "name": "stdout",
     "output_type": "stream",
     "text": [
      "Count of 10: 2\n",
      "Count of 20: 2\n",
      "Count of 30: 1\n",
      "Count of 20: 2\n",
      "Count of 10: 2\n",
      "Count of 50: 2\n",
      "Count of 60: 1\n",
      "Count of 40: 2\n",
      "Count of 80: 1\n",
      "Count of 50: 2\n",
      "Count of 40: 2\n"
     ]
    }
   ],
   "source": [
    " def remove_duplate(list1):\n",
    "    list2 = list1\n",
    "    for i in list1:\n",
    "        print (\"Count of %d: %d\" % (i, list1.count(i)))\n",
    "\n",
    "\n",
    "remove_duplate([10,20,30,20,10,50,60,40,80,50,40])\n",
    "\n"
   ]
  },
  {
   "cell_type": "markdown",
   "metadata": {},
   "source": [
    "EX 8:\n",
    "\n",
    "    請撰寫一個 python 函式 first_repeated_word(str1)，它能夠找出輸入字串裡第一個重覆的字(word)。\n",
    "    \n",
    "    "
   ]
  },
  {
   "cell_type": "markdown",
   "metadata": {},
   "source": [
    "\n",
    "例如:\n",
    "\n",
    "    輸入: first_repeated_word(\"this applied cat ball cat\") \n",
    "    輸出: cat\n",
    "    \n",
    "    \n",
    "    輸入: first_repeated_word(\"app www and david www abc del\")\n",
    "    輸出: www\n",
    "        \n",
    "        "
   ]
  },
  {
   "cell_type": "code",
   "execution_count": null,
   "metadata": {},
   "outputs": [],
   "source": [
    "def first_repeated_word(str1):\n",
    "    # Write your code here\n",
    "    \n",
    "\n",
    "    \n",
    "    \n",
    "    \n",
    "    \n",
    "    \n",
    "    \n",
    "\n",
    "print(first_repeated_word(\"this applied cat ball cat\"))\n",
    "\n",
    "print(first_repeated_word(\"app www and david www abc del\"))\n"
   ]
  },
  {
   "cell_type": "markdown",
   "metadata": {},
   "source": [
    "EX 9:\n",
    "\n",
    "    對於一個由許多單字(word)所構成的串列 wordLst，請撰寫一個 python 程 式，它能夠列印出 wordLst 這個串列中長度最長的單字。\n",
    "\n",
    "例如:\n",
    "\n",
    "    輸入: wordlist = [\"Circuit\", \"Analysis\", \"Information\", \"Python\"]\n",
    "    輸出: Information\n",
    "    \n",
    "    \n",
    "    輸入: wordlist = [\"APP\", \"VHDL\", \"Digital\"]\n",
    "    輸出: Digital"
   ]
  },
  {
   "cell_type": "code",
   "execution_count": null,
   "metadata": {},
   "outputs": [],
   "source": [
    "# Write down your code here\n",
    "\n",
    "\n",
    "\n",
    "\n",
    "\n",
    "\n",
    "\n",
    "\n",
    "\n"
   ]
  },
  {
   "cell_type": "markdown",
   "metadata": {},
   "source": [
    "EX 10: \n",
    "\n",
    "    英文字母中的母音共有\"a\",\"e\",\"i\",\"o\",\"u\"等五個字母，若將同樣字母的大小寫視為不同字元的話，\n",
    "    則共有 [\"A\",\"E\",\"I\",\"O\",\"U\",\"a\",\"e\",\"i\",\"o\",\"u\"] 等十個不同的字元。\n",
    "    \n",
    "    試設計一程式，當使用者輸入某一個字串時，程式會列印出字串中的母音種類個數。\n",
    "    \n",
    "    "
   ]
  },
  {
   "cell_type": "markdown",
   "metadata": {},
   "source": [
    "例如:\n",
    "    \n",
    "    輸入 zoo, 則輸出 1 \n",
    "    \n",
    "    輸入 Eye, 則輸出 2\n",
    "    \n",
    "    "
   ]
  },
  {
   "cell_type": "markdown",
   "metadata": {},
   "source": [
    "\n",
    "## 6-2 tuple (序對)\n",
    "\n"
   ]
  },
  {
   "cell_type": "markdown",
   "metadata": {},
   "source": [
    "\n",
    "tuple 的用法很接近 list，兩者也都屬於序列(Sequence)型別;\n",
    "\n",
    "不過 list 是屬於可變動(Mutable)物件，而 tuple 是不可變動(Immutable)物件，也就是說 tuple 的內容在宣告後是不能修改的，因此它適合用來存放一些不會變更 的資料。\n",
    "\n",
    "\n",
    "事實上，我們也可以將之視為不可改變的 list。\n"
   ]
  },
  {
   "cell_type": "markdown",
   "metadata": {},
   "source": [
    "\n",
    "### 6-2-1 建立 tuple\n"
   ]
  },
  {
   "cell_type": "code",
   "execution_count": null,
   "metadata": {},
   "outputs": [],
   "source": [
    "\n",
    "要創建一個 tuple，只要將不同型別的元素用逗號分隔開來，再使用小括號括起來即可:\n",
    "\n",
    "    "
   ]
  },
  {
   "cell_type": "code",
   "execution_count": 1,
   "metadata": {},
   "outputs": [],
   "source": [
    "mytuple1 = () #建立空的tuple\n",
    "mytuple2 = (100, ) #建立內容只有一個項目，且其值為100的tuple\n",
    "mytuple3 = (1, 2, 3, 4, 5, 6) #建立包含1, 2, .., 6的tuple\n",
    "mytuple4 = (1, 'physics', 2, 'chemistry', 3, 1997, 4, 2000) #包含8個元素"
   ]
  },
  {
   "cell_type": "code",
   "execution_count": 2,
   "metadata": {},
   "outputs": [
    {
     "name": "stdout",
     "output_type": "stream",
     "text": [
      "()\n",
      "(100,)\n",
      "(1, 2, 3, 4, 5, 6)\n",
      "(1, 'physics', 2, 'chemistry', 3, 1997, 4, 2000)\n"
     ]
    }
   ],
   "source": [
    "print(mytuple1)\n",
    "print(mytuple2)\n",
    "print(mytuple3)\n",
    "print(mytuple4)"
   ]
  },
  {
   "cell_type": "markdown",
   "metadata": {},
   "source": [
    "### 6-2-2 利用索引運算子取得 tuple 裡的元素\n",
    "\n"
   ]
  },
  {
   "cell_type": "markdown",
   "metadata": {},
   "source": [
    "\n",
    "如同 list 的作法，我們可以利用索引運算子(即中括號[])來取得 tuple 裡的 元素，例如\n",
    "\n"
   ]
  },
  {
   "cell_type": "code",
   "execution_count": 4,
   "metadata": {},
   "outputs": [
    {
     "name": "stdout",
     "output_type": "stream",
     "text": [
      "(1, 2, 3)\n",
      "(1, 'physics', 2, 'chemistry', 3, 1997, 4, 2000)\n"
     ]
    }
   ],
   "source": [
    "print(mytuple3[0:3])      #列印mytuple2裡第1到第3個元素 \n",
    "\n",
    "print(mytuple4[:8])       #列印mytuple3裡第1到第8個元素"
   ]
  },
  {
   "cell_type": "markdown",
   "metadata": {},
   "source": [
    "\n",
    "但由於 tuple 是不可變動的物件，如果我們想要利用索引來改變裡面元素的值，直譯器會會顯示錯誤訊息:\n",
    "\n"
   ]
  },
  {
   "cell_type": "code",
   "execution_count": 1,
   "metadata": {},
   "outputs": [
    {
     "ename": "TypeError",
     "evalue": "'tuple' object does not support item assignment",
     "output_type": "error",
     "traceback": [
      "\u001b[0;31m---------------------------------------------------------------------------\u001b[0m",
      "\u001b[0;31mTypeError\u001b[0m                                 Traceback (most recent call last)",
      "\u001b[0;32m<ipython-input-1-4893a04a9dde>\u001b[0m in \u001b[0;36m<module>\u001b[0;34m\u001b[0m\n\u001b[1;32m      1\u001b[0m \u001b[0mmytuple5\u001b[0m \u001b[0;34m=\u001b[0m \u001b[0;34m(\u001b[0m\u001b[0;36m1\u001b[0m\u001b[0;34m,\u001b[0m \u001b[0;36m2\u001b[0m \u001b[0;34m,\u001b[0m \u001b[0;36m3\u001b[0m\u001b[0;34m)\u001b[0m\u001b[0;34m\u001b[0m\u001b[0;34m\u001b[0m\u001b[0m\n\u001b[0;32m----> 2\u001b[0;31m \u001b[0mmytuple5\u001b[0m\u001b[0;34m[\u001b[0m\u001b[0;36m0\u001b[0m\u001b[0;34m]\u001b[0m \u001b[0;34m=\u001b[0m \u001b[0;36m7\u001b[0m\u001b[0;34m\u001b[0m\u001b[0;34m\u001b[0m\u001b[0m\n\u001b[0m",
      "\u001b[0;31mTypeError\u001b[0m: 'tuple' object does not support item assignment"
     ]
    }
   ],
   "source": [
    "mytuple5 = (1, 2 , 3)\n",
    "mytuple5[0] = 7"
   ]
  },
  {
   "cell_type": "markdown",
   "metadata": {},
   "source": [
    "### 6-2-3 連接運算子\n",
    "\n"
   ]
  },
  {
   "cell_type": "markdown",
   "metadata": {},
   "source": [
    "\n",
    "利用+運算子可以連接兩個 tuple:\n",
    "\n"
   ]
  },
  {
   "cell_type": "code",
   "execution_count": 2,
   "metadata": {},
   "outputs": [
    {
     "data": {
      "text/plain": [
       "(1, 2, 3, 4, 5, 6, 1, 'physics', 2, 'chemistry', 3, 1997, 4, 2000)"
      ]
     },
     "execution_count": 2,
     "metadata": {},
     "output_type": "execute_result"
    }
   ],
   "source": [
    "mytuple2 = (1, 2, 3, 4, 5, 6) #建立包含1, 2, .., 6的tuple\n",
    "mytuple3 = (1, 'physics', 2, 'chemistry', 3, 1997, 4, 2000) #包含8個元素\n",
    "mytuple2 + mytuple3"
   ]
  },
  {
   "cell_type": "markdown",
   "metadata": {},
   "source": [
    "\n",
    "或是執行(2, 3, 5) + (3, 5, 9)，應可得(2, 3, 5, 3, 5, 9)的 tuple:\n"
   ]
  },
  {
   "cell_type": "code",
   "execution_count": 3,
   "metadata": {},
   "outputs": [
    {
     "data": {
      "text/plain": [
       "(2, 3, 5, 3, 5, 9)"
      ]
     },
     "execution_count": 3,
     "metadata": {},
     "output_type": "execute_result"
    }
   ],
   "source": [
    "(2, 3, 5) + (3, 5, 9)"
   ]
  },
  {
   "cell_type": "markdown",
   "metadata": {},
   "source": [
    "### 6-2-4 重覆運算子\n",
    "\n",
    "\n"
   ]
  },
  {
   "cell_type": "markdown",
   "metadata": {},
   "source": [
    "\n",
    "利用* 運算子可以重覆串列的內容，例如利用 mytuple2 * 3 便可以將 mytuple2 的內容重覆三次:\n"
   ]
  },
  {
   "cell_type": "code",
   "execution_count": 4,
   "metadata": {},
   "outputs": [
    {
     "data": {
      "text/plain": [
       "(1, 2, 3, 4, 5, 6, 1, 2, 3, 4, 5, 6, 1, 2, 3, 4, 5, 6)"
      ]
     },
     "execution_count": 4,
     "metadata": {},
     "output_type": "execute_result"
    }
   ],
   "source": [
    "\n",
    "mytuple2 = (1, 2, 3, 4, 5, 6)\n",
    "mytuple2 *3\n"
   ]
  },
  {
   "cell_type": "markdown",
   "metadata": {},
   "source": [
    "### 6-2-5 比較運算子與 in、not in 運算子\n",
    "\n"
   ]
  },
  {
   "cell_type": "code",
   "execution_count": null,
   "metadata": {},
   "outputs": [],
   "source": [
    "\n",
    "利用“==”、 “!=”、“>=”、 “<=”、 “>”、 “<”等比較運算子，便可以用來比較兩個 tuple 的大小或相等與否:\n",
    "    \n",
    "    "
   ]
  },
  {
   "cell_type": "code",
   "execution_count": 5,
   "metadata": {},
   "outputs": [
    {
     "name": "stdout",
     "output_type": "stream",
     "text": [
      "False\n",
      "True\n",
      "False\n",
      "True\n"
     ]
    }
   ],
   "source": [
    "mytuple1 = (1, 2 , 3)\n",
    "mytuple2 = (1, 2 , 3, 4)\n",
    "\n",
    "\n",
    "print( mytuple1 == mytuple2) #結果為假 \n",
    "\n",
    "print( mytuple1 != mytuple2) #結果為真 \n",
    "\n",
    "print( mytuple1 > mytuple2) #結果為假 \n",
    "\n",
    "print( mytuple1 < mytuple2) #結果為真"
   ]
  },
  {
   "cell_type": "markdown",
   "metadata": {},
   "source": [
    "\n",
    "利用 in 和 not in 運算子，則是可以檢查某個元素是否存在於 tuple 中:\n",
    "\n"
   ]
  },
  {
   "cell_type": "code",
   "execution_count": 6,
   "metadata": {},
   "outputs": [
    {
     "name": "stdout",
     "output_type": "stream",
     "text": [
      "False\n",
      "True\n",
      "True\n",
      "False\n"
     ]
    }
   ],
   "source": [
    "mytuple1 = (1, 2 , 3)\n",
    "mytuple2 = (1, 2 , 3, 4)\n",
    "\n",
    "\n",
    "print(4 in mytuple1 )      #結果為假\n",
    "\n",
    "print(4 not in  mytuple1)#結果為真 \n",
    "      \n",
    "print(4 in   mytuple2) #結果為真\n",
    "      \n",
    "print(4 not in mytuple2 )#結果為假\n"
   ]
  },
  {
   "cell_type": "markdown",
   "metadata": {},
   "source": [
    "\n",
    "\n",
    "### 6-2-6 與 tuple 有關的方法與函式\n",
    "\n",
    "\n",
    "\n"
   ]
  },
  {
   "cell_type": "markdown",
   "metadata": {},
   "source": [
    "\n",
    "\n",
    "tuple 的內容在初始化之後就不能修改了，因此它沒有 append()，insert() 這些方法，常用於 tuple 處理的方法如下:\n",
    "\n"
   ]
  },
  {
   "cell_type": "markdown",
   "metadata": {},
   "source": [
    "\n",
    "* tuple.index(x): 傳回元素x第一次出現在tuple的索引值\n",
    "* tuple.count(x):傳回元素x在tuple中出現的次數\n"
   ]
  },
  {
   "cell_type": "markdown",
   "metadata": {},
   "source": [
    "例如:\n"
   ]
  },
  {
   "cell_type": "code",
   "execution_count": 7,
   "metadata": {},
   "outputs": [
    {
     "name": "stdout",
     "output_type": "stream",
     "text": [
      "5\n",
      "3\n"
     ]
    }
   ],
   "source": [
    "\n",
    "mytuple = (1, 3, 4, 5, 6, 7, 11, 13, 4, 7, 5, 16, 7)\n",
    "\n",
    "print(mytuple.index(7))\n",
    "print(mytuple.count(7))"
   ]
  },
  {
   "cell_type": "markdown",
   "metadata": {},
   "source": [
    "\n",
    "\n",
    "除了上述的眾多方法之外，len()、max()、min()和 sum()等內建函式也適 用於操作 tuple，\n",
    "\n",
    "例如:"
   ]
  },
  {
   "cell_type": "code",
   "execution_count": 8,
   "metadata": {},
   "outputs": [
    {
     "name": "stdout",
     "output_type": "stream",
     "text": [
      "6\n",
      "7\n",
      "1\n",
      "26\n"
     ]
    }
   ],
   "source": [
    "\n",
    "mytuple = (1, 3, 4, 5, 6, 7)\n",
    "\n",
    "print(len(mytuple)) #列印mytuple的長度\n",
    "\n",
    "print(max(mytuple))  #列印mytuple裡最大的元素\n",
    "\n",
    "print(min(mytuple))  #列印mytuple裡最小的元素\n",
    "\n",
    "print(sum(mytuple)) #列印mytuple裡元素的總和\n",
    "\n",
    "\n"
   ]
  },
  {
   "cell_type": "markdown",
   "metadata": {},
   "source": [
    "\n",
    "由於 tuple 的元素值不可修改，因此 tuple 沒有像 list 有一些改變元素值的方法(例如:list.append()、list.sort()、list.reverse()等)。\n",
    "\n",
    "\n",
    "在 Python 內建函數也有提供 sorted() 函式可以提供用來排序現有的 list 或是 tuple (但不改變它), 並回傳一個新的已排序完成的 list。\n",
    "\n",
    "例如:"
   ]
  },
  {
   "cell_type": "code",
   "execution_count": 9,
   "metadata": {},
   "outputs": [
    {
     "name": "stdout",
     "output_type": "stream",
     "text": [
      "[3, 8, 12, 20, 21, 56]\n",
      "[56, 21, 20, 12, 8, 3]\n"
     ]
    }
   ],
   "source": [
    "\n",
    "grades = (20, 21, 56, 12, 3, 8) # grades是一個tuple\n",
    "\n",
    "print(sorted(grades)) #列印出來的結果是一個排序後的list\n",
    "\n",
    "print(sorted(grades, reverse = True)) # 輸入布林值 True，就會反轉排列的順序\n",
    "\n"
   ]
  },
  {
   "cell_type": "markdown",
   "metadata": {},
   "source": [
    "\n",
    "而 reversed()而是用來反轉資料的內容，它可以用在字串、list 或 tuple 中。 例如:\n",
    "\n"
   ]
  },
  {
   "cell_type": "code",
   "execution_count": 11,
   "metadata": {},
   "outputs": [
    {
     "name": "stdout",
     "output_type": "stream",
     "text": [
      "erotS PPA\n",
      "[6, 34, 21, 4, 3, 2, 1]\n",
      "(6, 34, 21, 4, 3, 2, 1)\n"
     ]
    }
   ],
   "source": [
    "\n",
    "mystr = \"APP Store\"\n",
    "mylist = [1, 2, 3, 4, 21, 34, 6] \n",
    "mytuple = (1, 2, 3, 4, 21, 34, 6)\n",
    "\n",
    "y1 = reversed(\"APP Store\") \n",
    "\n",
    "for i in y1:\n",
    "    print(i, end='') # erotS PPA\n",
    "    \n",
    "print()\n",
    "    \n",
    "y2 = reversed(mylist)\n",
    "print(list(y2)) #[6, 34, 21, 4, 3, 2, 1]\n",
    "\n",
    "y3 = reversed(mytuple)\n",
    "print(tuple(y3)) #(6, 34, 21, 4, 3, 2, 1)"
   ]
  },
  {
   "cell_type": "markdown",
   "metadata": {},
   "source": [
    "\n",
    "在上面的例子中，我們用到型別轉換的功能，型別轉換能在我們的實作過程提供很多很方便的應用。\n",
    "\n",
    "雖然 tuple 的內容不可更改，但由於 list 與 tuple 都是屬於序列(Sequence)型別;因此，若有需要更改 tuple 的內容時，我們可以先將一個 tuple 轉換成 list，變更 list 裡的項目後，再轉換為 tuple，\n",
    "\n",
    "例如:\n",
    "\n"
   ]
  },
  {
   "cell_type": "code",
   "execution_count": 12,
   "metadata": {},
   "outputs": [
    {
     "name": "stdout",
     "output_type": "stream",
     "text": [
      "(14, 6, 12, 8, 23, 1, 30)\n"
     ]
    }
   ],
   "source": [
    "mytuple = (14, 6, 12, 8, 23, 1)\n",
    "\n",
    "mylist = list(mytuple) #把tuple轉換成list \n",
    "\n",
    "mylist.append(30)\n",
    "mytuple = tuple(mylist) #把list轉換為tuple\n",
    "\n",
    "\n",
    "print(mytuple) # mytuple = (14, 6, 12, 8, 23, 1, 30)"
   ]
  },
  {
   "cell_type": "markdown",
   "metadata": {},
   "source": [
    "\n",
    "\n",
    "\n",
    "### 6-2-7 以迭代作法來讀取 tuple 的數值\n",
    "\n",
    "\n",
    "\n"
   ]
  },
  {
   "cell_type": "markdown",
   "metadata": {},
   "source": [
    "\n",
    "如同 list 等資料型別，我們也可以用 for-loop 敘述來讀取 tuple 的內容:\n"
   ]
  },
  {
   "cell_type": "code",
   "execution_count": 13,
   "metadata": {},
   "outputs": [
    {
     "name": "stdout",
     "output_type": "stream",
     "text": [
      "1 3 4 5 9 "
     ]
    }
   ],
   "source": [
    "mytuple = (1, 3, 4, 5, 9)\n",
    "\n",
    "for i in mytuple: \n",
    "        print(i, end = ' ')"
   ]
  },
  {
   "cell_type": "markdown",
   "metadata": {},
   "source": [
    "\n",
    "## 6-x tuple 綜合練習\n",
    "\n",
    "\n"
   ]
  },
  {
   "cell_type": "code",
   "execution_count": null,
   "metadata": {},
   "outputs": [],
   "source": [
    "EX 1: \n",
    "    \n",
    "    試撰寫一個 Python 函式 tuplexEdit(tuplex)，並利用資料型別轉換的作法， 刪除所傳遞進來之 tuple 從前面算過來第 4 個項目，以及從末端算過來第 4 個項目的內容(假設 tuple 的長度均超過 10)，並回傳更改後的 tuple 內容。\n",
    "\n",
    "    \n",
    "例如:\n"
   ]
  },
  {
   "cell_type": "markdown",
   "metadata": {},
   "source": [
    "輸入:\n",
    "\n",
    "    print(tuplexEdit((\"E\", \"m\", \"b\", \"e\", \"d\", \"e\", \"d\", \"S\", \"y\", \"s\", \"t\", \"e\", \"m\")))\n",
    "\n",
    "執行結果:\n",
    "\n",
    "    ('E', 'm', 'b', 'd', 'e', 'd', 'S', 'y', 't', 'e', 'm')\n",
    "    \n",
    "    \n",
    "輸入:\n",
    "\n",
    "    print(tuplexEdit((\"1\", \"2\", \"3\", \"4\", \"5\", \"6\", \"7\", \"8\", \"9\", \"10\", \"11\", \"12\", \"13\")))\n",
    "    \n",
    " 執行結果:\n",
    " \n",
    "  \n",
    "    ('1', '2', '3', '5', '6', '7', '8', '9', '11', '12', '13')"
   ]
  },
  {
   "cell_type": "code",
   "execution_count": null,
   "metadata": {},
   "outputs": [],
   "source": [
    "# Write down your code here\n",
    "\n",
    "def tuplexEdit(x):\n",
    "\n",
    "\n",
    "\n",
    "\n",
    "\n",
    "\n",
    "\n",
    "\n",
    "\n",
    "\n",
    "\n",
    "\n",
    "\n",
    "\n",
    "\n",
    "\n",
    "\n",
    "\n",
    "print(tuplexEdit((\"E\", \"m\", \"b\", \"e\", \"d\", \"e\", \"d\", \"S\", \"y\", \"s\", \"t\", \"e\", \"m\")))\n",
    "\n",
    "print(tuplexEdit((\"1\", \"2\", \"3\", \"4\", \"5\", \"6\", \"7\", \"8\", \"9\", \"10\", \"11\", \"12\", \"13\")))\n",
    "\n",
    "print(tuplexEdit((7, 5, 4, 41, 2, 5, 6, 2, \"y\", \"4\", \"3\", 1)))\n",
    "\n",
    "print(tuplexEdit((\"P\", \"y\", \"t\", \"h\", \"o\", \"n\", \"w\", \"o\", \"r\", \"k\")))\n",
    "\n",
    "print(tuplexEdit((\"m\", \"a\", \"t\", \"l\", \"a\", \"b\", \"d\", \"i\", \"y\", \"s\")))"
   ]
  },
  {
   "cell_type": "markdown",
   "metadata": {},
   "source": [
    "\n",
    "EX 2: \n",
    "    試撰寫一個 Python 函式 tuplexcount(tuplex)，它能計算傳遞進來的 tuple 之 每一個項目出現的次數 ，並儲存成一個 list 回傳內容。\n"
   ]
  },
  {
   "cell_type": "markdown",
   "metadata": {},
   "source": [
    "例如:\n",
    "\n",
    "\n",
    "輸入\n",
    "\n",
    "    print(tuplexcount((\"E\", \"m\", \"b\", \"b\", \"E\")))\n",
    "\n",
    "執行結果\n",
    "\n",
    "    [2, 1, 2, 2, 2]\n",
    "    \n",
    "    \n",
    "輸入 \n",
    "    \n",
    "   print(tuplexcount((\"1\", \"3\", \"3\", \"4\", \"4\", \"6\", \"7\", \"3\")))\n",
    " \n",
    "執行結果\n",
    "\n",
    "   [1, 3, 3, 2, 2, 1, 1, 3]\n",
    "   "
   ]
  },
  {
   "cell_type": "code",
   "execution_count": null,
   "metadata": {},
   "outputs": [],
   "source": [
    "# Write down your code here\n",
    "\n",
    "def tuplexcount(x):\n",
    "\n",
    "\n",
    "\n",
    "\n",
    "\n",
    "\n",
    "\n",
    "\n",
    "\n",
    "\n",
    "print(tuplexcount((\"E\", \"m\", \"b\", \"b\", \"E\")))\n",
    "\n",
    "print(tuplexcount((\"1\", \"3\", \"3\", \"4\", \"4\",\"6\", \"7\", \"3\")))\n",
    "\n",
    "print(tuplexcount((7, 5, 4, 4, 2, 7, 7, 2, \"y\", \"4\", \"3\", 5)))\n",
    "\n",
    "print(tuplexcount((\"P\", \"y\", \"t\", \"h\", \"o\", \"n\", \"w\", \"o\", \"r\", \"k\")))\n",
    "\n",
    "print(tuplexcount((\"m\", \"a\", \"t\", \"l\", \"a\", \"b\", \"d\", \"i\", \"y\", \"s\")))\n",
    "                   "
   ]
  },
  {
   "cell_type": "markdown",
   "metadata": {},
   "source": [
    "EX 3:\n",
    "\n",
    "    試撰寫一個 Python 函式 lsttuple(lst)，其傳遞進來的 list 裡是由 tuple 所構成的內容。\n",
    "    \n",
    "    函式的功能是將所傳遞進來的 list 裡每一筆 tuple 的末端值更改 為 100，並且回傳。\n",
    "\n",
    "\n"
   ]
  },
  {
   "cell_type": "markdown",
   "metadata": {},
   "source": [
    "例如:\n",
    "\n",
    "輸入\n",
    "    print(lsttuple([(10, 20, 40), (40, 50, 60), (70, 80, 90)]))\n",
    "     \n",
    "執行結果\n",
    "    \n",
    "  [(10, 20, 100), (40, 50, 10 0), (70, 80, 100)]\n",
    "  \n",
    "  \n",
    "輸入 \n",
    "  \n",
    "  print(lsttuple([(20, 20), (400,150), (70, 80), (2, 3)]))\n",
    "   \n",
    "執行結果\n",
    "  \n",
    "  [(20, 100), (400, 100), (70,100), (2, 100)]"
   ]
  },
  {
   "cell_type": "code",
   "execution_count": null,
   "metadata": {},
   "outputs": [],
   "source": [
    "def istuple(x):\n",
    "    \n",
    "# Write down your code here\n",
    "\n",
    "\n",
    "\n",
    "\n",
    "\n",
    "\n",
    "\n",
    "\n",
    "\n",
    "\n",
    "\n",
    "\n",
    "\n",
    "\n",
    "\n",
    "\n",
    "\n",
    "\n",
    "\n",
    "\n",
    "\n",
    "\n",
    "print(lsttuple([(10, 20, 40), (40, 50, 60), (70, 80, 90)]))\n",
    "print(lsttuple([(20, 20), (400, 150), (70, 80), (2, 3)]))\n",
    "print(lsttuple([(100, 20), (140, 350, 60)]))\n",
    "print(lsttuple([(210, 220, 33, 333), (400, 150, 77), (1170, 180)]))\n",
    "print(lsttuple([(200,), (400, 150, 77, 1170, 180)]))"
   ]
  },
  {
   "cell_type": "markdown",
   "metadata": {},
   "source": [
    "EX 4: \n",
    "\n",
    "    同 EX3 的題目，試以串列解析式語法撰寫一個 Python 函式 lsttuple(lst)，其傳遞進來的 list 裡是由 tuple 所構成的內容。\n",
    "    \n",
    "    函式的功能是將所傳遞進來 的 list 裡每一筆 tuple 的末端值更改為 100，並且回傳。\n",
    "    "
   ]
  },
  {
   "cell_type": "markdown",
   "metadata": {},
   "source": [
    "例如:\n",
    "\n",
    "輸入\n",
    "    print(lsttuple([(10, 20, 40), (40, 50, 60), (70, 80, 90)]))\n",
    "    \n",
    "執行結果\n",
    "    [(10, 20, 100), (40, 50, 10 0), (70, 80, 100)]\n",
    "\n",
    "輸入\n",
    "    print(lsttuple([(20, 20), (400, 150), (70, 80), (2, 3)]))\n",
    "\n",
    "執行結果\n",
    "    [(20, 100), (400, 100), (70, 100), (2, 100)]\n",
    "    \n",
    "    "
   ]
  },
  {
   "cell_type": "code",
   "execution_count": null,
   "metadata": {},
   "outputs": [],
   "source": [
    "def lsttuple(x):\n",
    "   # Write down your code here \n",
    "    \n",
    "    \n",
    "    \n",
    "    \n",
    "    \n",
    "    \n",
    "    \n",
    "    \n",
    "    \n",
    "    \n",
    "    \n",
    "    \n",
    "    \n",
    "    \n",
    "    \n",
    "    \n",
    "    \n",
    "    \n",
    "    \n",
    "    \n",
    "    \n",
    "    \n",
    "    print(lsttuple([(10, 20, 40), (40, 50, 60), (70, 80, 90)]))\n",
    "    print(lsttuple([(20, 20), (400, 150), (70, 80), (2, 3)]))\n",
    "    print(lsttuple([(100, 20), (140, 350, 60)]))\n",
    "    print(lsttuple([(200,), (400, 150, 77, 1170, 180)]))\n",
    "    print(lsttuple([(210, 220, 33, 333), (400, 150, 77), (1170, 180)]))\n",
    "    \n",
    "    \n",
    "    \n",
    "    "
   ]
  },
  {
   "cell_type": "markdown",
   "metadata": {},
   "source": [
    "EX 5:\n",
    "\n",
    "    試撰寫一個 Python 函式 lsttupleL(lst)，函式的功能是將所傳遞進來的 list 裡的空 tuple (empty tuple)刪除後回傳。\n",
    "    \n",
    "    "
   ]
  },
  {
   "cell_type": "markdown",
   "metadata": {},
   "source": [
    "例如:\n",
    "\n",
    "輸入\n",
    "    print(lsttupleL([(), (), ('',), ('a', 'b'), ('a', 'b', 'c'), ('d')]))\n",
    "    \n",
    "執行結果\n",
    "  [('',), ('a', 'b'), ('a', 'b', 'c'), 'd']\n",
    "\n",
    "輸入\n",
    "   print(lsttupleL([(100, 20), (''), (140, 350, 60)])) \n",
    "\n",
    "執行結果\n",
    "    [(100, 20), '', (140, 350, 60)]\n",
    "    \n",
    "    "
   ]
  },
  {
   "cell_type": "code",
   "execution_count": null,
   "metadata": {},
   "outputs": [],
   "source": [
    "def lsttupleL(x):\n",
    "# Write down your code here\n",
    "    \n",
    "    \n",
    "    \n",
    "    \n",
    "    \n",
    "    \n",
    "    \n",
    "    \n",
    "    \n",
    "    \n",
    "    \n",
    "    \n",
    "    \n",
    "    \n",
    "    \n",
    "    \n",
    "    print(lsttupleL([(), (), ('',), ('a', 'b'), ('a', 'b', 'c'), ('d')])) \n",
    "    print(lsttupleL([(20, 20), (), (), (2, 3)]))\n",
    "    print(lsttupleL([(100, 20), (''), (140, 350, 60)])) \n",
    "    print(lsttupleL([(210, 220, 33, 333), (), (1170, 180)]))\n",
    "    print(lsttupleL([(200,), ('',)]))"
   ]
  }
 ],
 "metadata": {
  "celltoolbar": "Attachments",
  "kernelspec": {
   "display_name": "Python 3",
   "language": "python",
   "name": "python3"
  },
  "language_info": {
   "codemirror_mode": {
    "name": "ipython",
    "version": 3
   },
   "file_extension": ".py",
   "mimetype": "text/x-python",
   "name": "python",
   "nbconvert_exporter": "python",
   "pygments_lexer": "ipython3",
   "version": "3.7.4"
  }
 },
 "nbformat": 4,
 "nbformat_minor": 4
}
