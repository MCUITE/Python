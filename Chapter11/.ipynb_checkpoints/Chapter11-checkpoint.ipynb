{
 "cells": [
  {
   "cell_type": "markdown",
   "metadata": {},
   "source": [
    "# Turtle 繪圖\n",
    "\n"
   ]
  },
  {
   "cell_type": "markdown",
   "metadata": {},
   "source": [
    "## 繪圖初體驗\n"
   ]
  },
  {
   "cell_type": "markdown",
   "metadata": {},
   "source": [
    "#### 繪製正方形\n",
    "\n"
   ]
  },
  {
   "cell_type": "code",
   "execution_count": 53,
   "metadata": {},
   "outputs": [],
   "source": [
    "import turtle\n",
    "\n",
    "turtle.clearscreen() # 清除螢幕"
   ]
  },
  {
   "cell_type": "code",
   "execution_count": 45,
   "metadata": {},
   "outputs": [],
   "source": [
    "\n",
    "\n",
    "t = turtle.Pen()\n",
    "      \n",
    "t.forward(100)      # 海龜向前繪線移動100\n",
    "t.left(90)          # 海龜方向左轉90度\n",
    "t.forward(100)      # 往前繪線移動100\n",
    "t.left(90)\n",
    "t.forward(100)\n",
    "t.left(90)\n",
    "t.forward(100)\n",
    "t.left(90)"
   ]
  },
  {
   "cell_type": "markdown",
   "metadata": {},
   "source": [
    "\n",
    "#### 畫三角形\n",
    "\n",
    " \n",
    " 使用 penup()/up() 可以只移動筆而不畫圖\n",
    " \n",
    " pendown()/down() 繼續畫"
   ]
  },
  {
   "cell_type": "code",
   "execution_count": 6,
   "metadata": {},
   "outputs": [],
   "source": [
    "import turtle\n",
    "\n",
    "turtle.clearscreen()\n",
    "t = turtle.Pen()\n",
    "\n",
    "# 第一個三角形\n",
    "\n",
    "t.forward(50)\n",
    "t.left(120)\n",
    "t.forward(50)\n",
    "t.left(120)\n",
    "t.forward(50)\n",
    "\n",
    "#移動位置\n",
    "\n",
    "t.penup()\n",
    "t.forward(50)\n",
    "t.pendown()\n",
    "\n",
    "\n",
    "# 第二個三角形\n",
    "\n",
    "t.forward(50)\n",
    "t.left(120)\n",
    "t.forward(50)\n",
    "t.left(120)\n",
    "t.forward(50)\n",
    "t.right(120)\n",
    "\n",
    "\n",
    "#移動位置\n",
    "\n",
    "t.penup()\n",
    "t.forward(100)\n",
    "t.right(60)\n",
    "t.pendown()\n",
    "\n",
    "# 第三個三角形\n",
    "\n",
    "t.forward(50)\n",
    "t.right(120)\n",
    "t.forward(50)\n",
    "t.right(120)\n",
    "t.forward(50)"
   ]
  },
  {
   "cell_type": "markdown",
   "metadata": {},
   "source": [
    "\n",
    "#### 畫五角星星\n",
    "\n"
   ]
  },
  {
   "cell_type": "code",
   "execution_count": 7,
   "metadata": {},
   "outputs": [],
   "source": [
    "import turtle\n",
    "\n",
    "turtle.clearscreen()\n",
    "\n",
    "t = turtle.Pen()\n",
    "\n",
    "t.up()                  # 畫筆拿起來, 先不要畫線\n",
    "\n",
    "t.forward(150)\n",
    "\n",
    "t.down()\n",
    "for x in range(1, 6):\n",
    "    t.forward(100)      # 海龜向前繪線移動100\n",
    "    t.left(144)         # 海龜方向左轉144度\n"
   ]
  },
  {
   "cell_type": "markdown",
   "metadata": {},
   "source": [
    "#### 變形"
   ]
  },
  {
   "cell_type": "code",
   "execution_count": 8,
   "metadata": {},
   "outputs": [],
   "source": [
    "import turtle \n",
    "\n",
    "turtle.clearscreen()\n",
    "spiral = turtle.Turtle()\n",
    "\n",
    "for i in range(20):\n",
    "    spiral.forward(i * 10)\n",
    "    spiral.right(144)\n",
    "    \n"
   ]
  },
  {
   "cell_type": "markdown",
   "metadata": {},
   "source": [
    "\n",
    "#### 繪製有趣圖型\n"
   ]
  },
  {
   "cell_type": "code",
   "execution_count": 9,
   "metadata": {},
   "outputs": [],
   "source": [
    "import turtle\n",
    "turtle.clearscreen()\n",
    "t = turtle.Pen()\n",
    "\n",
    "for x in range(1, 40):\n",
    "    t.forward(200)          # 海龜向前繪線移動200\n",
    "    t.right(95)             # 海龜方向右轉95度\n"
   ]
  },
  {
   "cell_type": "code",
   "execution_count": 4,
   "metadata": {},
   "outputs": [],
   "source": [
    "import turtle\n",
    "turtle.clearscreen()\n",
    "t = turtle.Pen()\n",
    "\n",
    "for x in range(1, 100):\n",
    "    t.forward(x)            # 海龜向前繪線移動x\n",
    "    t.right(91)             # 海龜方向右轉91度\n"
   ]
  },
  {
   "cell_type": "markdown",
   "metadata": {},
   "source": [
    "### 控制畫筆色與粗細\n",
    "\n"
   ]
  },
  {
   "cell_type": "markdown",
   "metadata": {},
   "source": [
    "\n",
    "用 color() 來更換顏色\n"
   ]
  },
  {
   "cell_type": "code",
   "execution_count": 60,
   "metadata": {},
   "outputs": [],
   "source": [
    "t.color('red')\n",
    "t.pensize(3)\n",
    "t.forward(150)\n",
    "t.right(90)\n",
    "t.forward(150)\n",
    "t.right(90)\n",
    "t.forward(150)\n",
    "t.right(90)\n",
    "t.forward(150)"
   ]
  },
  {
   "cell_type": "markdown",
   "metadata": {},
   "source": [
    "\n",
    "用 pensize() 來更改畫筆粗細"
   ]
  },
  {
   "cell_type": "code",
   "execution_count": 61,
   "metadata": {},
   "outputs": [],
   "source": [
    "import turtle\n",
    "\n",
    "turtle.clearscreen() # 清除螢幕\n",
    "\n",
    "t.color('blue')\n",
    "    \n",
    "t.pensize(5)\n",
    "t.forward(150)\n",
    "t.right(90)\n",
    "t.forward(150)\n",
    "t.right(90)\n",
    "t.forward(150)\n",
    "t.right(90)\n",
    "t.forward(150)\n",
    "t.right(90)"
   ]
  },
  {
   "cell_type": "code",
   "execution_count": 62,
   "metadata": {},
   "outputs": [],
   "source": [
    "import turtle\n",
    "turtle.clearscreen()\n",
    "t = turtle.Pen()\n",
    "t.pensize(5)                        # 畫筆寬度\n",
    "colorValue = 1.0\n",
    "colorStep = colorValue / 36\n",
    "for x in range(1, 37):\n",
    "    colorValue -= colorStep\n",
    "    t.color(0.5, 1, colorValue)     # 色彩調整\n",
    "    t.forward(100)                  # 海龜向前繪線移動100\n",
    "    t.left(90)                      # 海龜方向左轉90度\n",
    "    t.forward(100)\n",
    "    t.left(90)\n",
    "    t.forward(100)\n",
    "    t.left(90)\n",
    "    t.forward(100)\n",
    "    t.left(100)                     # 海龜方向左轉100度\n"
   ]
  },
  {
   "cell_type": "code",
   "execution_count": 63,
   "metadata": {},
   "outputs": [],
   "source": [
    "import turtle\n",
    "turtle.clearscreen()\n",
    "t = turtle.Pen()\n",
    "colorsList = ['red','orange','yellow','green','blue','cyan','purple','violet']\n",
    "tWidth = 1                          # 最初畫筆寬度\n",
    "for x in range(1, 41):\n",
    "    t.color(colorsList[x % 8])      # 選擇畫筆顏色\n",
    "    t.forward(2 + x * 5)            # 每次移動距離\n",
    "    t.right(45)                     # 每次旋轉角度\n",
    "    tWidth += x * 0.05              # 每次畫筆寬度遞增    \n",
    "    t.width(tWidth)\n",
    " \n"
   ]
  },
  {
   "cell_type": "markdown",
   "metadata": {},
   "source": [
    "\n",
    "#### 圓、弧或多邊形\n",
    "\n"
   ]
  },
  {
   "cell_type": "markdown",
   "metadata": {},
   "source": [
    "畫四個圓"
   ]
  },
  {
   "cell_type": "code",
   "execution_count": 92,
   "metadata": {},
   "outputs": [],
   "source": [
    "import turtle\n",
    "turtle.clearscreen()\n",
    "t = turtle.Pen()\n",
    "t.circle(50)            # 繪製第1個左上方圓\n",
    "t.circle(-50)           # 繪製第2個左下方圓\n",
    "t.forward(100)\n",
    "t.circle(50)            # 繪製第3個右上方圓\n",
    "t.circle(-50)           # 繪製第4個右下方圓\n"
   ]
  },
  {
   "cell_type": "markdown",
   "metadata": {},
   "source": [
    "\n",
    "\n",
    "畫個圓"
   ]
  },
  {
   "cell_type": "code",
   "execution_count": 93,
   "metadata": {},
   "outputs": [],
   "source": [
    "import turtle\n",
    "turtle.clearscreen()\n",
    "t = turtle.Pen()\n",
    "t.circle(100)            "
   ]
  },
  {
   "cell_type": "markdown",
   "metadata": {},
   "source": [
    "移動畫筆\n",
    "加上一個小圈圈"
   ]
  },
  {
   "cell_type": "code",
   "execution_count": 94,
   "metadata": {},
   "outputs": [],
   "source": [
    "\n",
    "t.up()\n",
    "t.left(90)\n",
    "t.forward(145)\n",
    "t.left(90)\n",
    "t.forward(40)\n",
    "t.down()\n",
    "t.circle(25)"
   ]
  },
  {
   "cell_type": "markdown",
   "metadata": {},
   "source": [
    "移動畫筆\n",
    "加上另一個小圈圈"
   ]
  },
  {
   "cell_type": "code",
   "execution_count": 95,
   "metadata": {},
   "outputs": [],
   "source": [
    "t.right(180)\n",
    "t.up()\n",
    "t.forward(80)\n",
    "t.right(180)\n",
    "t.down()\n",
    "t.circle(25)"
   ]
  },
  {
   "cell_type": "markdown",
   "metadata": {},
   "source": [
    "#### 同心圓\n",
    "\n"
   ]
  },
  {
   "cell_type": "code",
   "execution_count": 98,
   "metadata": {},
   "outputs": [],
   "source": [
    "import turtle\n",
    "turtle.clearscreen()\n",
    "t = turtle.Pen()\n",
    "step = 10                # 每次增加距離\n",
    "for r in range(10, 200, step):\n",
    "    t.circle(r)         # 繪製圓   \n",
    "    t.penup()           # 將筆提起\n",
    "    t.right(90)         # 方向往下\n",
    "    t.forward(step)     # 移動海龜位置起繪點\n",
    "    t.right(270)        # 方向往右\n",
    "    t.pendown()         # 將筆放下準備繪製\n"
   ]
  },
  {
   "cell_type": "markdown",
   "metadata": {},
   "source": [
    "\n",
    "#### 弧形\n",
    "\n"
   ]
  },
  {
   "cell_type": "code",
   "execution_count": 102,
   "metadata": {},
   "outputs": [],
   "source": [
    "import turtle\n",
    "\n",
    "turtle.clearscreen()\n",
    "\n",
    "t = turtle.Pen()\n",
    "step = 5                        # 每次增加距離\n",
    "for r in range(10, 90, step):\n",
    "  \n",
    "    t.circle(r, 90 + r*2)       # 繪製圓   \n",
    "    t.penup()                   # 將筆提起\n",
    "    t.home()                    # 海龜回到原點(0,0)\n",
    "    t.pendown()                 # 將筆放下準備繪製\n"
   ]
  },
  {
   "cell_type": "markdown",
   "metadata": {},
   "source": [
    "\n",
    "#### 用 pencolor 加上顏色\n",
    "\n"
   ]
  },
  {
   "cell_type": "code",
   "execution_count": 5,
   "metadata": {},
   "outputs": [],
   "source": [
    "import turtle \n",
    "\n",
    "\n",
    "turtle.clearscreen()\n",
    "\n",
    "t = turtle.Pen()\n",
    "\n",
    "\n",
    "t.pencolor(\"blue\")\n",
    "\n",
    "for i in range(50):\n",
    "    t.forward(50)\n",
    "    t.left(123) # Let's go counterclockwise this time \n",
    "    \n",
    "t.pencolor(\"red\")\n",
    "for i in range(50):\n",
    "    t.forward(100)\n",
    "    t.left(123)\n",
    "    "
   ]
  },
  {
   "cell_type": "markdown",
   "metadata": {},
   "source": [
    "#### 用  width 設定畫筆粗細\n"
   ]
  },
  {
   "cell_type": "code",
   "execution_count": 103,
   "metadata": {},
   "outputs": [],
   "source": [
    "import turtle\n",
    "\n",
    "turtle.clearscreen()\n",
    "\n",
    "t = turtle.Pen()\n",
    "colors = ['red','orange','yellow','green','blue','cyan','purple','violet']\n",
    "step = 10                       # 每次增加距離\n",
    "twidth = 0                      # 最初寬度0\n",
    "for r in range(1, 11):\n",
    "    t.color(colors[r % 8])      # 選畫筆顏色\n",
    "    twidth += 1                 # 每次迴圈寬度加1\n",
    "    t.width(twidth)             # 設定寬度\n",
    "    t.circle(r*step)            # 繪製圓   \n",
    "    t.penup()                   # 將筆關閉\n",
    "    t.right(90)                 # 方向往下\n",
    "    t.forward(step)             # 移動海龜位置起繪點\n",
    "    t.right(270)                # 方向往右\n",
    "    t.pendown()                 # 將筆開啟準備繪製\n"
   ]
  },
  {
   "cell_type": "markdown",
   "metadata": {},
   "source": [
    "#### 變化圖\n"
   ]
  },
  {
   "cell_type": "code",
   "execution_count": 105,
   "metadata": {},
   "outputs": [],
   "source": [
    "import turtle\n",
    "\n",
    "turtle.clearscreen()\n",
    "t = turtle.Pen()\n",
    "t.color('blue')\n",
    "for angle in range(0, 360, 15):\n",
    "    t.setheading(angle)         # 調整海龜方向\n",
    "    t.circle(100)\n"
   ]
  },
  {
   "cell_type": "markdown",
   "metadata": {},
   "source": [
    "\n",
    "#### 多邊形\n",
    "\n"
   ]
  },
  {
   "cell_type": "code",
   "execution_count": 108,
   "metadata": {},
   "outputs": [],
   "source": [
    "import turtle\n",
    "turtle.clearscreen()\n",
    "t = turtle.Pen()\n",
    "\n",
    "t.color('blue')\n",
    "\n",
    "t.circle(50)            # 繪製第1個左上方圓\n",
    "\n",
    "t.color('green')\n",
    "t.circle(-50, steps=3)  # 繪製第2個左下方三角形\n",
    "\n",
    "t.up()                  # 拿起畫筆並移動\n",
    "t.forward(100)\n",
    "t.down()\n",
    "\n",
    "t.color('red')\n",
    "t.circle(50, steps=4)   # 繪製第3個右上方四邊形\n",
    "\n",
    "t.color('violet')\n",
    "t.circle(-50, steps=5)  # 繪製第4個右下方五邊形"
   ]
  },
  {
   "cell_type": "markdown",
   "metadata": {},
   "source": [
    "\n",
    "\n",
    "## 認識與操作海龜影像\n"
   ]
  },
  {
   "cell_type": "markdown",
   "metadata": {},
   "source": [
    "\n",
    "### shape() 與 stamp()\n",
    "\n",
    "在turtle模組內shape(‘turtle’)方法可以海龜呈現, stamp()可在畫布蓋章\n",
    "\n"
   ]
  },
  {
   "cell_type": "code",
   "execution_count": 109,
   "metadata": {},
   "outputs": [],
   "source": [
    "import turtle\n",
    "turtle.clearscreen()\n",
    "\n",
    "t = turtle.Pen()\n",
    "t.color('blue')\n",
    "t.shape('turtle')\n",
    "for angle in range(0, 361, 15):\n",
    "    t.forward(100)\n",
    "    t.stamp()\n",
    "    t.home()\n",
    "    t.seth(angle)         # 調整海龜方向\n"
   ]
  },
  {
   "cell_type": "markdown",
   "metadata": {},
   "source": [
    "\n",
    "### 用 fill() 填滿顏色\n"
   ]
  },
  {
   "cell_type": "code",
   "execution_count": 110,
   "metadata": {},
   "outputs": [],
   "source": [
    "import turtle\n",
    "turtle.clearscreen()\n",
    "t = turtle.Pen()\n",
    "t.color('blue')         # 設定輪廓顏色\n",
    "t.fillcolor('yellow')   # 設定填充顏色\n",
    "t.begin_fill()          # 開始填充\n",
    "t.circle(50)            # 繪製左方圓\n",
    "t.end_fill()            # 結束填充\n",
    "t.forward(100)\n",
    "t.color('red', 'aqua')  # 設定輪廓顏色是red, 填充顏色是aqua\n",
    "t.begin_fill()          # 開始填充\n",
    "t.circle(50)            # 繪製第2個右方圓\n",
    "t.end_fill()            # 結束填充\n"
   ]
  },
  {
   "cell_type": "markdown",
   "metadata": {},
   "source": [
    "\n",
    "### 顏色動畫的設計\n"
   ]
  },
  {
   "cell_type": "markdown",
   "metadata": {},
   "source": [
    "\n",
    "使用 time.sleep 來控制畫圖的時間\n"
   ]
  },
  {
   "cell_type": "code",
   "execution_count": 1,
   "metadata": {},
   "outputs": [],
   "source": [
    "import turtle, time\n",
    "turtle.clearscreen()\n",
    "colorsList = ['green', 'yellow', 'red']\n",
    "\n",
    "t = turtle.Pen()\n",
    "for i in range(0,3):\n",
    "    t.fillcolor(colorsList[i%3])    # 更改色彩\n",
    "    t.begin_fill()                  # 開始填充\n",
    "    t.circle(50)                    # 繪製左方圓\n",
    "    t.end_fill()                    # 結束填充\n",
    "    time.sleep(3)                   # 每隔3秒執行一次迴圈\n"
   ]
  },
  {
   "cell_type": "code",
   "execution_count": null,
   "metadata": {},
   "outputs": [],
   "source": []
  },
  {
   "cell_type": "markdown",
   "metadata": {},
   "source": [
    "\n",
    "## 碎形\n",
    "\n",
    "### Koch 曲線\n",
    "\n"
   ]
  },
  {
   "cell_type": "code",
   "execution_count": 19,
   "metadata": {},
   "outputs": [],
   "source": [
    "def draw(t, length, loop):\n",
    "    leng = length / 3;\n",
    "    if loop == 0:\n",
    "        return\n",
    "    elif loop == 1:\n",
    "        dr(t, length)\n",
    "        return\n",
    "        \n",
    "    if loop == 2:\n",
    "        dr(t, leng)\n",
    "    else:\n",
    "        draw(t, leng, loop-1)\n",
    "    t.left(angle)\n",
    "    if loop == 2:\n",
    "        dr(t, leng)\n",
    "    else:\n",
    "        draw(t, leng, loop-1)\n",
    "    t.right(angle * 2)\n",
    "    if loop == 2:\n",
    "        dr(t, leng)\n",
    "    else:\n",
    "        draw(t, leng, loop-1)\n",
    "    t.left(angle)\n",
    "    if loop == 2:\n",
    "        dr(t, leng)\n",
    "    else:\n",
    "        draw(t, leng, loop-1)\n",
    "        \n",
    "def dr(t, length):\n",
    "    t.forward(length)\n",
    "    t.left(angle)\n",
    "    t.forward(length)\n",
    "    t.right(angle * 2)\n",
    "    t.forward(length)\n",
    "    t.left(angle)\n",
    "    t.forward(length)\n",
    "    \n",
    "import turtle\n",
    "\n",
    "turtle.clearscreen()\n",
    "\n",
    "turtle.penup()\n",
    "turtle.back(300)\n",
    "turtle.pendown()\n"
   ]
  },
  {
   "cell_type": "markdown",
   "metadata": {},
   "source": [
    "#### angle=60, loop=1"
   ]
  },
  {
   "cell_type": "code",
   "execution_count": 20,
   "metadata": {},
   "outputs": [],
   "source": [
    "turtle.clearscreen()\n",
    "angle = 60\n",
    "draw(turtle, length = 200, loop = 1)"
   ]
  },
  {
   "cell_type": "markdown",
   "metadata": {},
   "source": [
    "#### angle=60, loop=2"
   ]
  },
  {
   "cell_type": "code",
   "execution_count": 21,
   "metadata": {},
   "outputs": [],
   "source": [
    "\n",
    "turtle.clearscreen()\n",
    "\n",
    "\n",
    "angle = 60\n",
    "draw(turtle, length = 200, loop = 2)"
   ]
  },
  {
   "cell_type": "markdown",
   "metadata": {},
   "source": [
    "#### 一起來\n"
   ]
  },
  {
   "cell_type": "code",
   "execution_count": 23,
   "metadata": {},
   "outputs": [],
   "source": [
    "import time\n",
    "\n",
    "turtle.clearscreen()\n",
    "\n",
    "\n",
    "angle = 60\n",
    "\n",
    "for i in range(0,5):\n",
    "    turtle.clearscreen()\n",
    "    turtle.write(i)\n",
    "    draw(turtle, length = 200, loop = i)\n",
    "    time.sleep(1)"
   ]
  },
  {
   "cell_type": "markdown",
   "metadata": {},
   "source": [
    "\n",
    "#### 雪花\n"
   ]
  },
  {
   "cell_type": "code",
   "execution_count": 10,
   "metadata": {},
   "outputs": [],
   "source": [
    "import turtle\n",
    "turtle.clearscreen()\n",
    "t = turtle.Pen()\n",
    "\n",
    "t.penup()\n",
    "t.back(300)\n",
    "t.left(90)\n",
    "t.forward(200)\n",
    "t.right(90)\n",
    "t.pendown()\n",
    "\n",
    "\n",
    "angle = 60\n",
    "\n",
    "\n",
    "draw(turtle, length = 120, loop = 3)\n",
    "\n",
    "t.right(120)\n",
    "draw(turtle, length = 120, loop = 3)\n",
    "\n",
    "t.right(120)\n",
    "draw(turtle, length = 120, loop = 3)"
   ]
  }
 ],
 "metadata": {
  "kernelspec": {
   "display_name": "Python 3",
   "language": "python",
   "name": "python3"
  },
  "language_info": {
   "codemirror_mode": {
    "name": "ipython",
    "version": 3
   },
   "file_extension": ".py",
   "mimetype": "text/x-python",
   "name": "python",
   "nbconvert_exporter": "python",
   "pygments_lexer": "ipython3",
   "version": "3.7.6"
  }
 },
 "nbformat": 4,
 "nbformat_minor": 4
}
