{
 "cells": [
  {
   "cell_type": "markdown",
   "metadata": {},
   "source": [
    "# Turtle 繪圖\n",
    "\n"
   ]
  },
  {
   "cell_type": "markdown",
   "metadata": {},
   "source": [
    "## Homework\n",
    "\n",
    "\n"
   ]
  },
  {
   "cell_type": "markdown",
   "metadata": {},
   "source": [
    "### HW #1\n",
    "\n",
    "執行以下的 code, 然後在程式碼後面加一道自己的問題, 以及適當的回應\n"
   ]
  },
  {
   "cell_type": "code",
   "execution_count": 12,
   "metadata": {},
   "outputs": [
    {
     "name": "stdout",
     "output_type": "stream",
     "text": [
      "What is 7 X 9?44\n"
     ]
    }
   ],
   "source": [
    "import turtle\n",
    "\n",
    "turtle.clearscreen()\n",
    "\n",
    "tom = turtle.Turtle()\n",
    "tom.shape(\"turtle\")\n",
    "tom.pensize(5)\n",
    "tom.color(\"red\")\n",
    "# ask user for a guess and convert it to a integer (whole number)\n",
    "yourGuess = int(input(\"What is 7 X 9?\"))\n",
    "\n",
    "if yourGuess == 7*9:\n",
    "    tom.write(str(yourGuess) + ' is correct!')\n",
    "# move tom's pen up to back away 30 pixels so the above message can be seen\n",
    "    tom.penup()\n",
    "    tom.backward(20)\n",
    "else:\n",
    "    tom.write('Your answer is incorrect.  It should be: ' +  str(7*9))\n",
    "    tom.penup()\n",
    "    tom.backward(30)\n",
    "\n",
    "# 加上一個自己的問題\n",
    "\n",
    "\n",
    "\n",
    "\n",
    "\n",
    "\n",
    "\n",
    "\n",
    "\n",
    "\n",
    "\n",
    "\n",
    "\n",
    "\n"
   ]
  },
  {
   "cell_type": "markdown",
   "metadata": {},
   "source": [
    "## Homework #2\n",
    "\n",
    "\n",
    "先執行以下的 code, 注意看看如何畫半圓形\n"
   ]
  },
  {
   "cell_type": "code",
   "execution_count": 14,
   "metadata": {},
   "outputs": [],
   "source": [
    "import turtle\n",
    "\n",
    "window = turtle.Screen()\n",
    "window.bgcolor(\"white\")\n",
    "\n",
    "circleturtle = turtle.Turtle()\n",
    "circleturtle.color(\"green\")\n",
    "circleturtle.shape(\"turtle\")\n",
    "\n",
    "#Let's draw a circle!\n",
    "circleturtle.circle(150)\n",
    "\n",
    "#WOW! That's a big circle! How about a smaller one?\n",
    "circleturtle.circle(75)\n",
    "\n",
    "#Nice! What if you face the other way?\n",
    "circleturtle.left(180)\n",
    "circleturtle.circle(150)\n",
    "\n",
    "#So point left to draw it from the top down!\n",
    "#point right to draw it from the bottom up!\n",
    "\n",
    "#What about left and right?\n",
    "circleturtle.left(90) \n",
    "circleturtle.circle(50)\n",
    "#Point down means we draw the circle to the right!\n",
    "circleturtle.right(180)\n",
    "circleturtle.circle(50)\n",
    "#Point up means we draw the circle to the left!\n",
    "\n",
    "#How about half a circle?\n",
    "circleturtle.circle(75, 180)\n",
    "#WOW! That's handy! Let's mirror this on the right\n",
    "#How can we get back the to centre easily?\n",
    "circleturtle.home()\n",
    "#Wait! That drew a line! What if we want to move forward without drawing?\n",
    "circleturtle.penup()\n",
    "circleturtle.forward(150)"
   ]
  },
  {
   "cell_type": "markdown",
   "metadata": {},
   "source": [
    "\n",
    "定義一個名為 halfmoon(r) 的函數, 可以畫出不同半徑的半圓形, \n",
    "\n",
    "畫出來的半圓形的形狀, 要跟以下的 code 一樣:\n"
   ]
  },
  {
   "cell_type": "code",
   "execution_count": 17,
   "metadata": {},
   "outputs": [],
   "source": [
    "\n",
    "import turtle\n",
    "\n",
    "turtle.clearscreen()\n",
    "\n",
    "p  = turtle.Pen()\n",
    "p.color(\"green\")\n",
    "p.shape(\"turtle\")\n",
    "\n",
    "# to draw one half circle:\n",
    "\n",
    "p.circle(75, 180)\n",
    "p.left(90)\n",
    "p.forward(150)\n",
    "  \n"
   ]
  },
  {
   "cell_type": "markdown",
   "metadata": {},
   "source": [
    "do it!\n"
   ]
  },
  {
   "cell_type": "code",
   "execution_count": null,
   "metadata": {},
   "outputs": [],
   "source": [
    "# Write your code here\n",
    "\n",
    "import turtle\n",
    "\n",
    "def halfmoon(r):\n",
    "    \n",
    "    \n",
    "    \n",
    "    \n",
    "    \n",
    "    \n",
    "    \n",
    "#main program    \n",
    "    \n",
    "halfmoon()    "
   ]
  },
  {
   "cell_type": "markdown",
   "metadata": {},
   "source": [
    "\n",
    "### HomeWork #3: 畫一隻小熊\n",
    "\n",
    "\n",
    "定義一個 DrawBear()的函數, 可以畫一隻如下的小熊\n",
    "\n",
    "並把耳朵跟眼睛補滿\n",
    "\n",
    "<img src=\"bearface.png\">\n"
   ]
  },
  {
   "cell_type": "code",
   "execution_count": null,
   "metadata": {},
   "outputs": [],
   "source": [
    "#Import Turtle#\n",
    "import turtle\n",
    "\n",
    "#Define a Triangle Function\n",
    "\n",
    "#Define a DrawABear function!\n",
    "  \n",
    "  #Draw the head\n",
    "  #Draw the nose (Triangle Function) Colour!\n",
    "  #Draw the eyes - Colour!\n",
    "  #Draw the ears\n",
    "  #Draw the mouth - Colour!\n",
    "  \n",
    "#Call the function\n",
    "function()"
   ]
  },
  {
   "cell_type": "markdown",
   "metadata": {},
   "source": [
    "\n",
    "### HomeWork #4\n",
    "\n",
    "\n",
    "先看看下面的範例\n"
   ]
  },
  {
   "cell_type": "code",
   "execution_count": 27,
   "metadata": {},
   "outputs": [],
   "source": [
    "import turtle\n",
    "\n",
    "turtle.clearscreen()\n",
    "\n",
    "wn = turtle.Screen()\n",
    "wn.bgcolor(\"lightgreen\")\n",
    "\n",
    "t = turtle.Turtle()\n",
    "t.shape(\"turtle\")\n",
    "t.color(\"blue\")\n",
    "\n",
    "t.penup()                # Why????\n",
    "\n",
    "size = 20\n",
    "for i in range(30):\n",
    "   t.stamp()             # Leave an impression on the canvas\n",
    "   size = size + 3          # Increase the size on every iteration\n",
    "   t.forward(size)       # Move tess along\n",
    "   t.right(24)           #  ...  and turn her\n"
   ]
  },
  {
   "cell_type": "markdown",
   "metadata": {},
   "source": [
    "\n",
    "畫出以下圖形\n",
    "\n",
    "<img src=\"tess_clock1.png\">"
   ]
  },
  {
   "cell_type": "code",
   "execution_count": null,
   "metadata": {},
   "outputs": [],
   "source": [
    "# Write your code here\n",
    "\n",
    "\n",
    "\n",
    "\n",
    "\n",
    "\n",
    "\n",
    "\n",
    "\n",
    "\n",
    "\n",
    "\n",
    "\n",
    "\n",
    "\n",
    "\n",
    "\n",
    "\n"
   ]
  },
  {
   "cell_type": "markdown",
   "metadata": {},
   "source": [
    "\n",
    "### HomeWork-5 流程圖\n",
    "\n",
    "\n",
    "上面四個太簡單了對吧?\n",
    "\n",
    "畫個流程圖出來:\n",
    "\n",
    "<img src=\"flowchart_for.png\">"
   ]
  },
  {
   "cell_type": "code",
   "execution_count": 18,
   "metadata": {},
   "outputs": [],
   "source": [
    "# Write your code here\n",
    "\n",
    "\n",
    "\n"
   ]
  }
 ],
 "metadata": {
  "kernelspec": {
   "display_name": "Python 3",
   "language": "python",
   "name": "python3"
  },
  "language_info": {
   "codemirror_mode": {
    "name": "ipython",
    "version": 3
   },
   "file_extension": ".py",
   "mimetype": "text/x-python",
   "name": "python",
   "nbconvert_exporter": "python",
   "pygments_lexer": "ipython3",
   "version": "3.7.6"
  }
 },
 "nbformat": 4,
 "nbformat_minor": 4
}
