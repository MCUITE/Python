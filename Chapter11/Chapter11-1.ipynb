{
 "cells": [
  {
   "cell_type": "markdown",
   "metadata": {},
   "source": [
    "# Turtle 繪圖\n",
    "\n"
   ]
  },
  {
   "cell_type": "markdown",
   "metadata": {},
   "source": [
    "## 繪圖初體驗\n"
   ]
  },
  {
   "cell_type": "markdown",
   "metadata": {},
   "source": [
    "#### 繪製正方形\n",
    "\n"
   ]
  },
  {
   "cell_type": "code",
   "execution_count": 53,
   "metadata": {},
   "outputs": [],
   "source": [
    "import turtle\n",
    "\n",
    "turtle.clearscreen() # 清除螢幕"
   ]
  },
  {
   "cell_type": "code",
   "execution_count": 45,
   "metadata": {},
   "outputs": [],
   "source": [
    "\n",
    "\n",
    "t = turtle.Pen()\n",
    "      \n",
    "t.forward(100)      # 海龜向前繪線移動100\n",
    "t.left(90)          # 海龜方向左轉90度\n",
    "t.forward(100)      # 往前繪線移動100\n",
    "t.left(90)\n",
    "t.forward(100)\n",
    "t.left(90)\n",
    "t.forward(100)\n",
    "t.left(90)"
   ]
  },
  {
   "cell_type": "markdown",
   "metadata": {},
   "source": [
    "\n",
    "#### 畫三角形\n",
    "\n",
    " \n",
    " 使用 penup()/up() 可以只移動筆而不畫圖\n",
    " \n",
    " pendown()/down() 繼續畫"
   ]
  },
  {
   "cell_type": "code",
   "execution_count": 6,
   "metadata": {},
   "outputs": [],
   "source": [
    "import turtle\n",
    "\n",
    "turtle.clearscreen()\n",
    "t = turtle.Pen()\n",
    "\n",
    "# 第一個三角形\n",
    "\n",
    "t.forward(50)\n",
    "t.left(120)\n",
    "t.forward(50)\n",
    "t.left(120)\n",
    "t.forward(50)\n",
    "\n",
    "#移動位置\n",
    "\n",
    "t.penup()\n",
    "t.forward(50)\n",
    "t.pendown()\n",
    "\n",
    "\n",
    "# 第二個三角形\n",
    "\n",
    "t.forward(50)\n",
    "t.left(120)\n",
    "t.forward(50)\n",
    "t.left(120)\n",
    "t.forward(50)\n",
    "t.right(120)\n",
    "\n",
    "\n",
    "#移動位置\n",
    "\n",
    "t.penup()\n",
    "t.forward(100)\n",
    "t.right(60)\n",
    "t.pendown()\n",
    "\n",
    "# 第三個三角形\n",
    "\n",
    "t.forward(50)\n",
    "t.right(120)\n",
    "t.forward(50)\n",
    "t.right(120)\n",
    "t.forward(50)"
   ]
  },
  {
   "cell_type": "markdown",
   "metadata": {},
   "source": [
    "\n",
    "#### 畫五角星星\n",
    "\n"
   ]
  },
  {
   "cell_type": "code",
   "execution_count": 7,
   "metadata": {},
   "outputs": [],
   "source": [
    "import turtle\n",
    "\n",
    "turtle.clearscreen()\n",
    "\n",
    "t = turtle.Pen()\n",
    "\n",
    "t.up()                  # 畫筆拿起來, 先不要畫線\n",
    "\n",
    "t.forward(150)\n",
    "\n",
    "t.down()\n",
    "for x in range(1, 6):\n",
    "    t.forward(100)      # 海龜向前繪線移動100\n",
    "    t.left(144)         # 海龜方向左轉144度\n"
   ]
  },
  {
   "cell_type": "markdown",
   "metadata": {},
   "source": [
    "#### 變形"
   ]
  },
  {
   "cell_type": "code",
   "execution_count": 8,
   "metadata": {},
   "outputs": [],
   "source": [
    "import turtle \n",
    "\n",
    "turtle.clearscreen()\n",
    "spiral = turtle.Turtle()\n",
    "\n",
    "for i in range(20):\n",
    "    spiral.forward(i * 10)\n",
    "    spiral.right(144)\n",
    "    \n"
   ]
  },
  {
   "cell_type": "markdown",
   "metadata": {},
   "source": [
    "\n",
    "#### 繪製有趣圖型\n"
   ]
  },
  {
   "cell_type": "code",
   "execution_count": 9,
   "metadata": {},
   "outputs": [],
   "source": [
    "import turtle\n",
    "turtle.clearscreen()\n",
    "t = turtle.Pen()\n",
    "\n",
    "for x in range(1, 40):\n",
    "    t.forward(200)          # 海龜向前繪線移動200\n",
    "    t.right(95)             # 海龜方向右轉95度\n"
   ]
  },
  {
   "cell_type": "code",
   "execution_count": 4,
   "metadata": {},
   "outputs": [],
   "source": [
    "import turtle\n",
    "turtle.clearscreen()\n",
    "t = turtle.Pen()\n",
    "\n",
    "for x in range(1, 100):\n",
    "    t.forward(x)            # 海龜向前繪線移動x\n",
    "    t.right(91)             # 海龜方向右轉91度\n"
   ]
  },
  {
   "cell_type": "markdown",
   "metadata": {},
   "source": [
    "### 控制畫筆色與粗細\n",
    "\n"
   ]
  },
  {
   "cell_type": "markdown",
   "metadata": {},
   "source": [
    "\n",
    "用 color() 來更換顏色\n"
   ]
  },
  {
   "cell_type": "code",
   "execution_count": 60,
   "metadata": {},
   "outputs": [],
   "source": [
    "t.color('red')\n",
    "t.pensize(3)\n",
    "t.forward(150)\n",
    "t.right(90)\n",
    "t.forward(150)\n",
    "t.right(90)\n",
    "t.forward(150)\n",
    "t.right(90)\n",
    "t.forward(150)"
   ]
  },
  {
   "cell_type": "markdown",
   "metadata": {},
   "source": [
    "\n",
    "用 pensize() 來更改畫筆粗細"
   ]
  },
  {
   "cell_type": "code",
   "execution_count": 61,
   "metadata": {},
   "outputs": [],
   "source": [
    "import turtle\n",
    "\n",
    "turtle.clearscreen() # 清除螢幕\n",
    "\n",
    "t.color('blue')\n",
    "    \n",
    "t.pensize(5)\n",
    "t.forward(150)\n",
    "t.right(90)\n",
    "t.forward(150)\n",
    "t.right(90)\n",
    "t.forward(150)\n",
    "t.right(90)\n",
    "t.forward(150)\n",
    "t.right(90)"
   ]
  },
  {
   "cell_type": "code",
   "execution_count": 62,
   "metadata": {},
   "outputs": [],
   "source": [
    "import turtle\n",
    "turtle.clearscreen()\n",
    "t = turtle.Pen()\n",
    "t.pensize(5)                        # 畫筆寬度\n",
    "colorValue = 1.0\n",
    "colorStep = colorValue / 36\n",
    "for x in range(1, 37):\n",
    "    colorValue -= colorStep\n",
    "    t.color(0.5, 1, colorValue)     # 色彩調整\n",
    "    t.forward(100)                  # 海龜向前繪線移動100\n",
    "    t.left(90)                      # 海龜方向左轉90度\n",
    "    t.forward(100)\n",
    "    t.left(90)\n",
    "    t.forward(100)\n",
    "    t.left(90)\n",
    "    t.forward(100)\n",
    "    t.left(100)                     # 海龜方向左轉100度\n"
   ]
  },
  {
   "cell_type": "code",
   "execution_count": 63,
   "metadata": {},
   "outputs": [],
   "source": [
    "import turtle\n",
    "turtle.clearscreen()\n",
    "t = turtle.Pen()\n",
    "colorsList = ['red','orange','yellow','green','blue','cyan','purple','violet']\n",
    "tWidth = 1                          # 最初畫筆寬度\n",
    "for x in range(1, 41):\n",
    "    t.color(colorsList[x % 8])      # 選擇畫筆顏色\n",
    "    t.forward(2 + x * 5)            # 每次移動距離\n",
    "    t.right(45)                     # 每次旋轉角度\n",
    "    tWidth += x * 0.05              # 每次畫筆寬度遞增    \n",
    "    t.width(tWidth)\n",
    " \n"
   ]
  },
  {
   "cell_type": "markdown",
   "metadata": {},
   "source": [
    "\n",
    "#### 圓、弧或多邊形\n",
    "\n"
   ]
  },
  {
   "cell_type": "markdown",
   "metadata": {},
   "source": [
    "畫四個圓"
   ]
  },
  {
   "cell_type": "code",
   "execution_count": 92,
   "metadata": {},
   "outputs": [],
   "source": [
    "import turtle\n",
    "turtle.clearscreen()\n",
    "t = turtle.Pen()\n",
    "t.circle(50)            # 繪製第1個左上方圓\n",
    "t.circle(-50)           # 繪製第2個左下方圓\n",
    "t.forward(100)\n",
    "t.circle(50)            # 繪製第3個右上方圓\n",
    "t.circle(-50)           # 繪製第4個右下方圓\n"
   ]
  },
  {
   "cell_type": "markdown",
   "metadata": {},
   "source": [
    "\n",
    "\n",
    "畫個圓"
   ]
  },
  {
   "cell_type": "code",
   "execution_count": 93,
   "metadata": {},
   "outputs": [],
   "source": [
    "import turtle\n",
    "turtle.clearscreen()\n",
    "t = turtle.Pen()\n",
    "t.circle(100)            "
   ]
  },
  {
   "cell_type": "markdown",
   "metadata": {},
   "source": [
    "移動畫筆\n",
    "加上一個小圈圈"
   ]
  },
  {
   "cell_type": "code",
   "execution_count": 94,
   "metadata": {},
   "outputs": [],
   "source": [
    "\n",
    "t.up()\n",
    "t.left(90)\n",
    "t.forward(145)\n",
    "t.left(90)\n",
    "t.forward(40)\n",
    "t.down()\n",
    "t.circle(25)"
   ]
  },
  {
   "cell_type": "markdown",
   "metadata": {},
   "source": [
    "移動畫筆\n",
    "加上另一個小圈圈"
   ]
  },
  {
   "cell_type": "code",
   "execution_count": 95,
   "metadata": {},
   "outputs": [],
   "source": [
    "t.right(180)\n",
    "t.up()\n",
    "t.forward(80)\n",
    "t.right(180)\n",
    "t.down()\n",
    "t.circle(25)"
   ]
  },
  {
   "cell_type": "markdown",
   "metadata": {},
   "source": [
    "#### 同心圓\n",
    "\n"
   ]
  },
  {
   "cell_type": "code",
   "execution_count": 98,
   "metadata": {},
   "outputs": [],
   "source": [
    "import turtle\n",
    "turtle.clearscreen()\n",
    "t = turtle.Pen()\n",
    "step = 10                # 每次增加距離\n",
    "for r in range(10, 200, step):\n",
    "    t.circle(r)         # 繪製圓   \n",
    "    t.penup()           # 將筆提起\n",
    "    t.right(90)         # 方向往下\n",
    "    t.forward(step)     # 移動海龜位置起繪點\n",
    "    t.right(270)        # 方向往右\n",
    "    t.pendown()         # 將筆放下準備繪製\n"
   ]
  },
  {
   "cell_type": "markdown",
   "metadata": {},
   "source": [
    "\n",
    "#### 弧形\n",
    "\n"
   ]
  },
  {
   "cell_type": "code",
   "execution_count": 102,
   "metadata": {},
   "outputs": [],
   "source": [
    "import turtle\n",
    "\n",
    "turtle.clearscreen()\n",
    "\n",
    "t = turtle.Pen()\n",
    "step = 5                        # 每次增加距離\n",
    "for r in range(10, 90, step):\n",
    "  \n",
    "    t.circle(r, 90 + r*2)       # 繪製圓   \n",
    "    t.penup()                   # 將筆提起\n",
    "    t.home()                    # 海龜回到原點(0,0)\n",
    "    t.pendown()                 # 將筆放下準備繪製\n"
   ]
  },
  {
   "cell_type": "markdown",
   "metadata": {},
   "source": [
    "\n",
    "#### 用 pencolor 加上顏色\n",
    "\n"
   ]
  },
  {
   "cell_type": "code",
   "execution_count": 5,
   "metadata": {},
   "outputs": [],
   "source": [
    "import turtle \n",
    "\n",
    "\n",
    "turtle.clearscreen()\n",
    "\n",
    "t = turtle.Pen()\n",
    "\n",
    "\n",
    "t.pencolor(\"blue\")\n",
    "\n",
    "for i in range(50):\n",
    "    t.forward(50)\n",
    "    t.left(123) # Let's go counterclockwise this time \n",
    "    \n",
    "t.pencolor(\"red\")\n",
    "for i in range(50):\n",
    "    t.forward(100)\n",
    "    t.left(123)\n",
    "    "
   ]
  },
  {
   "cell_type": "markdown",
   "metadata": {},
   "source": [
    "#### 用  width 設定畫筆粗細\n"
   ]
  },
  {
   "cell_type": "code",
   "execution_count": 103,
   "metadata": {},
   "outputs": [],
   "source": [
    "import turtle\n",
    "\n",
    "turtle.clearscreen()\n",
    "\n",
    "t = turtle.Pen()\n",
    "colors = ['red','orange','yellow','green','blue','cyan','purple','violet']\n",
    "step = 10                       # 每次增加距離\n",
    "twidth = 0                      # 最初寬度0\n",
    "for r in range(1, 11):\n",
    "    t.color(colors[r % 8])      # 選畫筆顏色\n",
    "    twidth += 1                 # 每次迴圈寬度加1\n",
    "    t.width(twidth)             # 設定寬度\n",
    "    t.circle(r*step)            # 繪製圓   \n",
    "    t.penup()                   # 將筆關閉\n",
    "    t.right(90)                 # 方向往下\n",
    "    t.forward(step)             # 移動海龜位置起繪點\n",
    "    t.right(270)                # 方向往右\n",
    "    t.pendown()                 # 將筆開啟準備繪製\n"
   ]
  },
  {
   "cell_type": "markdown",
   "metadata": {},
   "source": [
    "#### 變化圖\n"
   ]
  },
  {
   "cell_type": "code",
   "execution_count": 105,
   "metadata": {},
   "outputs": [],
   "source": [
    "import turtle\n",
    "\n",
    "turtle.clearscreen()\n",
    "t = turtle.Pen()\n",
    "t.color('blue')\n",
    "for angle in range(0, 360, 15):\n",
    "    t.setheading(angle)         # 調整海龜方向\n",
    "    t.circle(100)\n"
   ]
  },
  {
   "cell_type": "markdown",
   "metadata": {},
   "source": [
    "\n",
    "#### 多邊形\n",
    "\n"
   ]
  },
  {
   "cell_type": "code",
   "execution_count": 108,
   "metadata": {},
   "outputs": [],
   "source": [
    "import turtle\n",
    "turtle.clearscreen()\n",
    "t = turtle.Pen()\n",
    "\n",
    "t.color('blue')\n",
    "\n",
    "t.circle(50)            # 繪製第1個左上方圓\n",
    "\n",
    "t.color('green')\n",
    "t.circle(-50, steps=3)  # 繪製第2個左下方三角形\n",
    "\n",
    "t.up()                  # 拿起畫筆並移動\n",
    "t.forward(100)\n",
    "t.down()\n",
    "\n",
    "t.color('red')\n",
    "t.circle(50, steps=4)   # 繪製第3個右上方四邊形\n",
    "\n",
    "t.color('violet')\n",
    "t.circle(-50, steps=5)  # 繪製第4個右下方五邊形"
   ]
  },
  {
   "cell_type": "markdown",
   "metadata": {},
   "source": [
    "\n",
    "\n",
    "## 認識與操作海龜影像\n"
   ]
  },
  {
   "cell_type": "markdown",
   "metadata": {},
   "source": [
    "\n",
    "### shape() 與 stamp()\n",
    "\n",
    "在turtle模組內shape(‘turtle’)方法可以海龜呈現, stamp()可在畫布蓋章\n",
    "\n"
   ]
  },
  {
   "cell_type": "code",
   "execution_count": 109,
   "metadata": {},
   "outputs": [],
   "source": [
    "import turtle\n",
    "turtle.clearscreen()\n",
    "\n",
    "t = turtle.Pen()\n",
    "t.color('blue')\n",
    "t.shape('turtle')\n",
    "for angle in range(0, 361, 15):\n",
    "    t.forward(100)\n",
    "    t.stamp()\n",
    "    t.home()\n",
    "    t.seth(angle)         # 調整海龜方向\n"
   ]
  },
  {
   "cell_type": "markdown",
   "metadata": {},
   "source": [
    "\n",
    "### 用 fill() 填滿顏色\n"
   ]
  },
  {
   "cell_type": "code",
   "execution_count": 110,
   "metadata": {},
   "outputs": [],
   "source": [
    "import turtle\n",
    "turtle.clearscreen()\n",
    "t = turtle.Pen()\n",
    "t.color('blue')         # 設定輪廓顏色\n",
    "t.fillcolor('yellow')   # 設定填充顏色\n",
    "t.begin_fill()          # 開始填充\n",
    "t.circle(50)            # 繪製左方圓\n",
    "t.end_fill()            # 結束填充\n",
    "t.forward(100)\n",
    "t.color('red', 'aqua')  # 設定輪廓顏色是red, 填充顏色是aqua\n",
    "t.begin_fill()          # 開始填充\n",
    "t.circle(50)            # 繪製第2個右方圓\n",
    "t.end_fill()            # 結束填充\n"
   ]
  },
  {
   "cell_type": "markdown",
   "metadata": {},
   "source": [
    "\n",
    "### 顏色動畫的設計\n"
   ]
  },
  {
   "cell_type": "markdown",
   "metadata": {},
   "source": [
    "\n",
    "使用 time.sleep 來控制畫圖的時間\n"
   ]
  },
  {
   "cell_type": "code",
   "execution_count": 1,
   "metadata": {},
   "outputs": [],
   "source": [
    "import turtle, time\n",
    "turtle.clearscreen()\n",
    "colorsList = ['green', 'yellow', 'red']\n",
    "\n",
    "t = turtle.Pen()\n",
    "for i in range(0,3):\n",
    "    t.fillcolor(colorsList[i%3])    # 更改色彩\n",
    "    t.begin_fill()                  # 開始填充\n",
    "    t.circle(50)                    # 繪製左方圓\n",
    "    t.end_fill()                    # 結束填充\n",
    "    time.sleep(3)                   # 每隔3秒執行一次迴圈\n"
   ]
  },
  {
   "cell_type": "code",
   "execution_count": null,
   "metadata": {},
   "outputs": [],
   "source": []
  },
  {
   "cell_type": "markdown",
   "metadata": {},
   "source": [
    "\n",
    "## 碎形\n",
    "\n",
    "### Koch 曲線\n",
    "\n"
   ]
  },
  {
   "cell_type": "code",
   "execution_count": 9,
   "metadata": {},
   "outputs": [],
   "source": [
    "def draw(t, length, loop):\n",
    "    leng = length / 3;\n",
    "    if loop == 0:\n",
    "        return\n",
    "    elif loop == 1:\n",
    "        dr(t, length)\n",
    "        return\n",
    "        \n",
    "    if loop == 2:\n",
    "        dr(t, leng)\n",
    "    else:\n",
    "        draw(t, leng, loop-1)\n",
    "    t.left(angle)\n",
    "    if loop == 2:\n",
    "        dr(t, leng)\n",
    "    else:\n",
    "        draw(t, leng, loop-1)\n",
    "    t.right(angle * 2)\n",
    "    if loop == 2:\n",
    "        dr(t, leng)\n",
    "    else:\n",
    "        draw(t, leng, loop-1)\n",
    "    t.left(angle)\n",
    "    if loop == 2:\n",
    "        dr(t, leng)\n",
    "    else:\n",
    "        draw(t, leng, loop-1)\n",
    "        \n",
    "def dr(t, length):\n",
    "    t.forward(length)\n",
    "    t.left(angle)\n",
    "    t.forward(length)\n",
    "    t.right(angle * 2)\n",
    "    t.forward(length)\n",
    "    t.left(angle)\n",
    "    t.forward(length)\n",
    "    \n",
    "import turtle\n",
    "\n",
    "turtle.clearscreen()\n",
    "\n",
    "turtle.penup()\n",
    "turtle.back(300)\n",
    "turtle.pendown()\n"
   ]
  },
  {
   "cell_type": "markdown",
   "metadata": {},
   "source": [
    "#### angle=60, loop=1"
   ]
  },
  {
   "cell_type": "code",
   "execution_count": 3,
   "metadata": {},
   "outputs": [],
   "source": [
    "turtle.clearscreen()\n",
    "angle = 60\n",
    "draw(turtle, length = 200, loop = 1)"
   ]
  },
  {
   "cell_type": "markdown",
   "metadata": {},
   "source": [
    "#### angle=60, loop=2"
   ]
  },
  {
   "cell_type": "code",
   "execution_count": 4,
   "metadata": {},
   "outputs": [],
   "source": [
    "\n",
    "turtle.clearscreen()\n",
    "\n",
    "\n",
    "angle = 60\n",
    "draw(turtle, length = 200, loop = 2)"
   ]
  },
  {
   "cell_type": "markdown",
   "metadata": {},
   "source": [
    "#### 一起來\n"
   ]
  },
  {
   "cell_type": "code",
   "execution_count": 6,
   "metadata": {},
   "outputs": [
    {
     "ename": "KeyboardInterrupt",
     "evalue": "",
     "output_type": "error",
     "traceback": [
      "\u001b[0;31m---------------------------------------------------------------------------\u001b[0m",
      "\u001b[0;31mKeyboardInterrupt\u001b[0m                         Traceback (most recent call last)",
      "\u001b[0;32m<ipython-input-6-e162eaefc862>\u001b[0m in \u001b[0;36m<module>\u001b[0;34m\u001b[0m\n\u001b[1;32m      7\u001b[0m     \u001b[0mturtle\u001b[0m\u001b[0;34m.\u001b[0m\u001b[0mclearscreen\u001b[0m\u001b[0;34m(\u001b[0m\u001b[0;34m)\u001b[0m\u001b[0;34m\u001b[0m\u001b[0;34m\u001b[0m\u001b[0m\n\u001b[1;32m      8\u001b[0m     \u001b[0mturtle\u001b[0m\u001b[0;34m.\u001b[0m\u001b[0mwrite\u001b[0m\u001b[0;34m(\u001b[0m\u001b[0mi\u001b[0m\u001b[0;34m)\u001b[0m\u001b[0;34m\u001b[0m\u001b[0;34m\u001b[0m\u001b[0m\n\u001b[0;32m----> 9\u001b[0;31m     \u001b[0mdraw\u001b[0m\u001b[0;34m(\u001b[0m\u001b[0mturtle\u001b[0m\u001b[0;34m,\u001b[0m \u001b[0mlength\u001b[0m \u001b[0;34m=\u001b[0m \u001b[0;36m200\u001b[0m\u001b[0;34m,\u001b[0m \u001b[0mloop\u001b[0m \u001b[0;34m=\u001b[0m \u001b[0mi\u001b[0m\u001b[0;34m)\u001b[0m\u001b[0;34m\u001b[0m\u001b[0;34m\u001b[0m\u001b[0m\n\u001b[0m\u001b[1;32m     10\u001b[0m     \u001b[0mtime\u001b[0m\u001b[0;34m.\u001b[0m\u001b[0msleep\u001b[0m\u001b[0;34m(\u001b[0m\u001b[0;36m1\u001b[0m\u001b[0;34m)\u001b[0m\u001b[0;34m\u001b[0m\u001b[0;34m\u001b[0m\u001b[0m\n",
      "\u001b[0;32m<ipython-input-2-d05b09e04baf>\u001b[0m in \u001b[0;36mdraw\u001b[0;34m(t, length, loop)\u001b[0m\n\u001b[1;32m     10\u001b[0m         \u001b[0mdr\u001b[0m\u001b[0;34m(\u001b[0m\u001b[0mt\u001b[0m\u001b[0;34m,\u001b[0m \u001b[0mleng\u001b[0m\u001b[0;34m)\u001b[0m\u001b[0;34m\u001b[0m\u001b[0;34m\u001b[0m\u001b[0m\n\u001b[1;32m     11\u001b[0m     \u001b[0;32melse\u001b[0m\u001b[0;34m:\u001b[0m\u001b[0;34m\u001b[0m\u001b[0;34m\u001b[0m\u001b[0m\n\u001b[0;32m---> 12\u001b[0;31m         \u001b[0mdraw\u001b[0m\u001b[0;34m(\u001b[0m\u001b[0mt\u001b[0m\u001b[0;34m,\u001b[0m \u001b[0mleng\u001b[0m\u001b[0;34m,\u001b[0m \u001b[0mloop\u001b[0m\u001b[0;34m-\u001b[0m\u001b[0;36m1\u001b[0m\u001b[0;34m)\u001b[0m\u001b[0;34m\u001b[0m\u001b[0;34m\u001b[0m\u001b[0m\n\u001b[0m\u001b[1;32m     13\u001b[0m     \u001b[0mt\u001b[0m\u001b[0;34m.\u001b[0m\u001b[0mleft\u001b[0m\u001b[0;34m(\u001b[0m\u001b[0mangle\u001b[0m\u001b[0;34m)\u001b[0m\u001b[0;34m\u001b[0m\u001b[0;34m\u001b[0m\u001b[0m\n\u001b[1;32m     14\u001b[0m     \u001b[0;32mif\u001b[0m \u001b[0mloop\u001b[0m \u001b[0;34m==\u001b[0m \u001b[0;36m2\u001b[0m\u001b[0;34m:\u001b[0m\u001b[0;34m\u001b[0m\u001b[0;34m\u001b[0m\u001b[0m\n",
      "\u001b[0;32m<ipython-input-2-d05b09e04baf>\u001b[0m in \u001b[0;36mdraw\u001b[0;34m(t, length, loop)\u001b[0m\n\u001b[1;32m     10\u001b[0m         \u001b[0mdr\u001b[0m\u001b[0;34m(\u001b[0m\u001b[0mt\u001b[0m\u001b[0;34m,\u001b[0m \u001b[0mleng\u001b[0m\u001b[0;34m)\u001b[0m\u001b[0;34m\u001b[0m\u001b[0;34m\u001b[0m\u001b[0m\n\u001b[1;32m     11\u001b[0m     \u001b[0;32melse\u001b[0m\u001b[0;34m:\u001b[0m\u001b[0;34m\u001b[0m\u001b[0;34m\u001b[0m\u001b[0m\n\u001b[0;32m---> 12\u001b[0;31m         \u001b[0mdraw\u001b[0m\u001b[0;34m(\u001b[0m\u001b[0mt\u001b[0m\u001b[0;34m,\u001b[0m \u001b[0mleng\u001b[0m\u001b[0;34m,\u001b[0m \u001b[0mloop\u001b[0m\u001b[0;34m-\u001b[0m\u001b[0;36m1\u001b[0m\u001b[0;34m)\u001b[0m\u001b[0;34m\u001b[0m\u001b[0;34m\u001b[0m\u001b[0m\n\u001b[0m\u001b[1;32m     13\u001b[0m     \u001b[0mt\u001b[0m\u001b[0;34m.\u001b[0m\u001b[0mleft\u001b[0m\u001b[0;34m(\u001b[0m\u001b[0mangle\u001b[0m\u001b[0;34m)\u001b[0m\u001b[0;34m\u001b[0m\u001b[0;34m\u001b[0m\u001b[0m\n\u001b[1;32m     14\u001b[0m     \u001b[0;32mif\u001b[0m \u001b[0mloop\u001b[0m \u001b[0;34m==\u001b[0m \u001b[0;36m2\u001b[0m\u001b[0;34m:\u001b[0m\u001b[0;34m\u001b[0m\u001b[0;34m\u001b[0m\u001b[0m\n",
      "\u001b[0;32m<ipython-input-2-d05b09e04baf>\u001b[0m in \u001b[0;36mdraw\u001b[0;34m(t, length, loop)\u001b[0m\n\u001b[1;32m     25\u001b[0m         \u001b[0mdr\u001b[0m\u001b[0;34m(\u001b[0m\u001b[0mt\u001b[0m\u001b[0;34m,\u001b[0m \u001b[0mleng\u001b[0m\u001b[0;34m)\u001b[0m\u001b[0;34m\u001b[0m\u001b[0;34m\u001b[0m\u001b[0m\n\u001b[1;32m     26\u001b[0m     \u001b[0;32melse\u001b[0m\u001b[0;34m:\u001b[0m\u001b[0;34m\u001b[0m\u001b[0;34m\u001b[0m\u001b[0m\n\u001b[0;32m---> 27\u001b[0;31m         \u001b[0mdraw\u001b[0m\u001b[0;34m(\u001b[0m\u001b[0mt\u001b[0m\u001b[0;34m,\u001b[0m \u001b[0mleng\u001b[0m\u001b[0;34m,\u001b[0m \u001b[0mloop\u001b[0m\u001b[0;34m-\u001b[0m\u001b[0;36m1\u001b[0m\u001b[0;34m)\u001b[0m\u001b[0;34m\u001b[0m\u001b[0;34m\u001b[0m\u001b[0m\n\u001b[0m\u001b[1;32m     28\u001b[0m \u001b[0;34m\u001b[0m\u001b[0m\n\u001b[1;32m     29\u001b[0m \u001b[0;32mdef\u001b[0m \u001b[0mdr\u001b[0m\u001b[0;34m(\u001b[0m\u001b[0mt\u001b[0m\u001b[0;34m,\u001b[0m \u001b[0mlength\u001b[0m\u001b[0;34m)\u001b[0m\u001b[0;34m:\u001b[0m\u001b[0;34m\u001b[0m\u001b[0;34m\u001b[0m\u001b[0m\n",
      "\u001b[0;32m<ipython-input-2-d05b09e04baf>\u001b[0m in \u001b[0;36mdraw\u001b[0;34m(t, length, loop)\u001b[0m\n\u001b[1;32m     20\u001b[0m         \u001b[0mdr\u001b[0m\u001b[0;34m(\u001b[0m\u001b[0mt\u001b[0m\u001b[0;34m,\u001b[0m \u001b[0mleng\u001b[0m\u001b[0;34m)\u001b[0m\u001b[0;34m\u001b[0m\u001b[0;34m\u001b[0m\u001b[0m\n\u001b[1;32m     21\u001b[0m     \u001b[0;32melse\u001b[0m\u001b[0;34m:\u001b[0m\u001b[0;34m\u001b[0m\u001b[0;34m\u001b[0m\u001b[0m\n\u001b[0;32m---> 22\u001b[0;31m         \u001b[0mdraw\u001b[0m\u001b[0;34m(\u001b[0m\u001b[0mt\u001b[0m\u001b[0;34m,\u001b[0m \u001b[0mleng\u001b[0m\u001b[0;34m,\u001b[0m \u001b[0mloop\u001b[0m\u001b[0;34m-\u001b[0m\u001b[0;36m1\u001b[0m\u001b[0;34m)\u001b[0m\u001b[0;34m\u001b[0m\u001b[0;34m\u001b[0m\u001b[0m\n\u001b[0m\u001b[1;32m     23\u001b[0m     \u001b[0mt\u001b[0m\u001b[0;34m.\u001b[0m\u001b[0mleft\u001b[0m\u001b[0;34m(\u001b[0m\u001b[0mangle\u001b[0m\u001b[0;34m)\u001b[0m\u001b[0;34m\u001b[0m\u001b[0;34m\u001b[0m\u001b[0m\n\u001b[1;32m     24\u001b[0m     \u001b[0;32mif\u001b[0m \u001b[0mloop\u001b[0m \u001b[0;34m==\u001b[0m \u001b[0;36m2\u001b[0m\u001b[0;34m:\u001b[0m\u001b[0;34m\u001b[0m\u001b[0;34m\u001b[0m\u001b[0m\n",
      "\u001b[0;32m<ipython-input-2-d05b09e04baf>\u001b[0m in \u001b[0;36mdraw\u001b[0;34m(t, length, loop)\u001b[0m\n\u001b[1;32m     15\u001b[0m         \u001b[0mdr\u001b[0m\u001b[0;34m(\u001b[0m\u001b[0mt\u001b[0m\u001b[0;34m,\u001b[0m \u001b[0mleng\u001b[0m\u001b[0;34m)\u001b[0m\u001b[0;34m\u001b[0m\u001b[0;34m\u001b[0m\u001b[0m\n\u001b[1;32m     16\u001b[0m     \u001b[0;32melse\u001b[0m\u001b[0;34m:\u001b[0m\u001b[0;34m\u001b[0m\u001b[0;34m\u001b[0m\u001b[0m\n\u001b[0;32m---> 17\u001b[0;31m         \u001b[0mdraw\u001b[0m\u001b[0;34m(\u001b[0m\u001b[0mt\u001b[0m\u001b[0;34m,\u001b[0m \u001b[0mleng\u001b[0m\u001b[0;34m,\u001b[0m \u001b[0mloop\u001b[0m\u001b[0;34m-\u001b[0m\u001b[0;36m1\u001b[0m\u001b[0;34m)\u001b[0m\u001b[0;34m\u001b[0m\u001b[0;34m\u001b[0m\u001b[0m\n\u001b[0m\u001b[1;32m     18\u001b[0m     \u001b[0mt\u001b[0m\u001b[0;34m.\u001b[0m\u001b[0mright\u001b[0m\u001b[0;34m(\u001b[0m\u001b[0mangle\u001b[0m \u001b[0;34m*\u001b[0m \u001b[0;36m2\u001b[0m\u001b[0;34m)\u001b[0m\u001b[0;34m\u001b[0m\u001b[0;34m\u001b[0m\u001b[0m\n\u001b[1;32m     19\u001b[0m     \u001b[0;32mif\u001b[0m \u001b[0mloop\u001b[0m \u001b[0;34m==\u001b[0m \u001b[0;36m2\u001b[0m\u001b[0;34m:\u001b[0m\u001b[0;34m\u001b[0m\u001b[0;34m\u001b[0m\u001b[0m\n",
      "\u001b[0;32m<ipython-input-2-d05b09e04baf>\u001b[0m in \u001b[0;36mdraw\u001b[0;34m(t, length, loop)\u001b[0m\n\u001b[1;32m     13\u001b[0m     \u001b[0mt\u001b[0m\u001b[0;34m.\u001b[0m\u001b[0mleft\u001b[0m\u001b[0;34m(\u001b[0m\u001b[0mangle\u001b[0m\u001b[0;34m)\u001b[0m\u001b[0;34m\u001b[0m\u001b[0;34m\u001b[0m\u001b[0m\n\u001b[1;32m     14\u001b[0m     \u001b[0;32mif\u001b[0m \u001b[0mloop\u001b[0m \u001b[0;34m==\u001b[0m \u001b[0;36m2\u001b[0m\u001b[0;34m:\u001b[0m\u001b[0;34m\u001b[0m\u001b[0;34m\u001b[0m\u001b[0m\n\u001b[0;32m---> 15\u001b[0;31m         \u001b[0mdr\u001b[0m\u001b[0;34m(\u001b[0m\u001b[0mt\u001b[0m\u001b[0;34m,\u001b[0m \u001b[0mleng\u001b[0m\u001b[0;34m)\u001b[0m\u001b[0;34m\u001b[0m\u001b[0;34m\u001b[0m\u001b[0m\n\u001b[0m\u001b[1;32m     16\u001b[0m     \u001b[0;32melse\u001b[0m\u001b[0;34m:\u001b[0m\u001b[0;34m\u001b[0m\u001b[0;34m\u001b[0m\u001b[0m\n\u001b[1;32m     17\u001b[0m         \u001b[0mdraw\u001b[0m\u001b[0;34m(\u001b[0m\u001b[0mt\u001b[0m\u001b[0;34m,\u001b[0m \u001b[0mleng\u001b[0m\u001b[0;34m,\u001b[0m \u001b[0mloop\u001b[0m\u001b[0;34m-\u001b[0m\u001b[0;36m1\u001b[0m\u001b[0;34m)\u001b[0m\u001b[0;34m\u001b[0m\u001b[0;34m\u001b[0m\u001b[0m\n",
      "\u001b[0;32m<ipython-input-2-d05b09e04baf>\u001b[0m in \u001b[0;36mdr\u001b[0;34m(t, length)\u001b[0m\n\u001b[1;32m     31\u001b[0m     \u001b[0mt\u001b[0m\u001b[0;34m.\u001b[0m\u001b[0mleft\u001b[0m\u001b[0;34m(\u001b[0m\u001b[0mangle\u001b[0m\u001b[0;34m)\u001b[0m\u001b[0;34m\u001b[0m\u001b[0;34m\u001b[0m\u001b[0m\n\u001b[1;32m     32\u001b[0m     \u001b[0mt\u001b[0m\u001b[0;34m.\u001b[0m\u001b[0mforward\u001b[0m\u001b[0;34m(\u001b[0m\u001b[0mlength\u001b[0m\u001b[0;34m)\u001b[0m\u001b[0;34m\u001b[0m\u001b[0;34m\u001b[0m\u001b[0m\n\u001b[0;32m---> 33\u001b[0;31m     \u001b[0mt\u001b[0m\u001b[0;34m.\u001b[0m\u001b[0mright\u001b[0m\u001b[0;34m(\u001b[0m\u001b[0mangle\u001b[0m \u001b[0;34m*\u001b[0m \u001b[0;36m2\u001b[0m\u001b[0;34m)\u001b[0m\u001b[0;34m\u001b[0m\u001b[0;34m\u001b[0m\u001b[0m\n\u001b[0m\u001b[1;32m     34\u001b[0m     \u001b[0mt\u001b[0m\u001b[0;34m.\u001b[0m\u001b[0mforward\u001b[0m\u001b[0;34m(\u001b[0m\u001b[0mlength\u001b[0m\u001b[0;34m)\u001b[0m\u001b[0;34m\u001b[0m\u001b[0;34m\u001b[0m\u001b[0m\n\u001b[1;32m     35\u001b[0m     \u001b[0mt\u001b[0m\u001b[0;34m.\u001b[0m\u001b[0mleft\u001b[0m\u001b[0;34m(\u001b[0m\u001b[0mangle\u001b[0m\u001b[0;34m)\u001b[0m\u001b[0;34m\u001b[0m\u001b[0;34m\u001b[0m\u001b[0m\n",
      "\u001b[0;32m~/opt/anaconda3/lib/python3.7/turtle.py\u001b[0m in \u001b[0;36mright\u001b[0;34m(angle)\u001b[0m\n",
      "\u001b[0;32m~/opt/anaconda3/lib/python3.7/turtle.py\u001b[0m in \u001b[0;36mright\u001b[0;34m(self, angle)\u001b[0m\n\u001b[1;32m   1676\u001b[0m         \u001b[0;36m337.0\u001b[0m\u001b[0;34m\u001b[0m\u001b[0;34m\u001b[0m\u001b[0m\n\u001b[1;32m   1677\u001b[0m         \"\"\"\n\u001b[0;32m-> 1678\u001b[0;31m         \u001b[0mself\u001b[0m\u001b[0;34m.\u001b[0m\u001b[0m_rotate\u001b[0m\u001b[0;34m(\u001b[0m\u001b[0;34m-\u001b[0m\u001b[0mangle\u001b[0m\u001b[0;34m)\u001b[0m\u001b[0;34m\u001b[0m\u001b[0;34m\u001b[0m\u001b[0m\n\u001b[0m\u001b[1;32m   1679\u001b[0m \u001b[0;34m\u001b[0m\u001b[0m\n\u001b[1;32m   1680\u001b[0m     \u001b[0;32mdef\u001b[0m \u001b[0mleft\u001b[0m\u001b[0;34m(\u001b[0m\u001b[0mself\u001b[0m\u001b[0;34m,\u001b[0m \u001b[0mangle\u001b[0m\u001b[0;34m)\u001b[0m\u001b[0;34m:\u001b[0m\u001b[0;34m\u001b[0m\u001b[0;34m\u001b[0m\u001b[0m\n",
      "\u001b[0;32m~/opt/anaconda3/lib/python3.7/turtle.py\u001b[0m in \u001b[0;36m_rotate\u001b[0;34m(self, angle)\u001b[0m\n\u001b[1;32m   3276\u001b[0m                 \u001b[0mself\u001b[0m\u001b[0;34m.\u001b[0m\u001b[0m_update\u001b[0m\u001b[0;34m(\u001b[0m\u001b[0;34m)\u001b[0m\u001b[0;34m\u001b[0m\u001b[0;34m\u001b[0m\u001b[0m\n\u001b[1;32m   3277\u001b[0m         \u001b[0mself\u001b[0m\u001b[0;34m.\u001b[0m\u001b[0m_orient\u001b[0m \u001b[0;34m=\u001b[0m \u001b[0mneworient\u001b[0m\u001b[0;34m\u001b[0m\u001b[0;34m\u001b[0m\u001b[0m\n\u001b[0;32m-> 3278\u001b[0;31m         \u001b[0mself\u001b[0m\u001b[0;34m.\u001b[0m\u001b[0m_update\u001b[0m\u001b[0;34m(\u001b[0m\u001b[0;34m)\u001b[0m\u001b[0;34m\u001b[0m\u001b[0;34m\u001b[0m\u001b[0m\n\u001b[0m\u001b[1;32m   3279\u001b[0m \u001b[0;34m\u001b[0m\u001b[0m\n\u001b[1;32m   3280\u001b[0m     \u001b[0;32mdef\u001b[0m \u001b[0m_newLine\u001b[0m\u001b[0;34m(\u001b[0m\u001b[0mself\u001b[0m\u001b[0;34m,\u001b[0m \u001b[0musePos\u001b[0m\u001b[0;34m=\u001b[0m\u001b[0;32mTrue\u001b[0m\u001b[0;34m)\u001b[0m\u001b[0;34m:\u001b[0m\u001b[0;34m\u001b[0m\u001b[0;34m\u001b[0m\u001b[0m\n",
      "\u001b[0;32m~/opt/anaconda3/lib/python3.7/turtle.py\u001b[0m in \u001b[0;36m_update\u001b[0;34m(self)\u001b[0m\n\u001b[1;32m   2661\u001b[0m             \u001b[0mself\u001b[0m\u001b[0;34m.\u001b[0m\u001b[0m_drawturtle\u001b[0m\u001b[0;34m(\u001b[0m\u001b[0;34m)\u001b[0m\u001b[0;34m\u001b[0m\u001b[0;34m\u001b[0m\u001b[0m\n\u001b[1;32m   2662\u001b[0m             \u001b[0mscreen\u001b[0m\u001b[0;34m.\u001b[0m\u001b[0m_update\u001b[0m\u001b[0;34m(\u001b[0m\u001b[0;34m)\u001b[0m                  \u001b[0;31m# TurtleScreenBase\u001b[0m\u001b[0;34m\u001b[0m\u001b[0;34m\u001b[0m\u001b[0m\n\u001b[0;32m-> 2663\u001b[0;31m             \u001b[0mscreen\u001b[0m\u001b[0;34m.\u001b[0m\u001b[0m_delay\u001b[0m\u001b[0;34m(\u001b[0m\u001b[0mscreen\u001b[0m\u001b[0;34m.\u001b[0m\u001b[0m_delayvalue\u001b[0m\u001b[0;34m)\u001b[0m \u001b[0;31m# TurtleScreenBase\u001b[0m\u001b[0;34m\u001b[0m\u001b[0;34m\u001b[0m\u001b[0m\n\u001b[0m\u001b[1;32m   2664\u001b[0m         \u001b[0;32melse\u001b[0m\u001b[0;34m:\u001b[0m\u001b[0;34m\u001b[0m\u001b[0;34m\u001b[0m\u001b[0m\n\u001b[1;32m   2665\u001b[0m             \u001b[0mself\u001b[0m\u001b[0;34m.\u001b[0m\u001b[0m_update_data\u001b[0m\u001b[0;34m(\u001b[0m\u001b[0;34m)\u001b[0m\u001b[0;34m\u001b[0m\u001b[0;34m\u001b[0m\u001b[0m\n",
      "\u001b[0;32m~/opt/anaconda3/lib/python3.7/turtle.py\u001b[0m in \u001b[0;36m_delay\u001b[0;34m(self, delay)\u001b[0m\n\u001b[1;32m    564\u001b[0m     \u001b[0;32mdef\u001b[0m \u001b[0m_delay\u001b[0m\u001b[0;34m(\u001b[0m\u001b[0mself\u001b[0m\u001b[0;34m,\u001b[0m \u001b[0mdelay\u001b[0m\u001b[0;34m)\u001b[0m\u001b[0;34m:\u001b[0m\u001b[0;34m\u001b[0m\u001b[0;34m\u001b[0m\u001b[0m\n\u001b[1;32m    565\u001b[0m         \u001b[0;34m\"\"\"Delay subsequent canvas actions for delay ms.\"\"\"\u001b[0m\u001b[0;34m\u001b[0m\u001b[0;34m\u001b[0m\u001b[0m\n\u001b[0;32m--> 566\u001b[0;31m         \u001b[0mself\u001b[0m\u001b[0;34m.\u001b[0m\u001b[0mcv\u001b[0m\u001b[0;34m.\u001b[0m\u001b[0mafter\u001b[0m\u001b[0;34m(\u001b[0m\u001b[0mdelay\u001b[0m\u001b[0;34m)\u001b[0m\u001b[0;34m\u001b[0m\u001b[0;34m\u001b[0m\u001b[0m\n\u001b[0m\u001b[1;32m    567\u001b[0m \u001b[0;34m\u001b[0m\u001b[0m\n\u001b[1;32m    568\u001b[0m     \u001b[0;32mdef\u001b[0m \u001b[0m_iscolorstring\u001b[0m\u001b[0;34m(\u001b[0m\u001b[0mself\u001b[0m\u001b[0;34m,\u001b[0m \u001b[0mcolor\u001b[0m\u001b[0;34m)\u001b[0m\u001b[0;34m:\u001b[0m\u001b[0;34m\u001b[0m\u001b[0;34m\u001b[0m\u001b[0m\n",
      "\u001b[0;32m~/opt/anaconda3/lib/python3.7/tkinter/__init__.py\u001b[0m in \u001b[0;36mafter\u001b[0;34m(self, ms, func, *args)\u001b[0m\n\u001b[1;32m    742\u001b[0m         \u001b[0;32mif\u001b[0m \u001b[0;32mnot\u001b[0m \u001b[0mfunc\u001b[0m\u001b[0;34m:\u001b[0m\u001b[0;34m\u001b[0m\u001b[0;34m\u001b[0m\u001b[0m\n\u001b[1;32m    743\u001b[0m             \u001b[0;31m# I'd rather use time.sleep(ms*0.001)\u001b[0m\u001b[0;34m\u001b[0m\u001b[0;34m\u001b[0m\u001b[0;34m\u001b[0m\u001b[0m\n\u001b[0;32m--> 744\u001b[0;31m             \u001b[0mself\u001b[0m\u001b[0;34m.\u001b[0m\u001b[0mtk\u001b[0m\u001b[0;34m.\u001b[0m\u001b[0mcall\u001b[0m\u001b[0;34m(\u001b[0m\u001b[0;34m'after'\u001b[0m\u001b[0;34m,\u001b[0m \u001b[0mms\u001b[0m\u001b[0;34m)\u001b[0m\u001b[0;34m\u001b[0m\u001b[0;34m\u001b[0m\u001b[0m\n\u001b[0m\u001b[1;32m    745\u001b[0m             \u001b[0;32mreturn\u001b[0m \u001b[0;32mNone\u001b[0m\u001b[0;34m\u001b[0m\u001b[0;34m\u001b[0m\u001b[0m\n\u001b[1;32m    746\u001b[0m         \u001b[0;32melse\u001b[0m\u001b[0;34m:\u001b[0m\u001b[0;34m\u001b[0m\u001b[0;34m\u001b[0m\u001b[0m\n",
      "\u001b[0;31mKeyboardInterrupt\u001b[0m: "
     ]
    }
   ],
   "source": [
    "import time\n",
    "\n",
    "turtle.clearscreen()\n",
    "angle = 60\n",
    "\n",
    "for i in range(0,5):\n",
    "    turtle.clearscreen()\n",
    "    turtle.write(i)\n",
    "    draw(turtle, length = 200, loop = i)\n",
    "    time.sleep(1)"
   ]
  },
  {
   "cell_type": "markdown",
   "metadata": {},
   "source": [
    "\n",
    "#### 雪花\n"
   ]
  },
  {
   "cell_type": "code",
   "execution_count": 10,
   "metadata": {},
   "outputs": [],
   "source": [
    "import turtle\n",
    "turtle.clearscreen()\n",
    "t = turtle.Pen()\n",
    "\n",
    "t.penup()\n",
    "t.back(300)\n",
    "t.left(90)\n",
    "t.forward(200)\n",
    "t.right(90)\n",
    "t.pendown()\n",
    "\n",
    "\n",
    "angle = 60\n",
    "\n",
    "\n",
    "draw(turtle, length = 120, loop = 3)\n",
    "\n",
    "t.right(120)\n",
    "draw(turtle, length = 120, loop = 3)\n",
    "\n",
    "t.right(120)\n",
    "draw(turtle, length = 120, loop = 3)"
   ]
  },
  {
   "cell_type": "markdown",
   "metadata": {},
   "source": [
    "## Homework\n",
    "\n",
    "\n"
   ]
  },
  {
   "cell_type": "markdown",
   "metadata": {},
   "source": [
    "### HW #1\n",
    "\n",
    "執行以下的 code, 然後在程式碼後面加一道自己的問題, 以及適當的回應\n"
   ]
  },
  {
   "cell_type": "code",
   "execution_count": 12,
   "metadata": {},
   "outputs": [
    {
     "name": "stdout",
     "output_type": "stream",
     "text": [
      "What is 7 X 9?44\n"
     ]
    }
   ],
   "source": [
    "import turtle\n",
    "\n",
    "turtle.clearscreen()\n",
    "\n",
    "tom = turtle.Turtle()\n",
    "tom.shape(\"turtle\")\n",
    "tom.pensize(5)\n",
    "tom.color(\"red\")\n",
    "# ask user for a guess and convert it to a integer (whole number)\n",
    "yourGuess = int(input(\"What is 7 X 9?\"))\n",
    "\n",
    "if yourGuess == 7*9:\n",
    "    tom.write(str(yourGuess) + ' is correct!')\n",
    "# move tom's pen up to back away 30 pixels so the above message can be seen\n",
    "    tom.penup()\n",
    "    tom.backward(20)\n",
    "else:\n",
    "    tom.write('Your answer is incorrect.  It should be: ' +  str(7*9))\n",
    "    tom.penup()\n",
    "    tom.backward(30)\n",
    "\n",
    "# 加上一個自己的問題\n",
    "\n",
    "\n",
    "\n",
    "\n",
    "\n",
    "\n",
    "\n",
    "\n",
    "\n",
    "\n",
    "\n",
    "\n",
    "\n",
    "\n"
   ]
  },
  {
   "cell_type": "markdown",
   "metadata": {},
   "source": [
    "## Homework #2\n",
    "\n",
    "\n",
    "先執行以下的 code, 注意看看如何畫半圓形\n"
   ]
  },
  {
   "cell_type": "code",
   "execution_count": 14,
   "metadata": {},
   "outputs": [],
   "source": [
    "import turtle\n",
    "\n",
    "window = turtle.Screen()\n",
    "window.bgcolor(\"white\")\n",
    "\n",
    "circleturtle = turtle.Turtle()\n",
    "circleturtle.color(\"green\")\n",
    "circleturtle.shape(\"turtle\")\n",
    "\n",
    "#Let's draw a circle!\n",
    "circleturtle.circle(150)\n",
    "\n",
    "#WOW! That's a big circle! How about a smaller one?\n",
    "circleturtle.circle(75)\n",
    "\n",
    "#Nice! What if you face the other way?\n",
    "circleturtle.left(180)\n",
    "circleturtle.circle(150)\n",
    "\n",
    "#So point left to draw it from the top down!\n",
    "#point right to draw it from the bottom up!\n",
    "\n",
    "#What about left and right?\n",
    "circleturtle.left(90) \n",
    "circleturtle.circle(50)\n",
    "#Point down means we draw the circle to the right!\n",
    "circleturtle.right(180)\n",
    "circleturtle.circle(50)\n",
    "#Point up means we draw the circle to the left!\n",
    "\n",
    "#How about half a circle?\n",
    "circleturtle.circle(75, 180)\n",
    "#WOW! That's handy! Let's mirror this on the right\n",
    "#How can we get back the to centre easily?\n",
    "circleturtle.home()\n",
    "#Wait! That drew a line! What if we want to move forward without drawing?\n",
    "circleturtle.penup()\n",
    "circleturtle.forward(150)"
   ]
  },
  {
   "cell_type": "markdown",
   "metadata": {},
   "source": [
    "\n",
    "定義一個名為 halfmoon(r) 的函數, 可以畫出不同半徑的半圓形, \n",
    "\n",
    "畫出來的半圓形的形狀, 要跟以下的 code 一樣:\n"
   ]
  },
  {
   "cell_type": "code",
   "execution_count": 17,
   "metadata": {},
   "outputs": [],
   "source": [
    "\n",
    "import turtle\n",
    "\n",
    "turtle.clearscreen()\n",
    "\n",
    "p  = turtle.Pen()\n",
    "p.color(\"green\")\n",
    "p.shape(\"turtle\")\n",
    "\n",
    "# to draw one half circle:\n",
    "\n",
    "p.circle(75, 180)\n",
    "p.left(90)\n",
    "p.forward(150)\n",
    "  \n"
   ]
  },
  {
   "cell_type": "markdown",
   "metadata": {},
   "source": [
    "do it!\n"
   ]
  },
  {
   "cell_type": "code",
   "execution_count": null,
   "metadata": {},
   "outputs": [],
   "source": [
    "# Write your code here\n",
    "\n",
    "import turtle\n",
    "\n",
    "def halfmoon(r):\n",
    "    \n",
    "    \n",
    "    \n",
    "    \n",
    "    \n",
    "    \n",
    "    \n",
    "#main program    \n",
    "    \n",
    "halfmoon()    "
   ]
  },
  {
   "cell_type": "markdown",
   "metadata": {},
   "source": [
    "\n",
    "### HW #3: 畫一隻小熊\n",
    "\n",
    "\n",
    "定義一個 DrawBear()的函數, 可以畫一隻如下的小熊\n",
    "\n",
    "並把耳朵跟眼睛補滿\n",
    "\n",
    "<img src=\"bearface.png\">\n"
   ]
  },
  {
   "cell_type": "code",
   "execution_count": null,
   "metadata": {},
   "outputs": [],
   "source": [
    "#Import Turtle#\n",
    "import turtle\n",
    "\n",
    "#Define a Triangle Function\n",
    "\n",
    "#Define a DrawABear function!\n",
    "  \n",
    "  #Draw the head\n",
    "  #Draw the nose (Triangle Function) Colour!\n",
    "  #Draw the eyes - Colour!\n",
    "  #Draw the ears\n",
    "  #Draw the mouth - Colour!\n",
    "  \n",
    "#Call the function\n",
    "function()"
   ]
  },
  {
   "cell_type": "markdown",
   "metadata": {},
   "source": [
    "\n",
    "### HW-4 流程圖\n",
    "\n",
    "\n",
    "上面三個太簡單了對吧?\n",
    "\n",
    "畫個流程圖出來:\n",
    "\n",
    "<img src=\"flowchart_for.png\">"
   ]
  },
  {
   "cell_type": "code",
   "execution_count": null,
   "metadata": {},
   "outputs": [],
   "source": [
    "# Write your code here\n",
    "\n",
    "\n",
    "\n"
   ]
  }
 ],
 "metadata": {
  "kernelspec": {
   "display_name": "Python 3",
   "language": "python",
   "name": "python3"
  },
  "language_info": {
   "codemirror_mode": {
    "name": "ipython",
    "version": 3
   },
   "file_extension": ".py",
   "mimetype": "text/x-python",
   "name": "python",
   "nbconvert_exporter": "python",
   "pygments_lexer": "ipython3",
   "version": "3.7.7"
  }
 },
 "nbformat": 4,
 "nbformat_minor": 4
}
